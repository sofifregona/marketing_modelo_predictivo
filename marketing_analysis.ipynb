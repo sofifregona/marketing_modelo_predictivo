{
  "cells": [
    {
      "cell_type": "markdown",
      "metadata": {
        "id": "T8pVlFvmNqJ2"
      },
      "source": [
        "# **Análisis de Superstore para campaña de marketing**"
      ]
    },
    {
      "cell_type": "markdown",
      "metadata": {
        "id": "uk2axUT6NkGX"
      },
      "source": [
        "  ## **Abstract**\n"
      ]
    },
    {
      "cell_type": "markdown",
      "metadata": {
        "id": "6GP6_U4VLVMJ"
      },
      "source": [
        "Con el advenimiento del aprendizaje automático y la inteligencia artificial, son cada vez más las compañías que buscan incorporar estos campos a la planeación empresarial para poder lograr una mayor eficiencia en la toma de decisiones estratégicas. Las tiendas no son una excepción a ello y, con el paso de los años, han comenzado a incorporar dichas tecnologías para predecir el comportamiento de sus clientes y, de esta manera, enfocar sus campañas de Marketing hacia la dirección más oportuna. <br>\n",
        "<br>\n",
        "El presente trabajo está destinado al departamento de Marketing de la compañía 'Superstore!', el cual pretende predecir el comportamiento de sus clientes. Asimismo, éste se encuentra a disposición de todo el público que pudiera tener interés en él. Los datos han sido relevados y puestos a disposición por parte de la compañía."
      ]
    },
    {
      "cell_type": "markdown",
      "metadata": {
        "id": "USwBmlNCwESU"
      },
      "source": [
        "### *Contexto*"
      ]
    },
    {
      "cell_type": "markdown",
      "metadata": {
        "id": "CSaDqS9DOQoU"
      },
      "source": [
        "La superstore 'Supercompras!' está planeando otorgar membresías doradas de 200 USD con descuentos especiales para sus clientes. La campaña se realizará a través de llamadas telefónicas y sólo a usuarios que ya sean clientes de la empresa. Para poder minimizar los costos de la campaña se pretende realizar un modelo predictivo para seleccionar aquellos clientes que tienen mayor probabilidad de aceptar la oferta.\n"
      ]
    },
    {
      "cell_type": "markdown",
      "metadata": {
        "id": "Z8-jF0E3OXXn"
      },
      "source": [
        "### *Objetivo*"
      ]
    },
    {
      "cell_type": "markdown",
      "metadata": {
        "id": "7ljOkRNkObcD"
      },
      "source": [
        "El objetivo del presente análisis es descubrir si existen factores que se relacionen con la decisión de aceptar la membresía por parte de los clientes y, en caso de ser afirmativo, descubrir cuáles son dichos factores y en qué medida cada uno de ellos contribuye a la decisión final. De esta manera se pretende poder predecir el comportamiento futuro de los clientes para, así, enfocar las campañas de marketing en aquellos a los que se les asocie una mayor probabilidad de aceptar la membresía."
      ]
    },
    {
      "cell_type": "markdown",
      "metadata": {
        "id": "cH2RX0gQNoVX"
      },
      "source": [
        "## **Desarrollo**"
      ]
    },
    {
      "cell_type": "markdown",
      "metadata": {
        "id": "jEwPPkhuxFlc"
      },
      "source": [
        "### *Variables*"
      ]
    },
    {
      "cell_type": "markdown",
      "metadata": {
        "id": "xGjCJ-WROKTd"
      },
      "source": [
        "* `Response` (objetivo) - 1 si el cliente aceptó la oferta de la campaña, 0 si no.\n",
        "* `ID` - Identificador único del cliente.\n",
        "* `Year_Birth` - Edad.\n",
        "* `Complain` - 1 si el cliente realizó alguna queja en los últimos 2 años, 0 si no.\n",
        "* `Dt_Customer` - Fecha de inscripción del cliente a la compañía.\n",
        "* `Education` - Nivel de educación.\n",
        "* `Marital_Status` - Estado civil.\n",
        "* `Kidhome` - Número de niños en el hogar.\n",
        "* `Teenhome` - Número de adolescentes en el hogar.\n",
        "* `Income` - Salario anual.\n",
        "* `MntFishProducts` - Cantidad gastada en pescados en los últimos 2 años.\n",
        "* `MntMeatProducts` - Cantidad gastada en carnes en los últimos 2 años.\n",
        "* `MntFruits` - Cantidad gastada en frutas en los últimos 2 años.\n",
        "* `MntSweetProducts` - Cantidad gastada en productos con azúcares en los últimos 2 años.\n",
        "* `MntWines` - Cantidad gastada en vinos en los últimos 2 años.\n",
        "* `MntGoldProds` - Cantidad gastada en productos de oro en los últimos 2 años.\n",
        "* `NumDealsPurchases` - Número de compras con descuento realizadas.\n",
        "* `NumCatalogPurchases` - Número de compras realizadas por catálogo (comprar productos para ser enviados por correo).\n",
        "* `NumStorePurchases` - Número de compras realizadas directamente en la tienda.\n",
        "* `NumWebPurchases` - Número de compras realizadas a través del sitio web de la compañía.\n",
        "* `NumWebVisitsMonth` - Número de visitas al sitio web de la compañía en el último mes.\n",
        "* `Recency` - Número de días desde la última compra."
      ]
    },
    {
      "cell_type": "markdown",
      "metadata": {
        "id": "k0AiCiFhMI6h"
      },
      "source": [
        "### *Importación del dataset*"
      ]
    },
    {
      "cell_type": "code",
      "execution_count": 1,
      "metadata": {
        "id": "3agqS7yrv6mL",
        "colab": {
          "base_uri": "https://localhost:8080/"
        },
        "outputId": "4e9e8c8b-8651-4d03-fcb7-ad89ddbf8f6f"
      },
      "outputs": [
        {
          "output_type": "stream",
          "name": "stdout",
          "text": [
            "Mounted at /content/gdrive\n",
            "/content/gdrive/MyDrive/DataScience/SegundaEntrega_Fregona\n"
          ]
        }
      ],
      "source": [
        "import pandas as pd\n",
        "import numpy as np\n",
        "import matplotlib.pyplot as plt\n",
        "import seaborn as sns\n",
        "import math\n",
        "from scipy import stats\n",
        "from sklearn.model_selection import train_test_split\n",
        "from sklearn.neighbors import KNeighborsClassifier\n",
        "from sklearn.metrics import confusion_matrix"
      ]
    },
    {
      "cell_type": "code",
      "execution_count": 2,
      "metadata": {
        "colab": {
          "base_uri": "https://localhost:8080/",
          "height": 300
        },
        "id": "WOSLICxfw9F0",
        "outputId": "706337f6-c9d1-44f4-dc9b-94addd71d5e2"
      },
      "outputs": [
        {
          "output_type": "execute_result",
          "data": {
            "text/plain": [
              "      Id  Year_Birth   Education Marital_Status   Income  Kidhome  Teenhome  \\\n",
              "0   1826        1970  Graduation       Divorced  84835.0        0         0   \n",
              "1      1        1961  Graduation         Single  57091.0        0         0   \n",
              "2  10476        1958  Graduation        Married  67267.0        0         1   \n",
              "3   1386        1967  Graduation       Together  32474.0        1         1   \n",
              "4   5371        1989  Graduation         Single  21474.0        1         0   \n",
              "\n",
              "  Dt_Customer  Recency  MntWines  ...  MntFishProducts  MntSweetProducts  \\\n",
              "0   6/16/2014        0       189  ...              111               189   \n",
              "1   6/15/2014        0       464  ...                7                 0   \n",
              "2   5/13/2014        0       134  ...               15                 2   \n",
              "3   11/5/2014        0        10  ...                0                 0   \n",
              "4    8/4/2014        0         6  ...               11                 0   \n",
              "\n",
              "   MntGoldProds  NumDealsPurchases  NumWebPurchases  NumCatalogPurchases  \\\n",
              "0           218                  1                4                    4   \n",
              "1            37                  1                7                    3   \n",
              "2            30                  1                3                    2   \n",
              "3             0                  1                1                    0   \n",
              "4            34                  2                3                    1   \n",
              "\n",
              "   NumStorePurchases  NumWebVisitsMonth  Response  Complain  \n",
              "0                  6                  1         1         0  \n",
              "1                  7                  5         1         0  \n",
              "2                  5                  2         0         0  \n",
              "3                  2                  7         0         0  \n",
              "4                  2                  7         1         0  \n",
              "\n",
              "[5 rows x 22 columns]"
            ],
            "text/html": [
              "\n",
              "  <div id=\"df-17da92d7-375a-4c9a-80ab-749f7b331c2d\">\n",
              "    <div class=\"colab-df-container\">\n",
              "      <div>\n",
              "<style scoped>\n",
              "    .dataframe tbody tr th:only-of-type {\n",
              "        vertical-align: middle;\n",
              "    }\n",
              "\n",
              "    .dataframe tbody tr th {\n",
              "        vertical-align: top;\n",
              "    }\n",
              "\n",
              "    .dataframe thead th {\n",
              "        text-align: right;\n",
              "    }\n",
              "</style>\n",
              "<table border=\"1\" class=\"dataframe\">\n",
              "  <thead>\n",
              "    <tr style=\"text-align: right;\">\n",
              "      <th></th>\n",
              "      <th>Id</th>\n",
              "      <th>Year_Birth</th>\n",
              "      <th>Education</th>\n",
              "      <th>Marital_Status</th>\n",
              "      <th>Income</th>\n",
              "      <th>Kidhome</th>\n",
              "      <th>Teenhome</th>\n",
              "      <th>Dt_Customer</th>\n",
              "      <th>Recency</th>\n",
              "      <th>MntWines</th>\n",
              "      <th>...</th>\n",
              "      <th>MntFishProducts</th>\n",
              "      <th>MntSweetProducts</th>\n",
              "      <th>MntGoldProds</th>\n",
              "      <th>NumDealsPurchases</th>\n",
              "      <th>NumWebPurchases</th>\n",
              "      <th>NumCatalogPurchases</th>\n",
              "      <th>NumStorePurchases</th>\n",
              "      <th>NumWebVisitsMonth</th>\n",
              "      <th>Response</th>\n",
              "      <th>Complain</th>\n",
              "    </tr>\n",
              "  </thead>\n",
              "  <tbody>\n",
              "    <tr>\n",
              "      <th>0</th>\n",
              "      <td>1826</td>\n",
              "      <td>1970</td>\n",
              "      <td>Graduation</td>\n",
              "      <td>Divorced</td>\n",
              "      <td>84835.0</td>\n",
              "      <td>0</td>\n",
              "      <td>0</td>\n",
              "      <td>6/16/2014</td>\n",
              "      <td>0</td>\n",
              "      <td>189</td>\n",
              "      <td>...</td>\n",
              "      <td>111</td>\n",
              "      <td>189</td>\n",
              "      <td>218</td>\n",
              "      <td>1</td>\n",
              "      <td>4</td>\n",
              "      <td>4</td>\n",
              "      <td>6</td>\n",
              "      <td>1</td>\n",
              "      <td>1</td>\n",
              "      <td>0</td>\n",
              "    </tr>\n",
              "    <tr>\n",
              "      <th>1</th>\n",
              "      <td>1</td>\n",
              "      <td>1961</td>\n",
              "      <td>Graduation</td>\n",
              "      <td>Single</td>\n",
              "      <td>57091.0</td>\n",
              "      <td>0</td>\n",
              "      <td>0</td>\n",
              "      <td>6/15/2014</td>\n",
              "      <td>0</td>\n",
              "      <td>464</td>\n",
              "      <td>...</td>\n",
              "      <td>7</td>\n",
              "      <td>0</td>\n",
              "      <td>37</td>\n",
              "      <td>1</td>\n",
              "      <td>7</td>\n",
              "      <td>3</td>\n",
              "      <td>7</td>\n",
              "      <td>5</td>\n",
              "      <td>1</td>\n",
              "      <td>0</td>\n",
              "    </tr>\n",
              "    <tr>\n",
              "      <th>2</th>\n",
              "      <td>10476</td>\n",
              "      <td>1958</td>\n",
              "      <td>Graduation</td>\n",
              "      <td>Married</td>\n",
              "      <td>67267.0</td>\n",
              "      <td>0</td>\n",
              "      <td>1</td>\n",
              "      <td>5/13/2014</td>\n",
              "      <td>0</td>\n",
              "      <td>134</td>\n",
              "      <td>...</td>\n",
              "      <td>15</td>\n",
              "      <td>2</td>\n",
              "      <td>30</td>\n",
              "      <td>1</td>\n",
              "      <td>3</td>\n",
              "      <td>2</td>\n",
              "      <td>5</td>\n",
              "      <td>2</td>\n",
              "      <td>0</td>\n",
              "      <td>0</td>\n",
              "    </tr>\n",
              "    <tr>\n",
              "      <th>3</th>\n",
              "      <td>1386</td>\n",
              "      <td>1967</td>\n",
              "      <td>Graduation</td>\n",
              "      <td>Together</td>\n",
              "      <td>32474.0</td>\n",
              "      <td>1</td>\n",
              "      <td>1</td>\n",
              "      <td>11/5/2014</td>\n",
              "      <td>0</td>\n",
              "      <td>10</td>\n",
              "      <td>...</td>\n",
              "      <td>0</td>\n",
              "      <td>0</td>\n",
              "      <td>0</td>\n",
              "      <td>1</td>\n",
              "      <td>1</td>\n",
              "      <td>0</td>\n",
              "      <td>2</td>\n",
              "      <td>7</td>\n",
              "      <td>0</td>\n",
              "      <td>0</td>\n",
              "    </tr>\n",
              "    <tr>\n",
              "      <th>4</th>\n",
              "      <td>5371</td>\n",
              "      <td>1989</td>\n",
              "      <td>Graduation</td>\n",
              "      <td>Single</td>\n",
              "      <td>21474.0</td>\n",
              "      <td>1</td>\n",
              "      <td>0</td>\n",
              "      <td>8/4/2014</td>\n",
              "      <td>0</td>\n",
              "      <td>6</td>\n",
              "      <td>...</td>\n",
              "      <td>11</td>\n",
              "      <td>0</td>\n",
              "      <td>34</td>\n",
              "      <td>2</td>\n",
              "      <td>3</td>\n",
              "      <td>1</td>\n",
              "      <td>2</td>\n",
              "      <td>7</td>\n",
              "      <td>1</td>\n",
              "      <td>0</td>\n",
              "    </tr>\n",
              "  </tbody>\n",
              "</table>\n",
              "<p>5 rows × 22 columns</p>\n",
              "</div>\n",
              "      <button class=\"colab-df-convert\" onclick=\"convertToInteractive('df-17da92d7-375a-4c9a-80ab-749f7b331c2d')\"\n",
              "              title=\"Convert this dataframe to an interactive table.\"\n",
              "              style=\"display:none;\">\n",
              "        \n",
              "  <svg xmlns=\"http://www.w3.org/2000/svg\" height=\"24px\"viewBox=\"0 0 24 24\"\n",
              "       width=\"24px\">\n",
              "    <path d=\"M0 0h24v24H0V0z\" fill=\"none\"/>\n",
              "    <path d=\"M18.56 5.44l.94 2.06.94-2.06 2.06-.94-2.06-.94-.94-2.06-.94 2.06-2.06.94zm-11 1L8.5 8.5l.94-2.06 2.06-.94-2.06-.94L8.5 2.5l-.94 2.06-2.06.94zm10 10l.94 2.06.94-2.06 2.06-.94-2.06-.94-.94-2.06-.94 2.06-2.06.94z\"/><path d=\"M17.41 7.96l-1.37-1.37c-.4-.4-.92-.59-1.43-.59-.52 0-1.04.2-1.43.59L10.3 9.45l-7.72 7.72c-.78.78-.78 2.05 0 2.83L4 21.41c.39.39.9.59 1.41.59.51 0 1.02-.2 1.41-.59l7.78-7.78 2.81-2.81c.8-.78.8-2.07 0-2.86zM5.41 20L4 18.59l7.72-7.72 1.47 1.35L5.41 20z\"/>\n",
              "  </svg>\n",
              "      </button>\n",
              "      \n",
              "  <style>\n",
              "    .colab-df-container {\n",
              "      display:flex;\n",
              "      flex-wrap:wrap;\n",
              "      gap: 12px;\n",
              "    }\n",
              "\n",
              "    .colab-df-convert {\n",
              "      background-color: #E8F0FE;\n",
              "      border: none;\n",
              "      border-radius: 50%;\n",
              "      cursor: pointer;\n",
              "      display: none;\n",
              "      fill: #1967D2;\n",
              "      height: 32px;\n",
              "      padding: 0 0 0 0;\n",
              "      width: 32px;\n",
              "    }\n",
              "\n",
              "    .colab-df-convert:hover {\n",
              "      background-color: #E2EBFA;\n",
              "      box-shadow: 0px 1px 2px rgba(60, 64, 67, 0.3), 0px 1px 3px 1px rgba(60, 64, 67, 0.15);\n",
              "      fill: #174EA6;\n",
              "    }\n",
              "\n",
              "    [theme=dark] .colab-df-convert {\n",
              "      background-color: #3B4455;\n",
              "      fill: #D2E3FC;\n",
              "    }\n",
              "\n",
              "    [theme=dark] .colab-df-convert:hover {\n",
              "      background-color: #434B5C;\n",
              "      box-shadow: 0px 1px 3px 1px rgba(0, 0, 0, 0.15);\n",
              "      filter: drop-shadow(0px 1px 2px rgba(0, 0, 0, 0.3));\n",
              "      fill: #FFFFFF;\n",
              "    }\n",
              "  </style>\n",
              "\n",
              "      <script>\n",
              "        const buttonEl =\n",
              "          document.querySelector('#df-17da92d7-375a-4c9a-80ab-749f7b331c2d button.colab-df-convert');\n",
              "        buttonEl.style.display =\n",
              "          google.colab.kernel.accessAllowed ? 'block' : 'none';\n",
              "\n",
              "        async function convertToInteractive(key) {\n",
              "          const element = document.querySelector('#df-17da92d7-375a-4c9a-80ab-749f7b331c2d');\n",
              "          const dataTable =\n",
              "            await google.colab.kernel.invokeFunction('convertToInteractive',\n",
              "                                                     [key], {});\n",
              "          if (!dataTable) return;\n",
              "\n",
              "          const docLinkHtml = 'Like what you see? Visit the ' +\n",
              "            '<a target=\"_blank\" href=https://colab.research.google.com/notebooks/data_table.ipynb>data table notebook</a>'\n",
              "            + ' to learn more about interactive tables.';\n",
              "          element.innerHTML = '';\n",
              "          dataTable['output_type'] = 'display_data';\n",
              "          await google.colab.output.renderOutput(dataTable, element);\n",
              "          const docLink = document.createElement('div');\n",
              "          docLink.innerHTML = docLinkHtml;\n",
              "          element.appendChild(docLink);\n",
              "        }\n",
              "      </script>\n",
              "    </div>\n",
              "  </div>\n",
              "  "
            ]
          },
          "metadata": {},
          "execution_count": 2
        }
      ],
      "source": [
        "df = pd.read_csv(\"superstore_data.csv\", sep=',')\n",
        "df.head(5)"
      ]
    },
    {
      "cell_type": "code",
      "source": [
        "df.shape"
      ],
      "metadata": {
        "colab": {
          "base_uri": "https://localhost:8080/"
        },
        "id": "La9Uj0w5JOJz",
        "outputId": "0651d7bc-8877-4b6e-cde4-b07d728415af"
      },
      "execution_count": 257,
      "outputs": [
        {
          "output_type": "execute_result",
          "data": {
            "text/plain": [
              "(2212, 24)"
            ]
          },
          "metadata": {},
          "execution_count": 257
        }
      ]
    },
    {
      "cell_type": "markdown",
      "metadata": {
        "id": "aiFll5zbLjvo"
      },
      "source": [
        "### *Transformación y limpieza de datos*"
      ]
    },
    {
      "cell_type": "markdown",
      "metadata": {
        "id": "VdlChUMr20qU"
      },
      "source": [
        "##### Datos faltantes\n",
        "\n"
      ]
    },
    {
      "cell_type": "markdown",
      "metadata": {
        "id": "scDRmG-3gnbU"
      },
      "source": [
        "Se tomó la decisión de eliminar aquellas entradas que contenían al menos un dato faltante."
      ]
    },
    {
      "cell_type": "code",
      "execution_count": 3,
      "metadata": {
        "colab": {
          "base_uri": "https://localhost:8080/",
          "height": 300
        },
        "id": "7bUXoQSk2RzH",
        "outputId": "ba2ce328-cafc-49f2-b79f-e4a465b7aaf3"
      },
      "outputs": [
        {
          "output_type": "execute_result",
          "data": {
            "text/plain": [
              "      Id  Year_Birth   Education Marital_Status   Income  Kidhome  Teenhome  \\\n",
              "0   1826        1970  Graduation       Divorced  84835.0        0         0   \n",
              "1      1        1961  Graduation         Single  57091.0        0         0   \n",
              "2  10476        1958  Graduation        Married  67267.0        0         1   \n",
              "3   1386        1967  Graduation       Together  32474.0        1         1   \n",
              "4   5371        1989  Graduation         Single  21474.0        1         0   \n",
              "\n",
              "  Dt_Customer  Recency  MntWines  ...  MntFishProducts  MntSweetProducts  \\\n",
              "0   6/16/2014        0       189  ...              111               189   \n",
              "1   6/15/2014        0       464  ...                7                 0   \n",
              "2   5/13/2014        0       134  ...               15                 2   \n",
              "3   11/5/2014        0        10  ...                0                 0   \n",
              "4    8/4/2014        0         6  ...               11                 0   \n",
              "\n",
              "   MntGoldProds  NumDealsPurchases  NumWebPurchases  NumCatalogPurchases  \\\n",
              "0           218                  1                4                    4   \n",
              "1            37                  1                7                    3   \n",
              "2            30                  1                3                    2   \n",
              "3             0                  1                1                    0   \n",
              "4            34                  2                3                    1   \n",
              "\n",
              "   NumStorePurchases  NumWebVisitsMonth  Response  Complain  \n",
              "0                  6                  1         1         0  \n",
              "1                  7                  5         1         0  \n",
              "2                  5                  2         0         0  \n",
              "3                  2                  7         0         0  \n",
              "4                  2                  7         1         0  \n",
              "\n",
              "[5 rows x 22 columns]"
            ],
            "text/html": [
              "\n",
              "  <div id=\"df-5e1566e0-bfc1-4392-a0b4-8365d2df65d9\">\n",
              "    <div class=\"colab-df-container\">\n",
              "      <div>\n",
              "<style scoped>\n",
              "    .dataframe tbody tr th:only-of-type {\n",
              "        vertical-align: middle;\n",
              "    }\n",
              "\n",
              "    .dataframe tbody tr th {\n",
              "        vertical-align: top;\n",
              "    }\n",
              "\n",
              "    .dataframe thead th {\n",
              "        text-align: right;\n",
              "    }\n",
              "</style>\n",
              "<table border=\"1\" class=\"dataframe\">\n",
              "  <thead>\n",
              "    <tr style=\"text-align: right;\">\n",
              "      <th></th>\n",
              "      <th>Id</th>\n",
              "      <th>Year_Birth</th>\n",
              "      <th>Education</th>\n",
              "      <th>Marital_Status</th>\n",
              "      <th>Income</th>\n",
              "      <th>Kidhome</th>\n",
              "      <th>Teenhome</th>\n",
              "      <th>Dt_Customer</th>\n",
              "      <th>Recency</th>\n",
              "      <th>MntWines</th>\n",
              "      <th>...</th>\n",
              "      <th>MntFishProducts</th>\n",
              "      <th>MntSweetProducts</th>\n",
              "      <th>MntGoldProds</th>\n",
              "      <th>NumDealsPurchases</th>\n",
              "      <th>NumWebPurchases</th>\n",
              "      <th>NumCatalogPurchases</th>\n",
              "      <th>NumStorePurchases</th>\n",
              "      <th>NumWebVisitsMonth</th>\n",
              "      <th>Response</th>\n",
              "      <th>Complain</th>\n",
              "    </tr>\n",
              "  </thead>\n",
              "  <tbody>\n",
              "    <tr>\n",
              "      <th>0</th>\n",
              "      <td>1826</td>\n",
              "      <td>1970</td>\n",
              "      <td>Graduation</td>\n",
              "      <td>Divorced</td>\n",
              "      <td>84835.0</td>\n",
              "      <td>0</td>\n",
              "      <td>0</td>\n",
              "      <td>6/16/2014</td>\n",
              "      <td>0</td>\n",
              "      <td>189</td>\n",
              "      <td>...</td>\n",
              "      <td>111</td>\n",
              "      <td>189</td>\n",
              "      <td>218</td>\n",
              "      <td>1</td>\n",
              "      <td>4</td>\n",
              "      <td>4</td>\n",
              "      <td>6</td>\n",
              "      <td>1</td>\n",
              "      <td>1</td>\n",
              "      <td>0</td>\n",
              "    </tr>\n",
              "    <tr>\n",
              "      <th>1</th>\n",
              "      <td>1</td>\n",
              "      <td>1961</td>\n",
              "      <td>Graduation</td>\n",
              "      <td>Single</td>\n",
              "      <td>57091.0</td>\n",
              "      <td>0</td>\n",
              "      <td>0</td>\n",
              "      <td>6/15/2014</td>\n",
              "      <td>0</td>\n",
              "      <td>464</td>\n",
              "      <td>...</td>\n",
              "      <td>7</td>\n",
              "      <td>0</td>\n",
              "      <td>37</td>\n",
              "      <td>1</td>\n",
              "      <td>7</td>\n",
              "      <td>3</td>\n",
              "      <td>7</td>\n",
              "      <td>5</td>\n",
              "      <td>1</td>\n",
              "      <td>0</td>\n",
              "    </tr>\n",
              "    <tr>\n",
              "      <th>2</th>\n",
              "      <td>10476</td>\n",
              "      <td>1958</td>\n",
              "      <td>Graduation</td>\n",
              "      <td>Married</td>\n",
              "      <td>67267.0</td>\n",
              "      <td>0</td>\n",
              "      <td>1</td>\n",
              "      <td>5/13/2014</td>\n",
              "      <td>0</td>\n",
              "      <td>134</td>\n",
              "      <td>...</td>\n",
              "      <td>15</td>\n",
              "      <td>2</td>\n",
              "      <td>30</td>\n",
              "      <td>1</td>\n",
              "      <td>3</td>\n",
              "      <td>2</td>\n",
              "      <td>5</td>\n",
              "      <td>2</td>\n",
              "      <td>0</td>\n",
              "      <td>0</td>\n",
              "    </tr>\n",
              "    <tr>\n",
              "      <th>3</th>\n",
              "      <td>1386</td>\n",
              "      <td>1967</td>\n",
              "      <td>Graduation</td>\n",
              "      <td>Together</td>\n",
              "      <td>32474.0</td>\n",
              "      <td>1</td>\n",
              "      <td>1</td>\n",
              "      <td>11/5/2014</td>\n",
              "      <td>0</td>\n",
              "      <td>10</td>\n",
              "      <td>...</td>\n",
              "      <td>0</td>\n",
              "      <td>0</td>\n",
              "      <td>0</td>\n",
              "      <td>1</td>\n",
              "      <td>1</td>\n",
              "      <td>0</td>\n",
              "      <td>2</td>\n",
              "      <td>7</td>\n",
              "      <td>0</td>\n",
              "      <td>0</td>\n",
              "    </tr>\n",
              "    <tr>\n",
              "      <th>4</th>\n",
              "      <td>5371</td>\n",
              "      <td>1989</td>\n",
              "      <td>Graduation</td>\n",
              "      <td>Single</td>\n",
              "      <td>21474.0</td>\n",
              "      <td>1</td>\n",
              "      <td>0</td>\n",
              "      <td>8/4/2014</td>\n",
              "      <td>0</td>\n",
              "      <td>6</td>\n",
              "      <td>...</td>\n",
              "      <td>11</td>\n",
              "      <td>0</td>\n",
              "      <td>34</td>\n",
              "      <td>2</td>\n",
              "      <td>3</td>\n",
              "      <td>1</td>\n",
              "      <td>2</td>\n",
              "      <td>7</td>\n",
              "      <td>1</td>\n",
              "      <td>0</td>\n",
              "    </tr>\n",
              "  </tbody>\n",
              "</table>\n",
              "<p>5 rows × 22 columns</p>\n",
              "</div>\n",
              "      <button class=\"colab-df-convert\" onclick=\"convertToInteractive('df-5e1566e0-bfc1-4392-a0b4-8365d2df65d9')\"\n",
              "              title=\"Convert this dataframe to an interactive table.\"\n",
              "              style=\"display:none;\">\n",
              "        \n",
              "  <svg xmlns=\"http://www.w3.org/2000/svg\" height=\"24px\"viewBox=\"0 0 24 24\"\n",
              "       width=\"24px\">\n",
              "    <path d=\"M0 0h24v24H0V0z\" fill=\"none\"/>\n",
              "    <path d=\"M18.56 5.44l.94 2.06.94-2.06 2.06-.94-2.06-.94-.94-2.06-.94 2.06-2.06.94zm-11 1L8.5 8.5l.94-2.06 2.06-.94-2.06-.94L8.5 2.5l-.94 2.06-2.06.94zm10 10l.94 2.06.94-2.06 2.06-.94-2.06-.94-.94-2.06-.94 2.06-2.06.94z\"/><path d=\"M17.41 7.96l-1.37-1.37c-.4-.4-.92-.59-1.43-.59-.52 0-1.04.2-1.43.59L10.3 9.45l-7.72 7.72c-.78.78-.78 2.05 0 2.83L4 21.41c.39.39.9.59 1.41.59.51 0 1.02-.2 1.41-.59l7.78-7.78 2.81-2.81c.8-.78.8-2.07 0-2.86zM5.41 20L4 18.59l7.72-7.72 1.47 1.35L5.41 20z\"/>\n",
              "  </svg>\n",
              "      </button>\n",
              "      \n",
              "  <style>\n",
              "    .colab-df-container {\n",
              "      display:flex;\n",
              "      flex-wrap:wrap;\n",
              "      gap: 12px;\n",
              "    }\n",
              "\n",
              "    .colab-df-convert {\n",
              "      background-color: #E8F0FE;\n",
              "      border: none;\n",
              "      border-radius: 50%;\n",
              "      cursor: pointer;\n",
              "      display: none;\n",
              "      fill: #1967D2;\n",
              "      height: 32px;\n",
              "      padding: 0 0 0 0;\n",
              "      width: 32px;\n",
              "    }\n",
              "\n",
              "    .colab-df-convert:hover {\n",
              "      background-color: #E2EBFA;\n",
              "      box-shadow: 0px 1px 2px rgba(60, 64, 67, 0.3), 0px 1px 3px 1px rgba(60, 64, 67, 0.15);\n",
              "      fill: #174EA6;\n",
              "    }\n",
              "\n",
              "    [theme=dark] .colab-df-convert {\n",
              "      background-color: #3B4455;\n",
              "      fill: #D2E3FC;\n",
              "    }\n",
              "\n",
              "    [theme=dark] .colab-df-convert:hover {\n",
              "      background-color: #434B5C;\n",
              "      box-shadow: 0px 1px 3px 1px rgba(0, 0, 0, 0.15);\n",
              "      filter: drop-shadow(0px 1px 2px rgba(0, 0, 0, 0.3));\n",
              "      fill: #FFFFFF;\n",
              "    }\n",
              "  </style>\n",
              "\n",
              "      <script>\n",
              "        const buttonEl =\n",
              "          document.querySelector('#df-5e1566e0-bfc1-4392-a0b4-8365d2df65d9 button.colab-df-convert');\n",
              "        buttonEl.style.display =\n",
              "          google.colab.kernel.accessAllowed ? 'block' : 'none';\n",
              "\n",
              "        async function convertToInteractive(key) {\n",
              "          const element = document.querySelector('#df-5e1566e0-bfc1-4392-a0b4-8365d2df65d9');\n",
              "          const dataTable =\n",
              "            await google.colab.kernel.invokeFunction('convertToInteractive',\n",
              "                                                     [key], {});\n",
              "          if (!dataTable) return;\n",
              "\n",
              "          const docLinkHtml = 'Like what you see? Visit the ' +\n",
              "            '<a target=\"_blank\" href=https://colab.research.google.com/notebooks/data_table.ipynb>data table notebook</a>'\n",
              "            + ' to learn more about interactive tables.';\n",
              "          element.innerHTML = '';\n",
              "          dataTable['output_type'] = 'display_data';\n",
              "          await google.colab.output.renderOutput(dataTable, element);\n",
              "          const docLink = document.createElement('div');\n",
              "          docLink.innerHTML = docLinkHtml;\n",
              "          element.appendChild(docLink);\n",
              "        }\n",
              "      </script>\n",
              "    </div>\n",
              "  </div>\n",
              "  "
            ]
          },
          "metadata": {},
          "execution_count": 3
        }
      ],
      "source": [
        "df = df.dropna(how='any')\n",
        "df = df.reset_index(drop=True)\n",
        "df.head(5)"
      ]
    },
    {
      "cell_type": "markdown",
      "metadata": {
        "id": "ZNlvfGKxLyBs"
      },
      "source": [
        "##### Tipo de datos"
      ]
    },
    {
      "cell_type": "markdown",
      "metadata": {
        "id": "EtWVUNf5gwjd"
      },
      "source": [
        "Se verificó que el tipo de dato de cada campo sea coherente con lo que exhibe."
      ]
    },
    {
      "cell_type": "code",
      "execution_count": 4,
      "metadata": {
        "colab": {
          "base_uri": "https://localhost:8080/"
        },
        "id": "cVUtJu3iL4tb",
        "outputId": "da39782b-09cc-4882-9b1c-6fe942d2ff89"
      },
      "outputs": [
        {
          "output_type": "execute_result",
          "data": {
            "text/plain": [
              "Id                       int64\n",
              "Year_Birth               int64\n",
              "Education               object\n",
              "Marital_Status          object\n",
              "Income                 float64\n",
              "Kidhome                  int64\n",
              "Teenhome                 int64\n",
              "Dt_Customer             object\n",
              "Recency                  int64\n",
              "MntWines                 int64\n",
              "MntFruits                int64\n",
              "MntMeatProducts          int64\n",
              "MntFishProducts          int64\n",
              "MntSweetProducts         int64\n",
              "MntGoldProds             int64\n",
              "NumDealsPurchases        int64\n",
              "NumWebPurchases          int64\n",
              "NumCatalogPurchases      int64\n",
              "NumStorePurchases        int64\n",
              "NumWebVisitsMonth        int64\n",
              "Response                 int64\n",
              "Complain                 int64\n",
              "dtype: object"
            ]
          },
          "metadata": {},
          "execution_count": 4
        }
      ],
      "source": [
        "df.dtypes"
      ]
    },
    {
      "cell_type": "markdown",
      "metadata": {
        "id": "IJDCo4CEMcUU"
      },
      "source": [
        "##### Estandarización de valores"
      ]
    },
    {
      "cell_type": "markdown",
      "metadata": {
        "id": "n23dOa52iJAS"
      },
      "source": [
        "Se estandarizaron aquellos valores que pertenecían a una misma categoría y se eliminaron los registros de aquellos otros que no podían incluirse en ninguna de estas por contener información incoherente."
      ]
    },
    {
      "cell_type": "code",
      "execution_count": 5,
      "metadata": {
        "colab": {
          "base_uri": "https://localhost:8080/"
        },
        "id": "arD131DLM72I",
        "outputId": "3946f85c-7041-4e8b-e09c-29a113127b75"
      },
      "outputs": [
        {
          "output_type": "execute_result",
          "data": {
            "text/plain": [
              "Graduation    1116\n",
              "PhD            481\n",
              "Master         365\n",
              "2n Cycle       200\n",
              "Basic           54\n",
              "Name: Education, dtype: int64"
            ]
          },
          "metadata": {},
          "execution_count": 5
        }
      ],
      "source": [
        "df['Education'].value_counts()"
      ]
    },
    {
      "cell_type": "code",
      "execution_count": 6,
      "metadata": {
        "colab": {
          "base_uri": "https://localhost:8080/"
        },
        "id": "_K50kThCMfME",
        "outputId": "8bc8deaf-465c-49f6-8115-84a32f72bd52"
      },
      "outputs": [
        {
          "output_type": "execute_result",
          "data": {
            "text/plain": [
              "Married     857\n",
              "Together    573\n",
              "Single      471\n",
              "Divorced    232\n",
              "Widow        76\n",
              "Alone         3\n",
              "YOLO          2\n",
              "Absurd        2\n",
              "Name: Marital_Status, dtype: int64"
            ]
          },
          "metadata": {},
          "execution_count": 6
        }
      ],
      "source": [
        "df['Marital_Status'].value_counts()"
      ]
    },
    {
      "cell_type": "code",
      "execution_count": 7,
      "metadata": {
        "colab": {
          "base_uri": "https://localhost:8080/",
          "height": 386
        },
        "id": "B_Q38scbPrcK",
        "outputId": "c6c0e98d-f94d-45bf-b189-f93d6e49fc46"
      },
      "outputs": [
        {
          "output_type": "stream",
          "name": "stderr",
          "text": [
            "<ipython-input-7-4f6df25daa19>:6: SettingWithCopyWarning: \n",
            "A value is trying to be set on a copy of a slice from a DataFrame\n",
            "\n",
            "See the caveats in the documentation: https://pandas.pydata.org/pandas-docs/stable/user_guide/indexing.html#returning-a-view-versus-a-copy\n",
            "  df['Marital_Status'][i] = 'Single'\n"
          ]
        },
        {
          "output_type": "execute_result",
          "data": {
            "text/plain": [
              "      Id  Year_Birth   Education Marital_Status   Income  Kidhome  Teenhome  \\\n",
              "0   1826        1970  Graduation       Divorced  84835.0        0         0   \n",
              "1      1        1961  Graduation         Single  57091.0        0         0   \n",
              "2  10476        1958  Graduation        Married  67267.0        0         1   \n",
              "3   1386        1967  Graduation       Together  32474.0        1         1   \n",
              "4   5371        1989  Graduation         Single  21474.0        1         0   \n",
              "\n",
              "  Dt_Customer  Recency  MntWines  ...  MntFishProducts  MntSweetProducts  \\\n",
              "0   6/16/2014        0       189  ...              111               189   \n",
              "1   6/15/2014        0       464  ...                7                 0   \n",
              "2   5/13/2014        0       134  ...               15                 2   \n",
              "3   11/5/2014        0        10  ...                0                 0   \n",
              "4    8/4/2014        0         6  ...               11                 0   \n",
              "\n",
              "   MntGoldProds  NumDealsPurchases  NumWebPurchases  NumCatalogPurchases  \\\n",
              "0           218                  1                4                    4   \n",
              "1            37                  1                7                    3   \n",
              "2            30                  1                3                    2   \n",
              "3             0                  1                1                    0   \n",
              "4            34                  2                3                    1   \n",
              "\n",
              "   NumStorePurchases  NumWebVisitsMonth  Response  Complain  \n",
              "0                  6                  1         1         0  \n",
              "1                  7                  5         1         0  \n",
              "2                  5                  2         0         0  \n",
              "3                  2                  7         0         0  \n",
              "4                  2                  7         1         0  \n",
              "\n",
              "[5 rows x 22 columns]"
            ],
            "text/html": [
              "\n",
              "  <div id=\"df-c60827ca-bcf8-4384-8d69-d166954a20c6\">\n",
              "    <div class=\"colab-df-container\">\n",
              "      <div>\n",
              "<style scoped>\n",
              "    .dataframe tbody tr th:only-of-type {\n",
              "        vertical-align: middle;\n",
              "    }\n",
              "\n",
              "    .dataframe tbody tr th {\n",
              "        vertical-align: top;\n",
              "    }\n",
              "\n",
              "    .dataframe thead th {\n",
              "        text-align: right;\n",
              "    }\n",
              "</style>\n",
              "<table border=\"1\" class=\"dataframe\">\n",
              "  <thead>\n",
              "    <tr style=\"text-align: right;\">\n",
              "      <th></th>\n",
              "      <th>Id</th>\n",
              "      <th>Year_Birth</th>\n",
              "      <th>Education</th>\n",
              "      <th>Marital_Status</th>\n",
              "      <th>Income</th>\n",
              "      <th>Kidhome</th>\n",
              "      <th>Teenhome</th>\n",
              "      <th>Dt_Customer</th>\n",
              "      <th>Recency</th>\n",
              "      <th>MntWines</th>\n",
              "      <th>...</th>\n",
              "      <th>MntFishProducts</th>\n",
              "      <th>MntSweetProducts</th>\n",
              "      <th>MntGoldProds</th>\n",
              "      <th>NumDealsPurchases</th>\n",
              "      <th>NumWebPurchases</th>\n",
              "      <th>NumCatalogPurchases</th>\n",
              "      <th>NumStorePurchases</th>\n",
              "      <th>NumWebVisitsMonth</th>\n",
              "      <th>Response</th>\n",
              "      <th>Complain</th>\n",
              "    </tr>\n",
              "  </thead>\n",
              "  <tbody>\n",
              "    <tr>\n",
              "      <th>0</th>\n",
              "      <td>1826</td>\n",
              "      <td>1970</td>\n",
              "      <td>Graduation</td>\n",
              "      <td>Divorced</td>\n",
              "      <td>84835.0</td>\n",
              "      <td>0</td>\n",
              "      <td>0</td>\n",
              "      <td>6/16/2014</td>\n",
              "      <td>0</td>\n",
              "      <td>189</td>\n",
              "      <td>...</td>\n",
              "      <td>111</td>\n",
              "      <td>189</td>\n",
              "      <td>218</td>\n",
              "      <td>1</td>\n",
              "      <td>4</td>\n",
              "      <td>4</td>\n",
              "      <td>6</td>\n",
              "      <td>1</td>\n",
              "      <td>1</td>\n",
              "      <td>0</td>\n",
              "    </tr>\n",
              "    <tr>\n",
              "      <th>1</th>\n",
              "      <td>1</td>\n",
              "      <td>1961</td>\n",
              "      <td>Graduation</td>\n",
              "      <td>Single</td>\n",
              "      <td>57091.0</td>\n",
              "      <td>0</td>\n",
              "      <td>0</td>\n",
              "      <td>6/15/2014</td>\n",
              "      <td>0</td>\n",
              "      <td>464</td>\n",
              "      <td>...</td>\n",
              "      <td>7</td>\n",
              "      <td>0</td>\n",
              "      <td>37</td>\n",
              "      <td>1</td>\n",
              "      <td>7</td>\n",
              "      <td>3</td>\n",
              "      <td>7</td>\n",
              "      <td>5</td>\n",
              "      <td>1</td>\n",
              "      <td>0</td>\n",
              "    </tr>\n",
              "    <tr>\n",
              "      <th>2</th>\n",
              "      <td>10476</td>\n",
              "      <td>1958</td>\n",
              "      <td>Graduation</td>\n",
              "      <td>Married</td>\n",
              "      <td>67267.0</td>\n",
              "      <td>0</td>\n",
              "      <td>1</td>\n",
              "      <td>5/13/2014</td>\n",
              "      <td>0</td>\n",
              "      <td>134</td>\n",
              "      <td>...</td>\n",
              "      <td>15</td>\n",
              "      <td>2</td>\n",
              "      <td>30</td>\n",
              "      <td>1</td>\n",
              "      <td>3</td>\n",
              "      <td>2</td>\n",
              "      <td>5</td>\n",
              "      <td>2</td>\n",
              "      <td>0</td>\n",
              "      <td>0</td>\n",
              "    </tr>\n",
              "    <tr>\n",
              "      <th>3</th>\n",
              "      <td>1386</td>\n",
              "      <td>1967</td>\n",
              "      <td>Graduation</td>\n",
              "      <td>Together</td>\n",
              "      <td>32474.0</td>\n",
              "      <td>1</td>\n",
              "      <td>1</td>\n",
              "      <td>11/5/2014</td>\n",
              "      <td>0</td>\n",
              "      <td>10</td>\n",
              "      <td>...</td>\n",
              "      <td>0</td>\n",
              "      <td>0</td>\n",
              "      <td>0</td>\n",
              "      <td>1</td>\n",
              "      <td>1</td>\n",
              "      <td>0</td>\n",
              "      <td>2</td>\n",
              "      <td>7</td>\n",
              "      <td>0</td>\n",
              "      <td>0</td>\n",
              "    </tr>\n",
              "    <tr>\n",
              "      <th>4</th>\n",
              "      <td>5371</td>\n",
              "      <td>1989</td>\n",
              "      <td>Graduation</td>\n",
              "      <td>Single</td>\n",
              "      <td>21474.0</td>\n",
              "      <td>1</td>\n",
              "      <td>0</td>\n",
              "      <td>8/4/2014</td>\n",
              "      <td>0</td>\n",
              "      <td>6</td>\n",
              "      <td>...</td>\n",
              "      <td>11</td>\n",
              "      <td>0</td>\n",
              "      <td>34</td>\n",
              "      <td>2</td>\n",
              "      <td>3</td>\n",
              "      <td>1</td>\n",
              "      <td>2</td>\n",
              "      <td>7</td>\n",
              "      <td>1</td>\n",
              "      <td>0</td>\n",
              "    </tr>\n",
              "  </tbody>\n",
              "</table>\n",
              "<p>5 rows × 22 columns</p>\n",
              "</div>\n",
              "      <button class=\"colab-df-convert\" onclick=\"convertToInteractive('df-c60827ca-bcf8-4384-8d69-d166954a20c6')\"\n",
              "              title=\"Convert this dataframe to an interactive table.\"\n",
              "              style=\"display:none;\">\n",
              "        \n",
              "  <svg xmlns=\"http://www.w3.org/2000/svg\" height=\"24px\"viewBox=\"0 0 24 24\"\n",
              "       width=\"24px\">\n",
              "    <path d=\"M0 0h24v24H0V0z\" fill=\"none\"/>\n",
              "    <path d=\"M18.56 5.44l.94 2.06.94-2.06 2.06-.94-2.06-.94-.94-2.06-.94 2.06-2.06.94zm-11 1L8.5 8.5l.94-2.06 2.06-.94-2.06-.94L8.5 2.5l-.94 2.06-2.06.94zm10 10l.94 2.06.94-2.06 2.06-.94-2.06-.94-.94-2.06-.94 2.06-2.06.94z\"/><path d=\"M17.41 7.96l-1.37-1.37c-.4-.4-.92-.59-1.43-.59-.52 0-1.04.2-1.43.59L10.3 9.45l-7.72 7.72c-.78.78-.78 2.05 0 2.83L4 21.41c.39.39.9.59 1.41.59.51 0 1.02-.2 1.41-.59l7.78-7.78 2.81-2.81c.8-.78.8-2.07 0-2.86zM5.41 20L4 18.59l7.72-7.72 1.47 1.35L5.41 20z\"/>\n",
              "  </svg>\n",
              "      </button>\n",
              "      \n",
              "  <style>\n",
              "    .colab-df-container {\n",
              "      display:flex;\n",
              "      flex-wrap:wrap;\n",
              "      gap: 12px;\n",
              "    }\n",
              "\n",
              "    .colab-df-convert {\n",
              "      background-color: #E8F0FE;\n",
              "      border: none;\n",
              "      border-radius: 50%;\n",
              "      cursor: pointer;\n",
              "      display: none;\n",
              "      fill: #1967D2;\n",
              "      height: 32px;\n",
              "      padding: 0 0 0 0;\n",
              "      width: 32px;\n",
              "    }\n",
              "\n",
              "    .colab-df-convert:hover {\n",
              "      background-color: #E2EBFA;\n",
              "      box-shadow: 0px 1px 2px rgba(60, 64, 67, 0.3), 0px 1px 3px 1px rgba(60, 64, 67, 0.15);\n",
              "      fill: #174EA6;\n",
              "    }\n",
              "\n",
              "    [theme=dark] .colab-df-convert {\n",
              "      background-color: #3B4455;\n",
              "      fill: #D2E3FC;\n",
              "    }\n",
              "\n",
              "    [theme=dark] .colab-df-convert:hover {\n",
              "      background-color: #434B5C;\n",
              "      box-shadow: 0px 1px 3px 1px rgba(0, 0, 0, 0.15);\n",
              "      filter: drop-shadow(0px 1px 2px rgba(0, 0, 0, 0.3));\n",
              "      fill: #FFFFFF;\n",
              "    }\n",
              "  </style>\n",
              "\n",
              "      <script>\n",
              "        const buttonEl =\n",
              "          document.querySelector('#df-c60827ca-bcf8-4384-8d69-d166954a20c6 button.colab-df-convert');\n",
              "        buttonEl.style.display =\n",
              "          google.colab.kernel.accessAllowed ? 'block' : 'none';\n",
              "\n",
              "        async function convertToInteractive(key) {\n",
              "          const element = document.querySelector('#df-c60827ca-bcf8-4384-8d69-d166954a20c6');\n",
              "          const dataTable =\n",
              "            await google.colab.kernel.invokeFunction('convertToInteractive',\n",
              "                                                     [key], {});\n",
              "          if (!dataTable) return;\n",
              "\n",
              "          const docLinkHtml = 'Like what you see? Visit the ' +\n",
              "            '<a target=\"_blank\" href=https://colab.research.google.com/notebooks/data_table.ipynb>data table notebook</a>'\n",
              "            + ' to learn more about interactive tables.';\n",
              "          element.innerHTML = '';\n",
              "          dataTable['output_type'] = 'display_data';\n",
              "          await google.colab.output.renderOutput(dataTable, element);\n",
              "          const docLink = document.createElement('div');\n",
              "          docLink.innerHTML = docLinkHtml;\n",
              "          element.appendChild(docLink);\n",
              "        }\n",
              "      </script>\n",
              "    </div>\n",
              "  </div>\n",
              "  "
            ]
          },
          "metadata": {},
          "execution_count": 7
        }
      ],
      "source": [
        "for i in range(0, df.shape[0]):\n",
        "  status = df['Marital_Status'][i]\n",
        "  if status in ('YOLO', 'Absurd'):\n",
        "    df = df.drop(i)\n",
        "  elif status == 'Alone':\n",
        "    df['Marital_Status'][i] = 'Single'\n",
        "df = df.reset_index(drop=True)\n",
        "df.head(5)"
      ]
    },
    {
      "cell_type": "markdown",
      "metadata": {
        "id": "AjRnVPaTmxnZ"
      },
      "source": [
        "### *Análisis exploratorio de datos*"
      ]
    },
    {
      "cell_type": "markdown",
      "metadata": {
        "id": "Scgv6U8sGR5J"
      },
      "source": [
        "Se analizarán la distribuciones de las distintas variables y la manera en la que estas interactúan con la variable respuesta `Response` para obtener conclusiones que nos permitan, luego, plantear las preguntas de interés."
      ]
    },
    {
      "cell_type": "markdown",
      "source": [
        "Resumen numérico de todas las variables:"
      ],
      "metadata": {
        "id": "TEzTFM5p-eWL"
      }
    },
    {
      "cell_type": "code",
      "source": [
        "df.describe()"
      ],
      "metadata": {
        "colab": {
          "base_uri": "https://localhost:8080/",
          "height": 364
        },
        "id": "njwmqFCT-bJp",
        "outputId": "951a133c-e66c-4487-d4ec-05154d57a5d2"
      },
      "execution_count": 250,
      "outputs": [
        {
          "output_type": "execute_result",
          "data": {
            "text/plain": [
              "                 Id   Year_Birth         Income      Kidhome     Teenhome  \\\n",
              "count   2212.000000  2212.000000    2212.000000  2212.000000  2212.000000   \n",
              "mean    5587.731917  1968.811031   52232.510850     0.442586     0.505425   \n",
              "std     3247.944128    11.982065   25187.455359     0.537052     0.544258   \n",
              "min        0.000000  1893.000000    1730.000000     0.000000     0.000000   \n",
              "25%     2814.750000  1959.000000   35233.500000     0.000000     0.000000   \n",
              "50%     5458.500000  1970.000000   51381.500000     0.000000     0.000000   \n",
              "75%     8421.750000  1977.000000   68522.000000     1.000000     1.000000   \n",
              "max    11191.000000  1996.000000  666666.000000     2.000000     2.000000   \n",
              "\n",
              "           Recency     MntWines    MntFruits  MntMeatProducts  \\\n",
              "count  2212.000000  2212.000000  2212.000000      2212.000000   \n",
              "mean     49.050633   305.030741    26.324593       166.970163   \n",
              "std      28.940794   337.611255    39.781794       224.344950   \n",
              "min       0.000000     0.000000     0.000000         0.000000   \n",
              "25%      24.000000    23.750000     1.750000        16.000000   \n",
              "50%      49.000000   173.500000     8.000000        68.000000   \n",
              "75%      74.000000   505.500000    33.000000       232.250000   \n",
              "max      99.000000  1493.000000   199.000000      1725.000000   \n",
              "\n",
              "       MntFishProducts  MntSweetProducts  MntGoldProds  NumDealsPurchases  \\\n",
              "count      2212.000000       2212.000000   2212.000000        2212.000000   \n",
              "mean         37.516275         27.047468     43.822333           2.321429   \n",
              "std          54.558673         41.092454     51.623472           1.923511   \n",
              "min           0.000000          0.000000      0.000000           0.000000   \n",
              "25%           3.000000          1.000000      9.000000           1.000000   \n",
              "50%          12.000000          8.000000     24.000000           2.000000   \n",
              "75%          50.000000         33.000000     56.000000           3.000000   \n",
              "max         259.000000        262.000000    321.000000          15.000000   \n",
              "\n",
              "       NumWebPurchases  NumCatalogPurchases  NumStorePurchases  \\\n",
              "count      2212.000000          2212.000000        2212.000000   \n",
              "mean          4.083183             2.668174           5.800181   \n",
              "std           2.741930             2.924378           3.253616   \n",
              "min           0.000000             0.000000           0.000000   \n",
              "25%           2.000000             0.000000           3.000000   \n",
              "50%           4.000000             2.000000           5.000000   \n",
              "75%           6.000000             4.000000           8.000000   \n",
              "max          27.000000            28.000000          13.000000   \n",
              "\n",
              "       NumWebVisitsMonth     Response     Complain     MntTotal  \n",
              "count        2212.000000  2212.000000  2212.000000  2212.000000  \n",
              "mean            5.320072     0.149638     0.009494   606.711573  \n",
              "std             2.423445     0.356797     0.096994   603.163013  \n",
              "min             0.000000     0.000000     0.000000     5.000000  \n",
              "25%             3.000000     0.000000     0.000000    68.750000  \n",
              "50%             6.000000     0.000000     0.000000   396.000000  \n",
              "75%             7.000000     0.000000     0.000000  1047.250000  \n",
              "max            20.000000     1.000000     1.000000  2525.000000  "
            ],
            "text/html": [
              "\n",
              "  <div id=\"df-ecadbe58-9f7e-4153-a39b-8154c8ca71bd\">\n",
              "    <div class=\"colab-df-container\">\n",
              "      <div>\n",
              "<style scoped>\n",
              "    .dataframe tbody tr th:only-of-type {\n",
              "        vertical-align: middle;\n",
              "    }\n",
              "\n",
              "    .dataframe tbody tr th {\n",
              "        vertical-align: top;\n",
              "    }\n",
              "\n",
              "    .dataframe thead th {\n",
              "        text-align: right;\n",
              "    }\n",
              "</style>\n",
              "<table border=\"1\" class=\"dataframe\">\n",
              "  <thead>\n",
              "    <tr style=\"text-align: right;\">\n",
              "      <th></th>\n",
              "      <th>Id</th>\n",
              "      <th>Year_Birth</th>\n",
              "      <th>Income</th>\n",
              "      <th>Kidhome</th>\n",
              "      <th>Teenhome</th>\n",
              "      <th>Recency</th>\n",
              "      <th>MntWines</th>\n",
              "      <th>MntFruits</th>\n",
              "      <th>MntMeatProducts</th>\n",
              "      <th>MntFishProducts</th>\n",
              "      <th>MntSweetProducts</th>\n",
              "      <th>MntGoldProds</th>\n",
              "      <th>NumDealsPurchases</th>\n",
              "      <th>NumWebPurchases</th>\n",
              "      <th>NumCatalogPurchases</th>\n",
              "      <th>NumStorePurchases</th>\n",
              "      <th>NumWebVisitsMonth</th>\n",
              "      <th>Response</th>\n",
              "      <th>Complain</th>\n",
              "      <th>MntTotal</th>\n",
              "    </tr>\n",
              "  </thead>\n",
              "  <tbody>\n",
              "    <tr>\n",
              "      <th>count</th>\n",
              "      <td>2212.000000</td>\n",
              "      <td>2212.000000</td>\n",
              "      <td>2212.000000</td>\n",
              "      <td>2212.000000</td>\n",
              "      <td>2212.000000</td>\n",
              "      <td>2212.000000</td>\n",
              "      <td>2212.000000</td>\n",
              "      <td>2212.000000</td>\n",
              "      <td>2212.000000</td>\n",
              "      <td>2212.000000</td>\n",
              "      <td>2212.000000</td>\n",
              "      <td>2212.000000</td>\n",
              "      <td>2212.000000</td>\n",
              "      <td>2212.000000</td>\n",
              "      <td>2212.000000</td>\n",
              "      <td>2212.000000</td>\n",
              "      <td>2212.000000</td>\n",
              "      <td>2212.000000</td>\n",
              "      <td>2212.000000</td>\n",
              "      <td>2212.000000</td>\n",
              "    </tr>\n",
              "    <tr>\n",
              "      <th>mean</th>\n",
              "      <td>5587.731917</td>\n",
              "      <td>1968.811031</td>\n",
              "      <td>52232.510850</td>\n",
              "      <td>0.442586</td>\n",
              "      <td>0.505425</td>\n",
              "      <td>49.050633</td>\n",
              "      <td>305.030741</td>\n",
              "      <td>26.324593</td>\n",
              "      <td>166.970163</td>\n",
              "      <td>37.516275</td>\n",
              "      <td>27.047468</td>\n",
              "      <td>43.822333</td>\n",
              "      <td>2.321429</td>\n",
              "      <td>4.083183</td>\n",
              "      <td>2.668174</td>\n",
              "      <td>5.800181</td>\n",
              "      <td>5.320072</td>\n",
              "      <td>0.149638</td>\n",
              "      <td>0.009494</td>\n",
              "      <td>606.711573</td>\n",
              "    </tr>\n",
              "    <tr>\n",
              "      <th>std</th>\n",
              "      <td>3247.944128</td>\n",
              "      <td>11.982065</td>\n",
              "      <td>25187.455359</td>\n",
              "      <td>0.537052</td>\n",
              "      <td>0.544258</td>\n",
              "      <td>28.940794</td>\n",
              "      <td>337.611255</td>\n",
              "      <td>39.781794</td>\n",
              "      <td>224.344950</td>\n",
              "      <td>54.558673</td>\n",
              "      <td>41.092454</td>\n",
              "      <td>51.623472</td>\n",
              "      <td>1.923511</td>\n",
              "      <td>2.741930</td>\n",
              "      <td>2.924378</td>\n",
              "      <td>3.253616</td>\n",
              "      <td>2.423445</td>\n",
              "      <td>0.356797</td>\n",
              "      <td>0.096994</td>\n",
              "      <td>603.163013</td>\n",
              "    </tr>\n",
              "    <tr>\n",
              "      <th>min</th>\n",
              "      <td>0.000000</td>\n",
              "      <td>1893.000000</td>\n",
              "      <td>1730.000000</td>\n",
              "      <td>0.000000</td>\n",
              "      <td>0.000000</td>\n",
              "      <td>0.000000</td>\n",
              "      <td>0.000000</td>\n",
              "      <td>0.000000</td>\n",
              "      <td>0.000000</td>\n",
              "      <td>0.000000</td>\n",
              "      <td>0.000000</td>\n",
              "      <td>0.000000</td>\n",
              "      <td>0.000000</td>\n",
              "      <td>0.000000</td>\n",
              "      <td>0.000000</td>\n",
              "      <td>0.000000</td>\n",
              "      <td>0.000000</td>\n",
              "      <td>0.000000</td>\n",
              "      <td>0.000000</td>\n",
              "      <td>5.000000</td>\n",
              "    </tr>\n",
              "    <tr>\n",
              "      <th>25%</th>\n",
              "      <td>2814.750000</td>\n",
              "      <td>1959.000000</td>\n",
              "      <td>35233.500000</td>\n",
              "      <td>0.000000</td>\n",
              "      <td>0.000000</td>\n",
              "      <td>24.000000</td>\n",
              "      <td>23.750000</td>\n",
              "      <td>1.750000</td>\n",
              "      <td>16.000000</td>\n",
              "      <td>3.000000</td>\n",
              "      <td>1.000000</td>\n",
              "      <td>9.000000</td>\n",
              "      <td>1.000000</td>\n",
              "      <td>2.000000</td>\n",
              "      <td>0.000000</td>\n",
              "      <td>3.000000</td>\n",
              "      <td>3.000000</td>\n",
              "      <td>0.000000</td>\n",
              "      <td>0.000000</td>\n",
              "      <td>68.750000</td>\n",
              "    </tr>\n",
              "    <tr>\n",
              "      <th>50%</th>\n",
              "      <td>5458.500000</td>\n",
              "      <td>1970.000000</td>\n",
              "      <td>51381.500000</td>\n",
              "      <td>0.000000</td>\n",
              "      <td>0.000000</td>\n",
              "      <td>49.000000</td>\n",
              "      <td>173.500000</td>\n",
              "      <td>8.000000</td>\n",
              "      <td>68.000000</td>\n",
              "      <td>12.000000</td>\n",
              "      <td>8.000000</td>\n",
              "      <td>24.000000</td>\n",
              "      <td>2.000000</td>\n",
              "      <td>4.000000</td>\n",
              "      <td>2.000000</td>\n",
              "      <td>5.000000</td>\n",
              "      <td>6.000000</td>\n",
              "      <td>0.000000</td>\n",
              "      <td>0.000000</td>\n",
              "      <td>396.000000</td>\n",
              "    </tr>\n",
              "    <tr>\n",
              "      <th>75%</th>\n",
              "      <td>8421.750000</td>\n",
              "      <td>1977.000000</td>\n",
              "      <td>68522.000000</td>\n",
              "      <td>1.000000</td>\n",
              "      <td>1.000000</td>\n",
              "      <td>74.000000</td>\n",
              "      <td>505.500000</td>\n",
              "      <td>33.000000</td>\n",
              "      <td>232.250000</td>\n",
              "      <td>50.000000</td>\n",
              "      <td>33.000000</td>\n",
              "      <td>56.000000</td>\n",
              "      <td>3.000000</td>\n",
              "      <td>6.000000</td>\n",
              "      <td>4.000000</td>\n",
              "      <td>8.000000</td>\n",
              "      <td>7.000000</td>\n",
              "      <td>0.000000</td>\n",
              "      <td>0.000000</td>\n",
              "      <td>1047.250000</td>\n",
              "    </tr>\n",
              "    <tr>\n",
              "      <th>max</th>\n",
              "      <td>11191.000000</td>\n",
              "      <td>1996.000000</td>\n",
              "      <td>666666.000000</td>\n",
              "      <td>2.000000</td>\n",
              "      <td>2.000000</td>\n",
              "      <td>99.000000</td>\n",
              "      <td>1493.000000</td>\n",
              "      <td>199.000000</td>\n",
              "      <td>1725.000000</td>\n",
              "      <td>259.000000</td>\n",
              "      <td>262.000000</td>\n",
              "      <td>321.000000</td>\n",
              "      <td>15.000000</td>\n",
              "      <td>27.000000</td>\n",
              "      <td>28.000000</td>\n",
              "      <td>13.000000</td>\n",
              "      <td>20.000000</td>\n",
              "      <td>1.000000</td>\n",
              "      <td>1.000000</td>\n",
              "      <td>2525.000000</td>\n",
              "    </tr>\n",
              "  </tbody>\n",
              "</table>\n",
              "</div>\n",
              "      <button class=\"colab-df-convert\" onclick=\"convertToInteractive('df-ecadbe58-9f7e-4153-a39b-8154c8ca71bd')\"\n",
              "              title=\"Convert this dataframe to an interactive table.\"\n",
              "              style=\"display:none;\">\n",
              "        \n",
              "  <svg xmlns=\"http://www.w3.org/2000/svg\" height=\"24px\"viewBox=\"0 0 24 24\"\n",
              "       width=\"24px\">\n",
              "    <path d=\"M0 0h24v24H0V0z\" fill=\"none\"/>\n",
              "    <path d=\"M18.56 5.44l.94 2.06.94-2.06 2.06-.94-2.06-.94-.94-2.06-.94 2.06-2.06.94zm-11 1L8.5 8.5l.94-2.06 2.06-.94-2.06-.94L8.5 2.5l-.94 2.06-2.06.94zm10 10l.94 2.06.94-2.06 2.06-.94-2.06-.94-.94-2.06-.94 2.06-2.06.94z\"/><path d=\"M17.41 7.96l-1.37-1.37c-.4-.4-.92-.59-1.43-.59-.52 0-1.04.2-1.43.59L10.3 9.45l-7.72 7.72c-.78.78-.78 2.05 0 2.83L4 21.41c.39.39.9.59 1.41.59.51 0 1.02-.2 1.41-.59l7.78-7.78 2.81-2.81c.8-.78.8-2.07 0-2.86zM5.41 20L4 18.59l7.72-7.72 1.47 1.35L5.41 20z\"/>\n",
              "  </svg>\n",
              "      </button>\n",
              "      \n",
              "  <style>\n",
              "    .colab-df-container {\n",
              "      display:flex;\n",
              "      flex-wrap:wrap;\n",
              "      gap: 12px;\n",
              "    }\n",
              "\n",
              "    .colab-df-convert {\n",
              "      background-color: #E8F0FE;\n",
              "      border: none;\n",
              "      border-radius: 50%;\n",
              "      cursor: pointer;\n",
              "      display: none;\n",
              "      fill: #1967D2;\n",
              "      height: 32px;\n",
              "      padding: 0 0 0 0;\n",
              "      width: 32px;\n",
              "    }\n",
              "\n",
              "    .colab-df-convert:hover {\n",
              "      background-color: #E2EBFA;\n",
              "      box-shadow: 0px 1px 2px rgba(60, 64, 67, 0.3), 0px 1px 3px 1px rgba(60, 64, 67, 0.15);\n",
              "      fill: #174EA6;\n",
              "    }\n",
              "\n",
              "    [theme=dark] .colab-df-convert {\n",
              "      background-color: #3B4455;\n",
              "      fill: #D2E3FC;\n",
              "    }\n",
              "\n",
              "    [theme=dark] .colab-df-convert:hover {\n",
              "      background-color: #434B5C;\n",
              "      box-shadow: 0px 1px 3px 1px rgba(0, 0, 0, 0.15);\n",
              "      filter: drop-shadow(0px 1px 2px rgba(0, 0, 0, 0.3));\n",
              "      fill: #FFFFFF;\n",
              "    }\n",
              "  </style>\n",
              "\n",
              "      <script>\n",
              "        const buttonEl =\n",
              "          document.querySelector('#df-ecadbe58-9f7e-4153-a39b-8154c8ca71bd button.colab-df-convert');\n",
              "        buttonEl.style.display =\n",
              "          google.colab.kernel.accessAllowed ? 'block' : 'none';\n",
              "\n",
              "        async function convertToInteractive(key) {\n",
              "          const element = document.querySelector('#df-ecadbe58-9f7e-4153-a39b-8154c8ca71bd');\n",
              "          const dataTable =\n",
              "            await google.colab.kernel.invokeFunction('convertToInteractive',\n",
              "                                                     [key], {});\n",
              "          if (!dataTable) return;\n",
              "\n",
              "          const docLinkHtml = 'Like what you see? Visit the ' +\n",
              "            '<a target=\"_blank\" href=https://colab.research.google.com/notebooks/data_table.ipynb>data table notebook</a>'\n",
              "            + ' to learn more about interactive tables.';\n",
              "          element.innerHTML = '';\n",
              "          dataTable['output_type'] = 'display_data';\n",
              "          await google.colab.output.renderOutput(dataTable, element);\n",
              "          const docLink = document.createElement('div');\n",
              "          docLink.innerHTML = docLinkHtml;\n",
              "          element.appendChild(docLink);\n",
              "        }\n",
              "      </script>\n",
              "    </div>\n",
              "  </div>\n",
              "  "
            ]
          },
          "metadata": {},
          "execution_count": 250
        }
      ]
    },
    {
      "cell_type": "markdown",
      "source": [
        "Porcentaje de aceptación de la membresía:"
      ],
      "metadata": {
        "id": "_8s7pPWHJXX2"
      }
    },
    {
      "cell_type": "code",
      "source": [
        "prop = df.groupby(\"Response\")[\"Response\"].count()/df.shape[0]\n",
        "prop"
      ],
      "metadata": {
        "colab": {
          "base_uri": "https://localhost:8080/"
        },
        "id": "1wYD-SgLJqzk",
        "outputId": "b8dc75de-dafe-4230-ed0c-ff3e553446c5"
      },
      "execution_count": 264,
      "outputs": [
        {
          "output_type": "execute_result",
          "data": {
            "text/plain": [
              "Response\n",
              "0    0.850362\n",
              "1    0.149638\n",
              "Name: Response, dtype: float64"
            ]
          },
          "metadata": {},
          "execution_count": 264
        }
      ]
    },
    {
      "cell_type": "code",
      "source": [
        "plt.rcParams[\"figure.figsize\"] = (10,5)\n",
        "prop.plot.bar(rot=0, color = (\"#297F87\", \"#FFB740\"))\n",
        "plt.title(\"Barplot of proportions for EResponse\", fontsize = 16)\n",
        "plt.ylabel(\"Proportion\")\n",
        "plt.xlabel(\"Response\")\n",
        "plt.show()"
      ],
      "metadata": {
        "colab": {
          "base_uri": "https://localhost:8080/",
          "height": 352
        },
        "id": "WwC97CqEJcQM",
        "outputId": "63322e2e-a6f6-4bd5-927c-0ab17c8900f6"
      },
      "execution_count": 265,
      "outputs": [
        {
          "output_type": "display_data",
          "data": {
            "text/plain": [
              "<Figure size 720x360 with 1 Axes>"
            ],
            "image/png": "[encoded data removed]"
          },
          "metadata": {
            "needs_background": "light"
          }
        }
      ]
    },
    {
      "cell_type": "markdown",
      "source": [
        "Se observa que tan sólo el 15% de los encuestados aceptó la membresía."
      ],
      "metadata": {
        "id": "mJJamb6KKSPM"
      }
    },
    {
      "cell_type": "markdown",
      "source": [
        "Mapa de calor con valores de correlación para las variables numéricas:"
      ],
      "metadata": {
        "id": "GIJvZd5o-rc4"
      }
    },
    {
      "cell_type": "code",
      "source": [
        "plt.figure(figsize=(18,10))\n",
        "p=sns.heatmap(df.corr(), annot=True)"
      ],
      "metadata": {
        "colab": {
          "base_uri": "https://localhost:8080/",
          "height": 698
        },
        "id": "nRsR55aQ-xMZ",
        "outputId": "53a7f59b-4487-456d-f437-f5f30bb7552f"
      },
      "execution_count": 255,
      "outputs": [
        {
          "output_type": "display_data",
          "data": {
            "text/plain": [
              "<Figure size 1296x720 with 2 Axes>"
            ],
            "image/png": "[encoded data removed]"
          },
          "metadata": {
            "needs_background": "light"
          }
        }
      ]
    },
    {
      "cell_type": "markdown",
      "source": [
        "Las variables que se observa mejor correlacionan de manera proporcional con la respuesta son el salario, las cantidades gastadas en los últimos 2 años en vinos, carnes, frutas, pescados, productos dulces y productos de oro. También el número de compras realizado desde la página web, el número de compras y el número de compras realizado por catálogo. <p>\n",
        "<p>\n",
        "Las variables que se observa mejor correlacionan de manera inversamente proporcional son la presencia de adolescentes en el hogar y el número de días transcurridos desde la última compra."
      ],
      "metadata": {
        "id": "OFr0lyMb_f82"
      }
    },
    {
      "cell_type": "markdown",
      "metadata": {
        "id": "TwTO1USlLUYA"
      },
      "source": [
        "Análisis de la respuesta de aceptación a la membresía en función de los salarios anuales:"
      ]
    },
    {
      "cell_type": "code",
      "execution_count": 8,
      "metadata": {
        "colab": {
          "base_uri": "https://localhost:8080/",
          "height": 161
        },
        "id": "-lsVShzDLbJZ",
        "outputId": "4cda2f22-8b35-4765-de8c-d8da03bab24a"
      },
      "outputs": [
        {
          "output_type": "stream",
          "name": "stdout",
          "text": [
            "Resumen numérico\n"
          ]
        },
        {
          "output_type": "execute_result",
          "data": {
            "text/plain": [
              "           count          mean           std     min      25%      50%  \\\n",
              "Response                                                                 \n",
              "0         1881.0  50832.625199  25263.913081  1730.0  34421.0  50150.0   \n",
              "1          331.0  60187.752266  23231.596312  7500.0  39723.5  64090.0   \n",
              "\n",
              "              75%       max  \n",
              "Response                     \n",
              "0         66313.0  666666.0  \n",
              "1         80676.0  105471.0  "
            ],
            "text/html": [
              "\n",
              "  <div id=\"df-ca31f06c-d0d6-4310-a1d6-4f175e360e92\">\n",
              "    <div class=\"colab-df-container\">\n",
              "      <div>\n",
              "<style scoped>\n",
              "    .dataframe tbody tr th:only-of-type {\n",
              "        vertical-align: middle;\n",
              "    }\n",
              "\n",
              "    .dataframe tbody tr th {\n",
              "        vertical-align: top;\n",
              "    }\n",
              "\n",
              "    .dataframe thead th {\n",
              "        text-align: right;\n",
              "    }\n",
              "</style>\n",
              "<table border=\"1\" class=\"dataframe\">\n",
              "  <thead>\n",
              "    <tr style=\"text-align: right;\">\n",
              "      <th></th>\n",
              "      <th>count</th>\n",
              "      <th>mean</th>\n",
              "      <th>std</th>\n",
              "      <th>min</th>\n",
              "      <th>25%</th>\n",
              "      <th>50%</th>\n",
              "      <th>75%</th>\n",
              "      <th>max</th>\n",
              "    </tr>\n",
              "    <tr>\n",
              "      <th>Response</th>\n",
              "      <th></th>\n",
              "      <th></th>\n",
              "      <th></th>\n",
              "      <th></th>\n",
              "      <th></th>\n",
              "      <th></th>\n",
              "      <th></th>\n",
              "      <th></th>\n",
              "    </tr>\n",
              "  </thead>\n",
              "  <tbody>\n",
              "    <tr>\n",
              "      <th>0</th>\n",
              "      <td>1881.0</td>\n",
              "      <td>50832.625199</td>\n",
              "      <td>25263.913081</td>\n",
              "      <td>1730.0</td>\n",
              "      <td>34421.0</td>\n",
              "      <td>50150.0</td>\n",
              "      <td>66313.0</td>\n",
              "      <td>666666.0</td>\n",
              "    </tr>\n",
              "    <tr>\n",
              "      <th>1</th>\n",
              "      <td>331.0</td>\n",
              "      <td>60187.752266</td>\n",
              "      <td>23231.596312</td>\n",
              "      <td>7500.0</td>\n",
              "      <td>39723.5</td>\n",
              "      <td>64090.0</td>\n",
              "      <td>80676.0</td>\n",
              "      <td>105471.0</td>\n",
              "    </tr>\n",
              "  </tbody>\n",
              "</table>\n",
              "</div>\n",
              "      <button class=\"colab-df-convert\" onclick=\"convertToInteractive('df-ca31f06c-d0d6-4310-a1d6-4f175e360e92')\"\n",
              "              title=\"Convert this dataframe to an interactive table.\"\n",
              "              style=\"display:none;\">\n",
              "        \n",
              "  <svg xmlns=\"http://www.w3.org/2000/svg\" height=\"24px\"viewBox=\"0 0 24 24\"\n",
              "       width=\"24px\">\n",
              "    <path d=\"M0 0h24v24H0V0z\" fill=\"none\"/>\n",
              "    <path d=\"M18.56 5.44l.94 2.06.94-2.06 2.06-.94-2.06-.94-.94-2.06-.94 2.06-2.06.94zm-11 1L8.5 8.5l.94-2.06 2.06-.94-2.06-.94L8.5 2.5l-.94 2.06-2.06.94zm10 10l.94 2.06.94-2.06 2.06-.94-2.06-.94-.94-2.06-.94 2.06-2.06.94z\"/><path d=\"M17.41 7.96l-1.37-1.37c-.4-.4-.92-.59-1.43-.59-.52 0-1.04.2-1.43.59L10.3 9.45l-7.72 7.72c-.78.78-.78 2.05 0 2.83L4 21.41c.39.39.9.59 1.41.59.51 0 1.02-.2 1.41-.59l7.78-7.78 2.81-2.81c.8-.78.8-2.07 0-2.86zM5.41 20L4 18.59l7.72-7.72 1.47 1.35L5.41 20z\"/>\n",
              "  </svg>\n",
              "      </button>\n",
              "      \n",
              "  <style>\n",
              "    .colab-df-container {\n",
              "      display:flex;\n",
              "      flex-wrap:wrap;\n",
              "      gap: 12px;\n",
              "    }\n",
              "\n",
              "    .colab-df-convert {\n",
              "      background-color: #E8F0FE;\n",
              "      border: none;\n",
              "      border-radius: 50%;\n",
              "      cursor: pointer;\n",
              "      display: none;\n",
              "      fill: #1967D2;\n",
              "      height: 32px;\n",
              "      padding: 0 0 0 0;\n",
              "      width: 32px;\n",
              "    }\n",
              "\n",
              "    .colab-df-convert:hover {\n",
              "      background-color: #E2EBFA;\n",
              "      box-shadow: 0px 1px 2px rgba(60, 64, 67, 0.3), 0px 1px 3px 1px rgba(60, 64, 67, 0.15);\n",
              "      fill: #174EA6;\n",
              "    }\n",
              "\n",
              "    [theme=dark] .colab-df-convert {\n",
              "      background-color: #3B4455;\n",
              "      fill: #D2E3FC;\n",
              "    }\n",
              "\n",
              "    [theme=dark] .colab-df-convert:hover {\n",
              "      background-color: #434B5C;\n",
              "      box-shadow: 0px 1px 3px 1px rgba(0, 0, 0, 0.15);\n",
              "      filter: drop-shadow(0px 1px 2px rgba(0, 0, 0, 0.3));\n",
              "      fill: #FFFFFF;\n",
              "    }\n",
              "  </style>\n",
              "\n",
              "      <script>\n",
              "        const buttonEl =\n",
              "          document.querySelector('#df-ca31f06c-d0d6-4310-a1d6-4f175e360e92 button.colab-df-convert');\n",
              "        buttonEl.style.display =\n",
              "          google.colab.kernel.accessAllowed ? 'block' : 'none';\n",
              "\n",
              "        async function convertToInteractive(key) {\n",
              "          const element = document.querySelector('#df-ca31f06c-d0d6-4310-a1d6-4f175e360e92');\n",
              "          const dataTable =\n",
              "            await google.colab.kernel.invokeFunction('convertToInteractive',\n",
              "                                                     [key], {});\n",
              "          if (!dataTable) return;\n",
              "\n",
              "          const docLinkHtml = 'Like what you see? Visit the ' +\n",
              "            '<a target=\"_blank\" href=https://colab.research.google.com/notebooks/data_table.ipynb>data table notebook</a>'\n",
              "            + ' to learn more about interactive tables.';\n",
              "          element.innerHTML = '';\n",
              "          dataTable['output_type'] = 'display_data';\n",
              "          await google.colab.output.renderOutput(dataTable, element);\n",
              "          const docLink = document.createElement('div');\n",
              "          docLink.innerHTML = docLinkHtml;\n",
              "          element.appendChild(docLink);\n",
              "        }\n",
              "      </script>\n",
              "    </div>\n",
              "  </div>\n",
              "  "
            ]
          },
          "metadata": {},
          "execution_count": 8
        }
      ],
      "source": [
        "print(\"Resumen numérico\")\n",
        "df.groupby('Response')['Income'].describe()"
      ]
    },
    {
      "cell_type": "code",
      "execution_count": 9,
      "metadata": {
        "colab": {
          "base_uri": "https://localhost:8080/",
          "height": 369
        },
        "id": "8kCbleGq3Oea",
        "outputId": "6b2a94a0-487d-4483-8da5-f246c83e53bc"
      },
      "outputs": [
        {
          "output_type": "stream",
          "name": "stdout",
          "text": [
            "Resumen gráfico\n"
          ]
        },
        {
          "output_type": "display_data",
          "data": {
            "text/plain": [
              "<Figure size 432x360 with 1 Axes>"
            ],
            "image/png": "[encoded data removed]"
          },
          "metadata": {
            "needs_background": "light"
          }
        }
      ],
      "source": [
        "print(\"Resumen gráfico\")\n",
        "fig,ax = plt.subplots()\n",
        "fig.set_size_inches(6, 5)\n",
        "sns.boxplot(data=df, x='Response', y='Income', \n",
        "            medianprops={\"linewidth\":2, \"color\": \"coral\"}, \n",
        "            boxprops={\"linewidth\": 0, \"facecolor\": (.4, .6, .8, .5)}, \n",
        "            width=0.4, linewidth=1, flierprops={\"marker\": \"x\", \"alpha\": .5})\n",
        "plt.title(\"Boxplot: Anual income's distribution\", fontsize = 16)\n",
        "plt.xlabel(\"Response\")\n",
        "plt.ylabel(\"Anual income\")\n",
        "plt.show()"
      ]
    },
    {
      "cell_type": "code",
      "execution_count": 10,
      "metadata": {
        "colab": {
          "base_uri": "https://localhost:8080/",
          "height": 369
        },
        "id": "x0oCsErv2hoM",
        "outputId": "83ca2d24-0eef-4fe1-89ee-fb15a47d43ab"
      },
      "outputs": [
        {
          "output_type": "stream",
          "name": "stdout",
          "text": [
            "Resumen gráfico sin outliers\n"
          ]
        },
        {
          "output_type": "display_data",
          "data": {
            "text/plain": [
              "<Figure size 432x360 with 1 Axes>"
            ],
            "image/png": "[encoded data removed]"
          },
          "metadata": {
            "needs_background": "light"
          }
        }
      ],
      "source": [
        "print(\"Resumen gráfico sin outliers\")\n",
        "fig,ax = plt.subplots()\n",
        "fig.set_size_inches(6, 5)\n",
        "sns.boxplot(data=df, x='Response', y='Income',\n",
        "            medianprops={\"linewidth\":2, \"color\": \"coral\"}, \n",
        "            boxprops={\"linewidth\": 0, \"facecolor\": (.4, .6, .8, .5)}, \n",
        "            width=0.4, linewidth=1, **{'showfliers': False})\n",
        "plt.title(\"Boxplot: Anual income's distribution w/o outliers\", fontsize = 16)\n",
        "plt.xlabel(\"Response\")\n",
        "plt.ylabel(\"Anual income\")\n",
        "plt.show()"
      ]
    },
    {
      "cell_type": "markdown",
      "metadata": {
        "id": "HicKR9Bm5LLW"
      },
      "source": [
        "Se observa que la mediana de los salarios anuales de las personas que decidieron aceptar la membresía es ligeramente superior a la mediana de los salarios anuales de las personas que no lo hicieron. La variabilidad es ligeramente superior en los casos de las personas que no aceptaron la membresía y, además, esta distribución presenta outliers. \n",
        "\n",
        "Las cajas parecen estar bastante solapadas por lo que pareciera no existir una diferencia significativa sin embargo, debido a la presencia de outliers, sería conveniente hacer un análisis más profundo."
      ]
    },
    {
      "cell_type": "markdown",
      "metadata": {
        "id": "Z9kzPxDHybk3"
      },
      "source": [
        "Análisis de la respuesta de aceptación a la membresía en función del nivel de estudios alcanzado:"
      ]
    },
    {
      "cell_type": "code",
      "execution_count": 11,
      "metadata": {
        "colab": {
          "base_uri": "https://localhost:8080/",
          "height": 238
        },
        "id": "fCCgvAuxpOlY",
        "outputId": "c82df7ac-5ada-486a-e4bf-87d20e347ff9"
      },
      "outputs": [
        {
          "output_type": "execute_result",
          "data": {
            "text/plain": [
              "Response           0         1\n",
              "Education                     \n",
              "2n Cycle    0.890000  0.110000\n",
              "Basic       0.962963  0.037037\n",
              "Graduation  0.864574  0.135426\n",
              "Master      0.846154  0.153846\n",
              "PhD         0.791232  0.208768"
            ],
            "text/html": [
              "\n",
              "  <div id=\"df-9cc27c20-b534-4c5a-b625-5ada870bc414\">\n",
              "    <div class=\"colab-df-container\">\n",
              "      <div>\n",
              "<style scoped>\n",
              "    .dataframe tbody tr th:only-of-type {\n",
              "        vertical-align: middle;\n",
              "    }\n",
              "\n",
              "    .dataframe tbody tr th {\n",
              "        vertical-align: top;\n",
              "    }\n",
              "\n",
              "    .dataframe thead th {\n",
              "        text-align: right;\n",
              "    }\n",
              "</style>\n",
              "<table border=\"1\" class=\"dataframe\">\n",
              "  <thead>\n",
              "    <tr style=\"text-align: right;\">\n",
              "      <th>Response</th>\n",
              "      <th>0</th>\n",
              "      <th>1</th>\n",
              "    </tr>\n",
              "    <tr>\n",
              "      <th>Education</th>\n",
              "      <th></th>\n",
              "      <th></th>\n",
              "    </tr>\n",
              "  </thead>\n",
              "  <tbody>\n",
              "    <tr>\n",
              "      <th>2n Cycle</th>\n",
              "      <td>0.890000</td>\n",
              "      <td>0.110000</td>\n",
              "    </tr>\n",
              "    <tr>\n",
              "      <th>Basic</th>\n",
              "      <td>0.962963</td>\n",
              "      <td>0.037037</td>\n",
              "    </tr>\n",
              "    <tr>\n",
              "      <th>Graduation</th>\n",
              "      <td>0.864574</td>\n",
              "      <td>0.135426</td>\n",
              "    </tr>\n",
              "    <tr>\n",
              "      <th>Master</th>\n",
              "      <td>0.846154</td>\n",
              "      <td>0.153846</td>\n",
              "    </tr>\n",
              "    <tr>\n",
              "      <th>PhD</th>\n",
              "      <td>0.791232</td>\n",
              "      <td>0.208768</td>\n",
              "    </tr>\n",
              "  </tbody>\n",
              "</table>\n",
              "</div>\n",
              "      <button class=\"colab-df-convert\" onclick=\"convertToInteractive('df-9cc27c20-b534-4c5a-b625-5ada870bc414')\"\n",
              "              title=\"Convert this dataframe to an interactive table.\"\n",
              "              style=\"display:none;\">\n",
              "        \n",
              "  <svg xmlns=\"http://www.w3.org/2000/svg\" height=\"24px\"viewBox=\"0 0 24 24\"\n",
              "       width=\"24px\">\n",
              "    <path d=\"M0 0h24v24H0V0z\" fill=\"none\"/>\n",
              "    <path d=\"M18.56 5.44l.94 2.06.94-2.06 2.06-.94-2.06-.94-.94-2.06-.94 2.06-2.06.94zm-11 1L8.5 8.5l.94-2.06 2.06-.94-2.06-.94L8.5 2.5l-.94 2.06-2.06.94zm10 10l.94 2.06.94-2.06 2.06-.94-2.06-.94-.94-2.06-.94 2.06-2.06.94z\"/><path d=\"M17.41 7.96l-1.37-1.37c-.4-.4-.92-.59-1.43-.59-.52 0-1.04.2-1.43.59L10.3 9.45l-7.72 7.72c-.78.78-.78 2.05 0 2.83L4 21.41c.39.39.9.59 1.41.59.51 0 1.02-.2 1.41-.59l7.78-7.78 2.81-2.81c.8-.78.8-2.07 0-2.86zM5.41 20L4 18.59l7.72-7.72 1.47 1.35L5.41 20z\"/>\n",
              "  </svg>\n",
              "      </button>\n",
              "      \n",
              "  <style>\n",
              "    .colab-df-container {\n",
              "      display:flex;\n",
              "      flex-wrap:wrap;\n",
              "      gap: 12px;\n",
              "    }\n",
              "\n",
              "    .colab-df-convert {\n",
              "      background-color: #E8F0FE;\n",
              "      border: none;\n",
              "      border-radius: 50%;\n",
              "      cursor: pointer;\n",
              "      display: none;\n",
              "      fill: #1967D2;\n",
              "      height: 32px;\n",
              "      padding: 0 0 0 0;\n",
              "      width: 32px;\n",
              "    }\n",
              "\n",
              "    .colab-df-convert:hover {\n",
              "      background-color: #E2EBFA;\n",
              "      box-shadow: 0px 1px 2px rgba(60, 64, 67, 0.3), 0px 1px 3px 1px rgba(60, 64, 67, 0.15);\n",
              "      fill: #174EA6;\n",
              "    }\n",
              "\n",
              "    [theme=dark] .colab-df-convert {\n",
              "      background-color: #3B4455;\n",
              "      fill: #D2E3FC;\n",
              "    }\n",
              "\n",
              "    [theme=dark] .colab-df-convert:hover {\n",
              "      background-color: #434B5C;\n",
              "      box-shadow: 0px 1px 3px 1px rgba(0, 0, 0, 0.15);\n",
              "      filter: drop-shadow(0px 1px 2px rgba(0, 0, 0, 0.3));\n",
              "      fill: #FFFFFF;\n",
              "    }\n",
              "  </style>\n",
              "\n",
              "      <script>\n",
              "        const buttonEl =\n",
              "          document.querySelector('#df-9cc27c20-b534-4c5a-b625-5ada870bc414 button.colab-df-convert');\n",
              "        buttonEl.style.display =\n",
              "          google.colab.kernel.accessAllowed ? 'block' : 'none';\n",
              "\n",
              "        async function convertToInteractive(key) {\n",
              "          const element = document.querySelector('#df-9cc27c20-b534-4c5a-b625-5ada870bc414');\n",
              "          const dataTable =\n",
              "            await google.colab.kernel.invokeFunction('convertToInteractive',\n",
              "                                                     [key], {});\n",
              "          if (!dataTable) return;\n",
              "\n",
              "          const docLinkHtml = 'Like what you see? Visit the ' +\n",
              "            '<a target=\"_blank\" href=https://colab.research.google.com/notebooks/data_table.ipynb>data table notebook</a>'\n",
              "            + ' to learn more about interactive tables.';\n",
              "          element.innerHTML = '';\n",
              "          dataTable['output_type'] = 'display_data';\n",
              "          await google.colab.output.renderOutput(dataTable, element);\n",
              "          const docLink = document.createElement('div');\n",
              "          docLink.innerHTML = docLinkHtml;\n",
              "          element.appendChild(docLink);\n",
              "        }\n",
              "      </script>\n",
              "    </div>\n",
              "  </div>\n",
              "  "
            ]
          },
          "metadata": {},
          "execution_count": 11
        }
      ],
      "source": [
        "crosstab4 = pd.crosstab(df['Education'], df['Response'], normalize='index')\n",
        "crosstab4"
      ]
    },
    {
      "cell_type": "code",
      "execution_count": 12,
      "metadata": {
        "colab": {
          "base_uri": "https://localhost:8080/",
          "height": 352
        },
        "id": "wOyrX38trHSk",
        "outputId": "326e46ff-53ac-42e3-b70b-6251d91b467b"
      },
      "outputs": [
        {
          "output_type": "display_data",
          "data": {
            "text/plain": [
              "<Figure size 720x360 with 1 Axes>"
            ],
            "image/png": "[encoded data removed]"
          },
          "metadata": {
            "needs_background": "light"
          }
        }
      ],
      "source": [
        "plt.rcParams[\"figure.figsize\"] = (10,5)\n",
        "crosstab4.plot.bar(rot=0, color = (\"#297F87\", \"#FFB740\"))\n",
        "plt.legend(title = \"Response\", labels = (\"No accept\", \"Accept\"))\n",
        "plt.title(\"Barplot of proportions for Education level\", fontsize = 16)\n",
        "plt.ylabel(\"Proportion\")\n",
        "plt.xlabel(\"Education level\")\n",
        "plt.show()"
      ]
    },
    {
      "cell_type": "markdown",
      "metadata": {
        "id": "BofGBC0EleHA"
      },
      "source": [
        "Tomando en cuenta el orden jerárquico de los niveles académicos (en orden creciente esto es: básico, secundario, graduado, máster y PhD) observamos que a medida que el nivel aumenta pareciera ser mayor la proporción de personas que se dispuesieron a aceptar la membresía."
      ]
    },
    {
      "cell_type": "markdown",
      "metadata": {
        "id": "rq5sW40jP8ET"
      },
      "source": [
        "Análisis de la respuesta de aceptación a la membresía en función del nivel del estado civil de la persona:"
      ]
    },
    {
      "cell_type": "code",
      "execution_count": 13,
      "metadata": {
        "colab": {
          "base_uri": "https://localhost:8080/",
          "height": 238
        },
        "id": "yMg9I3wgAUDE",
        "outputId": "8505ed18-6cee-49d2-ee84-ea498ae45803"
      },
      "outputs": [
        {
          "output_type": "execute_result",
          "data": {
            "text/plain": [
              "Response               0         1\n",
              "Marital_Status                    \n",
              "Divorced        0.793103  0.206897\n",
              "Married         0.885648  0.114352\n",
              "Single          0.774262  0.225738\n",
              "Together        0.895288  0.104712\n",
              "Widow           0.763158  0.236842"
            ],
            "text/html": [
              "\n",
              "  <div id=\"df-8e51b3e1-935b-4312-92fa-b28dadcad0d0\">\n",
              "    <div class=\"colab-df-container\">\n",
              "      <div>\n",
              "<style scoped>\n",
              "    .dataframe tbody tr th:only-of-type {\n",
              "        vertical-align: middle;\n",
              "    }\n",
              "\n",
              "    .dataframe tbody tr th {\n",
              "        vertical-align: top;\n",
              "    }\n",
              "\n",
              "    .dataframe thead th {\n",
              "        text-align: right;\n",
              "    }\n",
              "</style>\n",
              "<table border=\"1\" class=\"dataframe\">\n",
              "  <thead>\n",
              "    <tr style=\"text-align: right;\">\n",
              "      <th>Response</th>\n",
              "      <th>0</th>\n",
              "      <th>1</th>\n",
              "    </tr>\n",
              "    <tr>\n",
              "      <th>Marital_Status</th>\n",
              "      <th></th>\n",
              "      <th></th>\n",
              "    </tr>\n",
              "  </thead>\n",
              "  <tbody>\n",
              "    <tr>\n",
              "      <th>Divorced</th>\n",
              "      <td>0.793103</td>\n",
              "      <td>0.206897</td>\n",
              "    </tr>\n",
              "    <tr>\n",
              "      <th>Married</th>\n",
              "      <td>0.885648</td>\n",
              "      <td>0.114352</td>\n",
              "    </tr>\n",
              "    <tr>\n",
              "      <th>Single</th>\n",
              "      <td>0.774262</td>\n",
              "      <td>0.225738</td>\n",
              "    </tr>\n",
              "    <tr>\n",
              "      <th>Together</th>\n",
              "      <td>0.895288</td>\n",
              "      <td>0.104712</td>\n",
              "    </tr>\n",
              "    <tr>\n",
              "      <th>Widow</th>\n",
              "      <td>0.763158</td>\n",
              "      <td>0.236842</td>\n",
              "    </tr>\n",
              "  </tbody>\n",
              "</table>\n",
              "</div>\n",
              "      <button class=\"colab-df-convert\" onclick=\"convertToInteractive('df-8e51b3e1-935b-4312-92fa-b28dadcad0d0')\"\n",
              "              title=\"Convert this dataframe to an interactive table.\"\n",
              "              style=\"display:none;\">\n",
              "        \n",
              "  <svg xmlns=\"http://www.w3.org/2000/svg\" height=\"24px\"viewBox=\"0 0 24 24\"\n",
              "       width=\"24px\">\n",
              "    <path d=\"M0 0h24v24H0V0z\" fill=\"none\"/>\n",
              "    <path d=\"M18.56 5.44l.94 2.06.94-2.06 2.06-.94-2.06-.94-.94-2.06-.94 2.06-2.06.94zm-11 1L8.5 8.5l.94-2.06 2.06-.94-2.06-.94L8.5 2.5l-.94 2.06-2.06.94zm10 10l.94 2.06.94-2.06 2.06-.94-2.06-.94-.94-2.06-.94 2.06-2.06.94z\"/><path d=\"M17.41 7.96l-1.37-1.37c-.4-.4-.92-.59-1.43-.59-.52 0-1.04.2-1.43.59L10.3 9.45l-7.72 7.72c-.78.78-.78 2.05 0 2.83L4 21.41c.39.39.9.59 1.41.59.51 0 1.02-.2 1.41-.59l7.78-7.78 2.81-2.81c.8-.78.8-2.07 0-2.86zM5.41 20L4 18.59l7.72-7.72 1.47 1.35L5.41 20z\"/>\n",
              "  </svg>\n",
              "      </button>\n",
              "      \n",
              "  <style>\n",
              "    .colab-df-container {\n",
              "      display:flex;\n",
              "      flex-wrap:wrap;\n",
              "      gap: 12px;\n",
              "    }\n",
              "\n",
              "    .colab-df-convert {\n",
              "      background-color: #E8F0FE;\n",
              "      border: none;\n",
              "      border-radius: 50%;\n",
              "      cursor: pointer;\n",
              "      display: none;\n",
              "      fill: #1967D2;\n",
              "      height: 32px;\n",
              "      padding: 0 0 0 0;\n",
              "      width: 32px;\n",
              "    }\n",
              "\n",
              "    .colab-df-convert:hover {\n",
              "      background-color: #E2EBFA;\n",
              "      box-shadow: 0px 1px 2px rgba(60, 64, 67, 0.3), 0px 1px 3px 1px rgba(60, 64, 67, 0.15);\n",
              "      fill: #174EA6;\n",
              "    }\n",
              "\n",
              "    [theme=dark] .colab-df-convert {\n",
              "      background-color: #3B4455;\n",
              "      fill: #D2E3FC;\n",
              "    }\n",
              "\n",
              "    [theme=dark] .colab-df-convert:hover {\n",
              "      background-color: #434B5C;\n",
              "      box-shadow: 0px 1px 3px 1px rgba(0, 0, 0, 0.15);\n",
              "      filter: drop-shadow(0px 1px 2px rgba(0, 0, 0, 0.3));\n",
              "      fill: #FFFFFF;\n",
              "    }\n",
              "  </style>\n",
              "\n",
              "      <script>\n",
              "        const buttonEl =\n",
              "          document.querySelector('#df-8e51b3e1-935b-4312-92fa-b28dadcad0d0 button.colab-df-convert');\n",
              "        buttonEl.style.display =\n",
              "          google.colab.kernel.accessAllowed ? 'block' : 'none';\n",
              "\n",
              "        async function convertToInteractive(key) {\n",
              "          const element = document.querySelector('#df-8e51b3e1-935b-4312-92fa-b28dadcad0d0');\n",
              "          const dataTable =\n",
              "            await google.colab.kernel.invokeFunction('convertToInteractive',\n",
              "                                                     [key], {});\n",
              "          if (!dataTable) return;\n",
              "\n",
              "          const docLinkHtml = 'Like what you see? Visit the ' +\n",
              "            '<a target=\"_blank\" href=https://colab.research.google.com/notebooks/data_table.ipynb>data table notebook</a>'\n",
              "            + ' to learn more about interactive tables.';\n",
              "          element.innerHTML = '';\n",
              "          dataTable['output_type'] = 'display_data';\n",
              "          await google.colab.output.renderOutput(dataTable, element);\n",
              "          const docLink = document.createElement('div');\n",
              "          docLink.innerHTML = docLinkHtml;\n",
              "          element.appendChild(docLink);\n",
              "        }\n",
              "      </script>\n",
              "    </div>\n",
              "  </div>\n",
              "  "
            ]
          },
          "metadata": {},
          "execution_count": 13
        }
      ],
      "source": [
        "crosstab = pd.crosstab(df['Marital_Status'], df['Response'], normalize='index')\n",
        "crosstab"
      ]
    },
    {
      "cell_type": "code",
      "execution_count": 14,
      "metadata": {
        "colab": {
          "base_uri": "https://localhost:8080/",
          "height": 352
        },
        "id": "dyBNBFHaE5NW",
        "outputId": "956cc999-80ba-4fcb-e100-55d12ea23de9"
      },
      "outputs": [
        {
          "output_type": "display_data",
          "data": {
            "text/plain": [
              "<Figure size 720x360 with 1 Axes>"
            ],
            "image/png": "[encoded data removed]"
          },
          "metadata": {
            "needs_background": "light"
          }
        }
      ],
      "source": [
        "plt.rcParams[\"figure.figsize\"] = (10,5)\n",
        "crosstab.plot.bar(rot=0, color = (\"#297F87\", \"#FFB740\"))\n",
        "plt.legend(title = \"Response\", labels = (\"No accept\", \"Accept\"))\n",
        "plt.title(\"Barplot of proportions for Marital Status\", fontsize = 16)\n",
        "plt.ylabel(\"Proportion\")\n",
        "plt.xlabel(\"Marital Status\")\n",
        "plt.show()"
      ]
    },
    {
      "cell_type": "markdown",
      "metadata": {
        "id": "xXqn-t-Prdhx"
      },
      "source": [
        "Se observa que es mayor la proporción de personas que aceptaron la membresía en los casos en los que su estado civil era divorciado, soltero o viudo. Algo que estas categorías tienen en común es que todas ellas implican el no poseer pareja, en contraposición a los casos de las personas casadas o juntadas que parecen evidenciar una menor predisposicón a aceptar la membresía."
      ]
    },
    {
      "cell_type": "markdown",
      "metadata": {
        "id": "Gfjga1Ev1HUX"
      },
      "source": [
        "Análisis de la respuesta de aceptación a la membresía en función del nivel de la presencia de niños y/o adolescentes en el hogar:"
      ]
    },
    {
      "cell_type": "code",
      "execution_count": 15,
      "metadata": {
        "colab": {
          "base_uri": "https://localhost:8080/",
          "height": 143
        },
        "id": "h1oyq--ZVMDJ",
        "outputId": "79f2e7cd-8e46-4adb-d979-6c7d4ec8db89"
      },
      "outputs": [
        {
          "output_type": "execute_result",
          "data": {
            "text/plain": [
              "Response                  0         1\n",
              "Has_kids_or_teens                    \n",
              "No                 0.735341  0.264659\n",
              "Yes                0.896268  0.103732"
            ],
            "text/html": [
              "\n",
              "  <div id=\"df-065f7fba-587d-4996-9c5b-82fdf070f897\">\n",
              "    <div class=\"colab-df-container\">\n",
              "      <div>\n",
              "<style scoped>\n",
              "    .dataframe tbody tr th:only-of-type {\n",
              "        vertical-align: middle;\n",
              "    }\n",
              "\n",
              "    .dataframe tbody tr th {\n",
              "        vertical-align: top;\n",
              "    }\n",
              "\n",
              "    .dataframe thead th {\n",
              "        text-align: right;\n",
              "    }\n",
              "</style>\n",
              "<table border=\"1\" class=\"dataframe\">\n",
              "  <thead>\n",
              "    <tr style=\"text-align: right;\">\n",
              "      <th>Response</th>\n",
              "      <th>0</th>\n",
              "      <th>1</th>\n",
              "    </tr>\n",
              "    <tr>\n",
              "      <th>Has_kids_or_teens</th>\n",
              "      <th></th>\n",
              "      <th></th>\n",
              "    </tr>\n",
              "  </thead>\n",
              "  <tbody>\n",
              "    <tr>\n",
              "      <th>No</th>\n",
              "      <td>0.735341</td>\n",
              "      <td>0.264659</td>\n",
              "    </tr>\n",
              "    <tr>\n",
              "      <th>Yes</th>\n",
              "      <td>0.896268</td>\n",
              "      <td>0.103732</td>\n",
              "    </tr>\n",
              "  </tbody>\n",
              "</table>\n",
              "</div>\n",
              "      <button class=\"colab-df-convert\" onclick=\"convertToInteractive('df-065f7fba-587d-4996-9c5b-82fdf070f897')\"\n",
              "              title=\"Convert this dataframe to an interactive table.\"\n",
              "              style=\"display:none;\">\n",
              "        \n",
              "  <svg xmlns=\"http://www.w3.org/2000/svg\" height=\"24px\"viewBox=\"0 0 24 24\"\n",
              "       width=\"24px\">\n",
              "    <path d=\"M0 0h24v24H0V0z\" fill=\"none\"/>\n",
              "    <path d=\"M18.56 5.44l.94 2.06.94-2.06 2.06-.94-2.06-.94-.94-2.06-.94 2.06-2.06.94zm-11 1L8.5 8.5l.94-2.06 2.06-.94-2.06-.94L8.5 2.5l-.94 2.06-2.06.94zm10 10l.94 2.06.94-2.06 2.06-.94-2.06-.94-.94-2.06-.94 2.06-2.06.94z\"/><path d=\"M17.41 7.96l-1.37-1.37c-.4-.4-.92-.59-1.43-.59-.52 0-1.04.2-1.43.59L10.3 9.45l-7.72 7.72c-.78.78-.78 2.05 0 2.83L4 21.41c.39.39.9.59 1.41.59.51 0 1.02-.2 1.41-.59l7.78-7.78 2.81-2.81c.8-.78.8-2.07 0-2.86zM5.41 20L4 18.59l7.72-7.72 1.47 1.35L5.41 20z\"/>\n",
              "  </svg>\n",
              "      </button>\n",
              "      \n",
              "  <style>\n",
              "    .colab-df-container {\n",
              "      display:flex;\n",
              "      flex-wrap:wrap;\n",
              "      gap: 12px;\n",
              "    }\n",
              "\n",
              "    .colab-df-convert {\n",
              "      background-color: #E8F0FE;\n",
              "      border: none;\n",
              "      border-radius: 50%;\n",
              "      cursor: pointer;\n",
              "      display: none;\n",
              "      fill: #1967D2;\n",
              "      height: 32px;\n",
              "      padding: 0 0 0 0;\n",
              "      width: 32px;\n",
              "    }\n",
              "\n",
              "    .colab-df-convert:hover {\n",
              "      background-color: #E2EBFA;\n",
              "      box-shadow: 0px 1px 2px rgba(60, 64, 67, 0.3), 0px 1px 3px 1px rgba(60, 64, 67, 0.15);\n",
              "      fill: #174EA6;\n",
              "    }\n",
              "\n",
              "    [theme=dark] .colab-df-convert {\n",
              "      background-color: #3B4455;\n",
              "      fill: #D2E3FC;\n",
              "    }\n",
              "\n",
              "    [theme=dark] .colab-df-convert:hover {\n",
              "      background-color: #434B5C;\n",
              "      box-shadow: 0px 1px 3px 1px rgba(0, 0, 0, 0.15);\n",
              "      filter: drop-shadow(0px 1px 2px rgba(0, 0, 0, 0.3));\n",
              "      fill: #FFFFFF;\n",
              "    }\n",
              "  </style>\n",
              "\n",
              "      <script>\n",
              "        const buttonEl =\n",
              "          document.querySelector('#df-065f7fba-587d-4996-9c5b-82fdf070f897 button.colab-df-convert');\n",
              "        buttonEl.style.display =\n",
              "          google.colab.kernel.accessAllowed ? 'block' : 'none';\n",
              "\n",
              "        async function convertToInteractive(key) {\n",
              "          const element = document.querySelector('#df-065f7fba-587d-4996-9c5b-82fdf070f897');\n",
              "          const dataTable =\n",
              "            await google.colab.kernel.invokeFunction('convertToInteractive',\n",
              "                                                     [key], {});\n",
              "          if (!dataTable) return;\n",
              "\n",
              "          const docLinkHtml = 'Like what you see? Visit the ' +\n",
              "            '<a target=\"_blank\" href=https://colab.research.google.com/notebooks/data_table.ipynb>data table notebook</a>'\n",
              "            + ' to learn more about interactive tables.';\n",
              "          element.innerHTML = '';\n",
              "          dataTable['output_type'] = 'display_data';\n",
              "          await google.colab.output.renderOutput(dataTable, element);\n",
              "          const docLink = document.createElement('div');\n",
              "          docLink.innerHTML = docLinkHtml;\n",
              "          element.appendChild(docLink);\n",
              "        }\n",
              "      </script>\n",
              "    </div>\n",
              "  </div>\n",
              "  "
            ]
          },
          "metadata": {},
          "execution_count": 15
        }
      ],
      "source": [
        "has_kids_or_teens = []\n",
        "for i in range(0, df.shape[0]):\n",
        "  if np.logical_or(df['Kidhome'][i] > 0, df['Teenhome'][i] > 0):\n",
        "    has_kids_or_teens.append('Yes')\n",
        "  else:\n",
        "    has_kids_or_teens.append('No')\n",
        "df['Has_kids_or_teens'] = has_kids_or_teens\n",
        "crosstab2 = pd.crosstab(df['Has_kids_or_teens'], df['Response'], normalize='index')\n",
        "crosstab2"
      ]
    },
    {
      "cell_type": "code",
      "execution_count": 16,
      "metadata": {
        "colab": {
          "base_uri": "https://localhost:8080/",
          "height": 352
        },
        "id": "pJJWtepNYxRz",
        "outputId": "c2940726-e959-4d33-e2c1-61accddba16f"
      },
      "outputs": [
        {
          "output_type": "display_data",
          "data": {
            "text/plain": [
              "<Figure size 720x360 with 1 Axes>"
            ],
            "image/png": "[encoded data removed]"
          },
          "metadata": {
            "needs_background": "light"
          }
        }
      ],
      "source": [
        "plt.rcParams[\"figure.figsize\"] = (10,5)\n",
        "crosstab2.plot.bar(rot=0, color = (\"#297F87\", \"#FFB740\"))\n",
        "plt.legend(title = \"Response\", labels = (\"No accept\", \"Accept\"))\n",
        "plt.title(\"Barplot of proportions\", fontsize = 16)\n",
        "plt.ylabel(\"Proportion\")\n",
        "plt.xlabel(\"Kids or teens at home\")\n",
        "plt.show()"
      ]
    },
    {
      "cell_type": "markdown",
      "metadata": {
        "id": "CRLTixlq1MfJ"
      },
      "source": [
        "La observación pareciera evidenciar que es mayor la proporción de personas que no conviven con niños o adolescentes que decidieron aceptar la membresía, frente a las personas que también lo hicieron pero conviven con niños o adolescentes en el hogar."
      ]
    },
    {
      "cell_type": "markdown",
      "metadata": {
        "id": "NIhsuPHPemqq"
      },
      "source": [
        "Análisis de la respuesta de aceptación a la membresía en función de la cantidad gastada en productos en los últimos dos años:"
      ]
    },
    {
      "cell_type": "code",
      "execution_count": 17,
      "metadata": {
        "id": "h73dEpq6eoYt"
      },
      "outputs": [],
      "source": [
        "mnt_total = []\n",
        "\n",
        "for i in range(0, df.shape[0]):\n",
        "  suma = df['MntMeatProducts'][i] + df['MntFishProducts'][i] + df['MntSweetProducts'][i] + df['MntFruits'][i] + df['MntWines'][i] + df['MntGoldProds'][i]\n",
        "  mnt_total.append(suma)\n",
        "\n",
        "df['MntTotal'] = mnt_total"
      ]
    },
    {
      "cell_type": "code",
      "execution_count": 18,
      "metadata": {
        "colab": {
          "base_uri": "https://localhost:8080/",
          "height": 161
        },
        "id": "gWA2vNDf0bym",
        "outputId": "6b74da38-b2e7-401d-84e5-0b0f5f33fad6"
      },
      "outputs": [
        {
          "output_type": "stream",
          "name": "stdout",
          "text": [
            "Resúmen numérico\n"
          ]
        },
        {
          "output_type": "execute_result",
          "data": {
            "text/plain": [
              "           count        mean        std   min    25%     50%     75%     max\n",
              "Response                                                                    \n",
              "0         1881.0  539.851675  553.87010   5.0   62.0   313.0   957.0  2525.0\n",
              "1          331.0  986.661631  720.79571  17.0  249.0  1053.0  1619.0  2525.0"
            ],
            "text/html": [
              "\n",
              "  <div id=\"df-049b1db6-b6f0-49f6-9619-f285aba29a58\">\n",
              "    <div class=\"colab-df-container\">\n",
              "      <div>\n",
              "<style scoped>\n",
              "    .dataframe tbody tr th:only-of-type {\n",
              "        vertical-align: middle;\n",
              "    }\n",
              "\n",
              "    .dataframe tbody tr th {\n",
              "        vertical-align: top;\n",
              "    }\n",
              "\n",
              "    .dataframe thead th {\n",
              "        text-align: right;\n",
              "    }\n",
              "</style>\n",
              "<table border=\"1\" class=\"dataframe\">\n",
              "  <thead>\n",
              "    <tr style=\"text-align: right;\">\n",
              "      <th></th>\n",
              "      <th>count</th>\n",
              "      <th>mean</th>\n",
              "      <th>std</th>\n",
              "      <th>min</th>\n",
              "      <th>25%</th>\n",
              "      <th>50%</th>\n",
              "      <th>75%</th>\n",
              "      <th>max</th>\n",
              "    </tr>\n",
              "    <tr>\n",
              "      <th>Response</th>\n",
              "      <th></th>\n",
              "      <th></th>\n",
              "      <th></th>\n",
              "      <th></th>\n",
              "      <th></th>\n",
              "      <th></th>\n",
              "      <th></th>\n",
              "      <th></th>\n",
              "    </tr>\n",
              "  </thead>\n",
              "  <tbody>\n",
              "    <tr>\n",
              "      <th>0</th>\n",
              "      <td>1881.0</td>\n",
              "      <td>539.851675</td>\n",
              "      <td>553.87010</td>\n",
              "      <td>5.0</td>\n",
              "      <td>62.0</td>\n",
              "      <td>313.0</td>\n",
              "      <td>957.0</td>\n",
              "      <td>2525.0</td>\n",
              "    </tr>\n",
              "    <tr>\n",
              "      <th>1</th>\n",
              "      <td>331.0</td>\n",
              "      <td>986.661631</td>\n",
              "      <td>720.79571</td>\n",
              "      <td>17.0</td>\n",
              "      <td>249.0</td>\n",
              "      <td>1053.0</td>\n",
              "      <td>1619.0</td>\n",
              "      <td>2525.0</td>\n",
              "    </tr>\n",
              "  </tbody>\n",
              "</table>\n",
              "</div>\n",
              "      <button class=\"colab-df-convert\" onclick=\"convertToInteractive('df-049b1db6-b6f0-49f6-9619-f285aba29a58')\"\n",
              "              title=\"Convert this dataframe to an interactive table.\"\n",
              "              style=\"display:none;\">\n",
              "        \n",
              "  <svg xmlns=\"http://www.w3.org/2000/svg\" height=\"24px\"viewBox=\"0 0 24 24\"\n",
              "       width=\"24px\">\n",
              "    <path d=\"M0 0h24v24H0V0z\" fill=\"none\"/>\n",
              "    <path d=\"M18.56 5.44l.94 2.06.94-2.06 2.06-.94-2.06-.94-.94-2.06-.94 2.06-2.06.94zm-11 1L8.5 8.5l.94-2.06 2.06-.94-2.06-.94L8.5 2.5l-.94 2.06-2.06.94zm10 10l.94 2.06.94-2.06 2.06-.94-2.06-.94-.94-2.06-.94 2.06-2.06.94z\"/><path d=\"M17.41 7.96l-1.37-1.37c-.4-.4-.92-.59-1.43-.59-.52 0-1.04.2-1.43.59L10.3 9.45l-7.72 7.72c-.78.78-.78 2.05 0 2.83L4 21.41c.39.39.9.59 1.41.59.51 0 1.02-.2 1.41-.59l7.78-7.78 2.81-2.81c.8-.78.8-2.07 0-2.86zM5.41 20L4 18.59l7.72-7.72 1.47 1.35L5.41 20z\"/>\n",
              "  </svg>\n",
              "      </button>\n",
              "      \n",
              "  <style>\n",
              "    .colab-df-container {\n",
              "      display:flex;\n",
              "      flex-wrap:wrap;\n",
              "      gap: 12px;\n",
              "    }\n",
              "\n",
              "    .colab-df-convert {\n",
              "      background-color: #E8F0FE;\n",
              "      border: none;\n",
              "      border-radius: 50%;\n",
              "      cursor: pointer;\n",
              "      display: none;\n",
              "      fill: #1967D2;\n",
              "      height: 32px;\n",
              "      padding: 0 0 0 0;\n",
              "      width: 32px;\n",
              "    }\n",
              "\n",
              "    .colab-df-convert:hover {\n",
              "      background-color: #E2EBFA;\n",
              "      box-shadow: 0px 1px 2px rgba(60, 64, 67, 0.3), 0px 1px 3px 1px rgba(60, 64, 67, 0.15);\n",
              "      fill: #174EA6;\n",
              "    }\n",
              "\n",
              "    [theme=dark] .colab-df-convert {\n",
              "      background-color: #3B4455;\n",
              "      fill: #D2E3FC;\n",
              "    }\n",
              "\n",
              "    [theme=dark] .colab-df-convert:hover {\n",
              "      background-color: #434B5C;\n",
              "      box-shadow: 0px 1px 3px 1px rgba(0, 0, 0, 0.15);\n",
              "      filter: drop-shadow(0px 1px 2px rgba(0, 0, 0, 0.3));\n",
              "      fill: #FFFFFF;\n",
              "    }\n",
              "  </style>\n",
              "\n",
              "      <script>\n",
              "        const buttonEl =\n",
              "          document.querySelector('#df-049b1db6-b6f0-49f6-9619-f285aba29a58 button.colab-df-convert');\n",
              "        buttonEl.style.display =\n",
              "          google.colab.kernel.accessAllowed ? 'block' : 'none';\n",
              "\n",
              "        async function convertToInteractive(key) {\n",
              "          const element = document.querySelector('#df-049b1db6-b6f0-49f6-9619-f285aba29a58');\n",
              "          const dataTable =\n",
              "            await google.colab.kernel.invokeFunction('convertToInteractive',\n",
              "                                                     [key], {});\n",
              "          if (!dataTable) return;\n",
              "\n",
              "          const docLinkHtml = 'Like what you see? Visit the ' +\n",
              "            '<a target=\"_blank\" href=https://colab.research.google.com/notebooks/data_table.ipynb>data table notebook</a>'\n",
              "            + ' to learn more about interactive tables.';\n",
              "          element.innerHTML = '';\n",
              "          dataTable['output_type'] = 'display_data';\n",
              "          await google.colab.output.renderOutput(dataTable, element);\n",
              "          const docLink = document.createElement('div');\n",
              "          docLink.innerHTML = docLinkHtml;\n",
              "          element.appendChild(docLink);\n",
              "        }\n",
              "      </script>\n",
              "    </div>\n",
              "  </div>\n",
              "  "
            ]
          },
          "metadata": {},
          "execution_count": 18
        }
      ],
      "source": [
        "print(\"Resúmen numérico\")\n",
        "df.groupby('Response')['MntTotal'].describe()"
      ]
    },
    {
      "cell_type": "code",
      "execution_count": 19,
      "metadata": {
        "colab": {
          "base_uri": "https://localhost:8080/",
          "height": 352
        },
        "id": "f8760CvO0qJJ",
        "outputId": "07bcbaa0-6055-480f-c65d-74147effaa39"
      },
      "outputs": [
        {
          "output_type": "display_data",
          "data": {
            "text/plain": [
              "<Figure size 432x360 with 1 Axes>"
            ],
            "image/png": "[encoded data removed]"
          },
          "metadata": {
            "needs_background": "light"
          }
        }
      ],
      "source": [
        "fig,ax = plt.subplots()\n",
        "fig.set_size_inches(6, 5)\n",
        "sns.boxplot(data=df, x='Response', y='MntTotal', \n",
        "            medianprops={\"linewidth\":2, \"color\": \"coral\"}, \n",
        "            boxprops={\"linewidth\": 0, \"facecolor\": (.4, .6, .8, .5)}, \n",
        "            width=0.4, linewidth=1, flierprops={\"marker\": \"x\", \"alpha\": .5})\n",
        "plt.title(\"Boxplot: Total amount spent in last 2 yrs\", fontsize = 16)\n",
        "plt.xlabel(\"Response\")\n",
        "plt.ylabel(\"Total amount\")\n",
        "plt.show()"
      ]
    },
    {
      "cell_type": "markdown",
      "metadata": {
        "id": "uNljPBR-0zlo"
      },
      "source": [
        "Se observa que la mediana de la cantidad total gastada en productos durante los 2 últimos años es mayor para el caso de las personas que aceptaron la membresía en comparación a quienes lo hicieron. La variabilidad también es ligeramente mayor en este caso. En el caso de las personas que no aceptaron la membresía se observan outliers. Si bien las medianas difieren, las cajas se encuentran bastante solapadas por lo que no podríamos asegurar que existen diferencias significativas entre las mismas en base al boxplot."
      ]
    },
    {
      "cell_type": "code",
      "execution_count": 20,
      "metadata": {
        "colab": {
          "base_uri": "https://localhost:8080/",
          "height": 871
        },
        "id": "CVp8FJQW6cWB",
        "outputId": "a58af5ab-cbba-4d2d-e4ea-87d9443af17e"
      },
      "outputs": [
        {
          "output_type": "execute_result",
          "data": {
            "text/plain": [
              "Text(0.5, 1.0, \"Hist: Total amount's distribution w/ logarithmic transformation\")"
            ]
          },
          "metadata": {},
          "execution_count": 20
        },
        {
          "output_type": "display_data",
          "data": {
            "text/plain": [
              "<Figure size 432x360 with 1 Axes>"
            ],
            "image/png": "[encoded data removed]"
          },
          "metadata": {
            "needs_background": "light"
          }
        },
        {
          "output_type": "display_data",
          "data": {
            "text/plain": [
              "<Figure size 720x576 with 1 Axes>"
            ],
            "image/png": "[encoded data removed]"
          },
          "metadata": {
            "needs_background": "light"
          }
        }
      ],
      "source": [
        "fig,ax = plt.subplots()\n",
        "fig.set_size_inches(6, 5)\n",
        "sns.histplot(data=df, hue='Response', x='MntTotal', kde=True)\n",
        "plt.title(\"Hist: Total amount's distribution\", fontsize = 16)\n",
        "fig2,ax2 = plt.subplots()\n",
        "fig2.set_size_inches(10, 8)\n",
        "sns.histplot(data=df, hue='Response', x='MntTotal', kde=True, log_scale = True)\n",
        "plt.title(\"Hist: Total amount's distribution w/ logarithmic transformation\", fontsize = 16)"
      ]
    },
    {
      "cell_type": "markdown",
      "metadata": {
        "id": "4ZgmiaM_MPuz"
      },
      "source": [
        "Luego de la transformación logarítmica se observa una distribución bimodal. Esto podría ser consecuencia de la agrupación de las variables de las distintas categorías, por lo que sería necesario realizar una estandarización del tipo: <p>\n",
        "$z_{i} = {\\frac{x_{i} - {\\mu}}{σ}} {\\tilde~} {N(0,1)}$"
      ]
    },
    {
      "cell_type": "markdown",
      "metadata": {
        "id": "Hw4oweeQH8eT"
      },
      "source": [
        "Análisis de la distribución de las ventas a 2 años de cada tipo de categoría:"
      ]
    },
    {
      "cell_type": "code",
      "execution_count": 21,
      "metadata": {
        "id": "612WB8f-AcZS",
        "colab": {
          "base_uri": "https://localhost:8080/",
          "height": 424
        },
        "outputId": "4b1d7f34-1c10-465e-8a5a-97d1ece2b009"
      },
      "outputs": [
        {
          "output_type": "execute_result",
          "data": {
            "text/plain": [
              "          categoria     valor  respuesta\n",
              "0          MntWines -0.343759          1\n",
              "1          MntWines  0.470971          1\n",
              "2          MntWines -0.506705          0\n",
              "3          MntWines -0.874075          0\n",
              "4          MntWines -0.885925          1\n",
              "...             ...       ...        ...\n",
              "13267  MntGoldProds  0.662206          0\n",
              "13268  MntGoldProds -0.539069          0\n",
              "13269  MntGoldProds -0.577820          0\n",
              "13270  MntGoldProds  0.371575          0\n",
              "13271  MntGoldProds  1.940984          1\n",
              "\n",
              "[13272 rows x 3 columns]"
            ],
            "text/html": [
              "\n",
              "  <div id=\"df-02ab64bf-5bb2-4047-86d5-fd681a4e1aa1\">\n",
              "    <div class=\"colab-df-container\">\n",
              "      <div>\n",
              "<style scoped>\n",
              "    .dataframe tbody tr th:only-of-type {\n",
              "        vertical-align: middle;\n",
              "    }\n",
              "\n",
              "    .dataframe tbody tr th {\n",
              "        vertical-align: top;\n",
              "    }\n",
              "\n",
              "    .dataframe thead th {\n",
              "        text-align: right;\n",
              "    }\n",
              "</style>\n",
              "<table border=\"1\" class=\"dataframe\">\n",
              "  <thead>\n",
              "    <tr style=\"text-align: right;\">\n",
              "      <th></th>\n",
              "      <th>categoria</th>\n",
              "      <th>valor</th>\n",
              "      <th>respuesta</th>\n",
              "    </tr>\n",
              "  </thead>\n",
              "  <tbody>\n",
              "    <tr>\n",
              "      <th>0</th>\n",
              "      <td>MntWines</td>\n",
              "      <td>-0.343759</td>\n",
              "      <td>1</td>\n",
              "    </tr>\n",
              "    <tr>\n",
              "      <th>1</th>\n",
              "      <td>MntWines</td>\n",
              "      <td>0.470971</td>\n",
              "      <td>1</td>\n",
              "    </tr>\n",
              "    <tr>\n",
              "      <th>2</th>\n",
              "      <td>MntWines</td>\n",
              "      <td>-0.506705</td>\n",
              "      <td>0</td>\n",
              "    </tr>\n",
              "    <tr>\n",
              "      <th>3</th>\n",
              "      <td>MntWines</td>\n",
              "      <td>-0.874075</td>\n",
              "      <td>0</td>\n",
              "    </tr>\n",
              "    <tr>\n",
              "      <th>4</th>\n",
              "      <td>MntWines</td>\n",
              "      <td>-0.885925</td>\n",
              "      <td>1</td>\n",
              "    </tr>\n",
              "    <tr>\n",
              "      <th>...</th>\n",
              "      <td>...</td>\n",
              "      <td>...</td>\n",
              "      <td>...</td>\n",
              "    </tr>\n",
              "    <tr>\n",
              "      <th>13267</th>\n",
              "      <td>MntGoldProds</td>\n",
              "      <td>0.662206</td>\n",
              "      <td>0</td>\n",
              "    </tr>\n",
              "    <tr>\n",
              "      <th>13268</th>\n",
              "      <td>MntGoldProds</td>\n",
              "      <td>-0.539069</td>\n",
              "      <td>0</td>\n",
              "    </tr>\n",
              "    <tr>\n",
              "      <th>13269</th>\n",
              "      <td>MntGoldProds</td>\n",
              "      <td>-0.577820</td>\n",
              "      <td>0</td>\n",
              "    </tr>\n",
              "    <tr>\n",
              "      <th>13270</th>\n",
              "      <td>MntGoldProds</td>\n",
              "      <td>0.371575</td>\n",
              "      <td>0</td>\n",
              "    </tr>\n",
              "    <tr>\n",
              "      <th>13271</th>\n",
              "      <td>MntGoldProds</td>\n",
              "      <td>1.940984</td>\n",
              "      <td>1</td>\n",
              "    </tr>\n",
              "  </tbody>\n",
              "</table>\n",
              "<p>13272 rows × 3 columns</p>\n",
              "</div>\n",
              "      <button class=\"colab-df-convert\" onclick=\"convertToInteractive('df-02ab64bf-5bb2-4047-86d5-fd681a4e1aa1')\"\n",
              "              title=\"Convert this dataframe to an interactive table.\"\n",
              "              style=\"display:none;\">\n",
              "        \n",
              "  <svg xmlns=\"http://www.w3.org/2000/svg\" height=\"24px\"viewBox=\"0 0 24 24\"\n",
              "       width=\"24px\">\n",
              "    <path d=\"M0 0h24v24H0V0z\" fill=\"none\"/>\n",
              "    <path d=\"M18.56 5.44l.94 2.06.94-2.06 2.06-.94-2.06-.94-.94-2.06-.94 2.06-2.06.94zm-11 1L8.5 8.5l.94-2.06 2.06-.94-2.06-.94L8.5 2.5l-.94 2.06-2.06.94zm10 10l.94 2.06.94-2.06 2.06-.94-2.06-.94-.94-2.06-.94 2.06-2.06.94z\"/><path d=\"M17.41 7.96l-1.37-1.37c-.4-.4-.92-.59-1.43-.59-.52 0-1.04.2-1.43.59L10.3 9.45l-7.72 7.72c-.78.78-.78 2.05 0 2.83L4 21.41c.39.39.9.59 1.41.59.51 0 1.02-.2 1.41-.59l7.78-7.78 2.81-2.81c.8-.78.8-2.07 0-2.86zM5.41 20L4 18.59l7.72-7.72 1.47 1.35L5.41 20z\"/>\n",
              "  </svg>\n",
              "      </button>\n",
              "      \n",
              "  <style>\n",
              "    .colab-df-container {\n",
              "      display:flex;\n",
              "      flex-wrap:wrap;\n",
              "      gap: 12px;\n",
              "    }\n",
              "\n",
              "    .colab-df-convert {\n",
              "      background-color: #E8F0FE;\n",
              "      border: none;\n",
              "      border-radius: 50%;\n",
              "      cursor: pointer;\n",
              "      display: none;\n",
              "      fill: #1967D2;\n",
              "      height: 32px;\n",
              "      padding: 0 0 0 0;\n",
              "      width: 32px;\n",
              "    }\n",
              "\n",
              "    .colab-df-convert:hover {\n",
              "      background-color: #E2EBFA;\n",
              "      box-shadow: 0px 1px 2px rgba(60, 64, 67, 0.3), 0px 1px 3px 1px rgba(60, 64, 67, 0.15);\n",
              "      fill: #174EA6;\n",
              "    }\n",
              "\n",
              "    [theme=dark] .colab-df-convert {\n",
              "      background-color: #3B4455;\n",
              "      fill: #D2E3FC;\n",
              "    }\n",
              "\n",
              "    [theme=dark] .colab-df-convert:hover {\n",
              "      background-color: #434B5C;\n",
              "      box-shadow: 0px 1px 3px 1px rgba(0, 0, 0, 0.15);\n",
              "      filter: drop-shadow(0px 1px 2px rgba(0, 0, 0, 0.3));\n",
              "      fill: #FFFFFF;\n",
              "    }\n",
              "  </style>\n",
              "\n",
              "      <script>\n",
              "        const buttonEl =\n",
              "          document.querySelector('#df-02ab64bf-5bb2-4047-86d5-fd681a4e1aa1 button.colab-df-convert');\n",
              "        buttonEl.style.display =\n",
              "          google.colab.kernel.accessAllowed ? 'block' : 'none';\n",
              "\n",
              "        async function convertToInteractive(key) {\n",
              "          const element = document.querySelector('#df-02ab64bf-5bb2-4047-86d5-fd681a4e1aa1');\n",
              "          const dataTable =\n",
              "            await google.colab.kernel.invokeFunction('convertToInteractive',\n",
              "                                                     [key], {});\n",
              "          if (!dataTable) return;\n",
              "\n",
              "          const docLinkHtml = 'Like what you see? Visit the ' +\n",
              "            '<a target=\"_blank\" href=https://colab.research.google.com/notebooks/data_table.ipynb>data table notebook</a>'\n",
              "            + ' to learn more about interactive tables.';\n",
              "          element.innerHTML = '';\n",
              "          dataTable['output_type'] = 'display_data';\n",
              "          await google.colab.output.renderOutput(dataTable, element);\n",
              "          const docLink = document.createElement('div');\n",
              "          docLink.innerHTML = docLinkHtml;\n",
              "          element.appendChild(docLink);\n",
              "        }\n",
              "      </script>\n",
              "    </div>\n",
              "  </div>\n",
              "  "
            ]
          },
          "metadata": {},
          "execution_count": 21
        }
      ],
      "source": [
        "from sklearn.preprocessing import StandardScaler\n",
        "scaler = StandardScaler()\n",
        "df_aux = pd.DataFrame(scaler.fit_transform(df[df.columns[9:15]]), columns = df.columns[9:15])\n",
        "\n",
        "df_resized = pd.DataFrame()\n",
        "df_resized[\"categoria\"] = \"\"\n",
        "df_resized[\"valor\"] = 0.0\n",
        "df_resized[\"respuesta\"] = 0\n",
        "index = 0\n",
        "\n",
        "for i in range(0, 6):\n",
        "  for j in range(0, df_aux.shape[0]):\n",
        "    df_resized.loc[index] = [df_aux.columns[i], (df_aux[df_aux.columns[i]].loc[j]),  df[df.columns[20]].loc[j]]\n",
        "    index+=1\n",
        "\n",
        "df_resized"
      ]
    },
    {
      "cell_type": "code",
      "execution_count": 22,
      "metadata": {
        "colab": {
          "base_uri": "https://localhost:8080/",
          "height": 906
        },
        "id": "YNIiyCJ98g8a",
        "outputId": "f4c58d98-4695-4363-c4d0-9f37fcc5db0b"
      },
      "outputs": [
        {
          "output_type": "stream",
          "name": "stderr",
          "text": [
            "/usr/local/lib/python3.9/dist-packages/pandas/core/arraylike.py:397: RuntimeWarning: invalid value encountered in log10\n",
            "  result = getattr(ufunc, method)(*inputs, **kwargs)\n"
          ]
        },
        {
          "output_type": "execute_result",
          "data": {
            "text/plain": [
              "Text(0.5, 0, 'Value')"
            ]
          },
          "metadata": {},
          "execution_count": 22
        },
        {
          "output_type": "display_data",
          "data": {
            "text/plain": [
              "<Figure size 432x360 with 1 Axes>"
            ],
            "image/png": "[encoded data removed]"
          },
          "metadata": {
            "needs_background": "light"
          }
        },
        {
          "output_type": "display_data",
          "data": {
            "text/plain": [
              "<Figure size 1080x576 with 1 Axes>"
            ],
            "image/png": "[encoded data removed]"
          },
          "metadata": {
            "needs_background": "light"
          }
        }
      ],
      "source": [
        "fig,ax = plt.subplots()\n",
        "fig.set_size_inches(6, 5)\n",
        "sns.histplot(data=df_resized, hue='categoria', x='valor', kde=True, legend = True)\n",
        "plt.title(\"Hist: Product amount's distributions\", fontsize = 16)\n",
        "plt.xlabel(\"Value\")\n",
        "\n",
        "df_aux = df_resized.copy()\n",
        "for i in range(0, df_aux.shape[0]):\n",
        "  if (df_aux.valor[i] == 0.0):\n",
        "    df_aux.valor[i] = float(\"nan\")\n",
        "\n",
        "fig,ax = plt.subplots()\n",
        "fig.set_size_inches(15, 8)\n",
        "sns.histplot(data=df_aux[df_aux.valor.notna()], hue='categoria', x='valor', log_scale = True, kde=True, element=\"step\")\n",
        "plt.title(\"Hist: Product amount's distribution w/ logarithmic transformation\", fontsize = 16)\n",
        "plt.xlabel(\"Value\")"
      ]
    },
    {
      "cell_type": "markdown",
      "metadata": {
        "id": "wHKIdlEfMvSY"
      },
      "source": [
        "Como sospechábamos anteriormente, las distribución bimodal del monto total se debía a la diferencia en las distribuciónes en los montos de cada categoría de productos. Una vez realizada la normalización y transformación logarítmica observamos que las variables se distribuyen de manera similar."
      ]
    },
    {
      "cell_type": "markdown",
      "metadata": {
        "id": "fjPmMekVbkg2"
      },
      "source": [
        "### *Preguntas de interés e inferencias*"
      ]
    },
    {
      "cell_type": "markdown",
      "metadata": {
        "id": "M5AoYQTf3gmN"
      },
      "source": [
        "#### ¿Es el salario anual un factor influyente en la decisión de aceptar la membresía?"
      ]
    },
    {
      "cell_type": "markdown",
      "metadata": {
        "id": "BTPbNEw5KSFE"
      },
      "source": [
        "Para responder esta pregunta debemos evaluar si existen diferencias significativas entre la media salarial anual de las personas que aceptaron la membresía y la media salarial anual de las personas que no la aceptaron. Así nuestra variable respuesta será `Response` y nuestra variable predictora será `Income`.<br>\n",
        "<br>\n",
        "* Parámetro poblacional de interés: <br>\n",
        "$ \\mu_{1} - \\mu_{2} $ <br>\n",
        "donde: <br>\n",
        "$ \\mu_{1} $ : salario medio anual de las personas que no aceptaron la membresía. <br>\n",
        "$ \\mu_{2} $ : salario medio anual de las personas que aceptaron la membresía. <br>\n",
        "<br>\n",
        "* HIPÓTESIS: <br>\n",
        "$ H_{0}: \\mu_{0} - \\mu_{1} = 0 $ <br>\n",
        "$ H_{1}: \\mu_{0} - \\mu_{1} ≠ 0 $ <br>\n",
        "<br>\n",
        "* Estadístico muestral para realizar la estimación: <br>\n",
        "$ T = \\frac{x̄_{1} - x̄_{2}}{\\sqrt{\\frac{s^{2}_{1}}{n_{1}} + \\frac{s^{2}_{2}}{n_{1}}}} $ <br>\n",
        "donde: <br>\n",
        "$ x̄_{1} $ : media muestral del salario anual de las personas que no aceptaron la membresía. <br>\n",
        "$ x̄_{2} $ : media muestral del salario anual de las personas que aceptaron la membresía. <br>\n",
        "$ s_{1} $ : desvío estándar muestral del salario anual de las personas que no aceptaron la membresía. <br>\n",
        "$ s_{2} $ : desvío estándar muestral del salario anual de las personas que aceptaron la membresía. <br>\n",
        "$ n_{1} $ : tamaño de la muestra de los salarios anuales de las personas que no aceptaron la membresía. <br>\n",
        "$ n_{2} $ : tamaño de la muestra de los salarios anuales de las personas que no aceptaron la membresía. <br>\n",
        "<br>\n",
        "* Valor T crítico: <br>\n",
        "Sea $ t_{\\frac{\\alpha}{2},\\nu} $ el valor $ t_{critico} $ que deja un área de $ \\frac{\\alpha}{2} $ a derecha y un área de $ \\frac{\\alpha}{2} $ a izquierda con $ \\nu $ grados de libertad. La hipótesis nula se rechazará si: <br>\n",
        "$ T < -t_{\\frac{\\alpha}{2},\\nu} $ o $ T > t_{\\frac{\\alpha}{2},\\nu} $\n",
        "<br>\n",
        "\n",
        "* INTERVALO DE CONFIANZA: <br>\n",
        "$ (x̄_{1} - x̄_{2}) - t_{\\frac{\\alpha}{2},\\nu}\\sqrt{\\frac{s^{2}_{1}}{n_{1}} + \\frac{s^{2}_{2}}{n_{1}}} $ , $ (x̄_{1} - x̄_{2}) + t_{\\frac{\\alpha}{2},\\nu}\\sqrt{\\frac{s^{2}_{1}}{n_{1}} + \\frac{s^{2}_{2}}{n_{1}}} $ <br>\n",
        "Utilizaremos un nivel de confianza del 95% (es decir, un nivel de significancia $ \\alpha $ del 5%). <br>\n",
        "<br>\n",
        "* Interpretación del intervalo de confianza: <br>\n",
        "Si el 0 está contenido dentro del intervalo, entonces podremos afirmar con un 95% de confianza que existen diferencias significativas entre las medias de los salarios anuales de quienes aceptaron la membresía y quienes no lo hicieron. Por el contrario, si el 0 no está contenido, entonces no podremos afirmar que existan diferencias significativas.\n"
      ]
    },
    {
      "cell_type": "markdown",
      "metadata": {
        "id": "GLjVJsAyYhyg"
      },
      "source": [
        "##### Estadístico muestral e intervalo de confianza"
      ]
    },
    {
      "cell_type": "markdown",
      "metadata": {
        "id": "kDkBIJB8cbsG"
      },
      "source": [
        "Cálculo del estadístico muestral $T$"
      ]
    },
    {
      "cell_type": "code",
      "execution_count": 23,
      "metadata": {
        "colab": {
          "base_uri": "https://localhost:8080/"
        },
        "id": "yb9Lsneicdts",
        "outputId": "818486a2-e852-46d5-e289-af9a35020a44"
      },
      "outputs": [
        {
          "output_type": "stream",
          "name": "stdout",
          "text": [
            "T = -6.6654935134618425\n"
          ]
        }
      ],
      "source": [
        "resp_no = df[df['Response'] == 0]['Income']\n",
        "resp_si = df[df['Response'] == 1]['Income']\n",
        "\n",
        "x_1 = resp_no.mean()\n",
        "x_2 = resp_si.mean()\n",
        "s_1 = resp_no.std()\n",
        "s_2 = resp_si.std()\n",
        "n_1 = resp_no.size\n",
        "n_2 = resp_si.size\n",
        "\n",
        "T = (x_1 - x_2)/math.sqrt(s_1**2/n_1 + s_2**2/n_2)\n",
        "print(\"T =\", T)"
      ]
    },
    {
      "cell_type": "markdown",
      "metadata": {
        "id": "oveD-eeBcCC3"
      },
      "source": [
        "Luego, para poder calcular nuestro valor $ t_{critico} $ necesitamos saber si las varianzas de nuestras muestras son iguales o diferentes, ya que los grados de libertad son muy sensibles a ello. Para esto utilizaremos el test de Levene. Si el p-valor obtenido es mayor a 0.05 podremos suponer que las varianzas de ambas muestras son iguales, mientras que si es menor supondremos que las mismas son diferentes."
      ]
    },
    {
      "cell_type": "code",
      "execution_count": 24,
      "metadata": {
        "colab": {
          "base_uri": "https://localhost:8080/"
        },
        "id": "miY0Ae7z15ci",
        "outputId": "466f1996-4e39-4e04-d335-723e4a2c030a"
      },
      "outputs": [
        {
          "output_type": "stream",
          "name": "stdout",
          "text": [
            "p-valor = 0.011913056418450437\n"
          ]
        }
      ],
      "source": [
        "# Test de levene para evaluar si las varianzas son iguales o no\n",
        "print(\"p-valor =\", stats.levene(resp_no, resp_si)[1])"
      ]
    },
    {
      "cell_type": "markdown",
      "metadata": {
        "id": "Gs9aDXl8M8wK"
      },
      "source": [
        "Como nuestro p-valor es de 0.012 aproximadamente, supondremos que las varianzas de las muestras son diferentes. Así, los grados de libertad estarán dados por: <br>\n",
        "$ \\nu = \\frac{(\\frac{s^{2}_{1}}{n_{1}} + \\frac{s^{2}_{2}}{n_{2}})^2}{\\frac{(\\frac{s^{2}_{1}}{n_{1}})^{2}}{n_{1} - 1} + \\frac{(\\frac{s^{2}_{2}}{n_{2}})^{2}}{n_{2} - 1}} $ <br>\n",
        "Habiendo obtenido esto, podremos calcular el $t_{critico}$. "
      ]
    },
    {
      "cell_type": "code",
      "execution_count": 25,
      "metadata": {
        "colab": {
          "base_uri": "https://localhost:8080/"
        },
        "id": "15-qdyCdQEbf",
        "outputId": "6fca1010-1073-46bb-86f9-eda5006e2d3e"
      },
      "outputs": [
        {
          "output_type": "stream",
          "name": "stdout",
          "text": [
            "T-crítico:  1.964939198427694\n"
          ]
        }
      ],
      "source": [
        "# Grados de libertad\n",
        "gl = ((s_1**2/n_1) + (s_2**2/n_2))**2/(((s_1**2/n_1)**2)/(n_1 - 1) + ((s_2**2/n_2)**2)/(n_2 - 1))\n",
        "\n",
        "# T crítico\n",
        "alfa = 0.05\n",
        "t = stats.t.ppf (q = 1-alfa/2, df = gl)\n",
        "print(\"T-crítico: \", t)"
      ]
    },
    {
      "cell_type": "markdown",
      "metadata": {
        "id": "CTJogQCCeCqd"
      },
      "source": [
        "En este punto ya podemos observar que se cumple: <br>\n",
        "$ T = -6.665 < -t_{\\frac{\\alpha}{2},\\nu} = -1.965 $ , <br>\n",
        "por lo que tenemos evidencias para rechazar la hipótesis nula."
      ]
    },
    {
      "cell_type": "markdown",
      "metadata": {
        "id": "tZwVS4_TV00N"
      },
      "source": [
        "Cálculo del intervalo de confianza:"
      ]
    },
    {
      "cell_type": "code",
      "execution_count": 26,
      "metadata": {
        "colab": {
          "base_uri": "https://localhost:8080/"
        },
        "id": "zvAI8InuV3g5",
        "outputId": "2f37f210-a5fb-4227-bf62-5d94c9c13079"
      },
      "outputs": [
        {
          "output_type": "stream",
          "name": "stdout",
          "text": [
            "Intervalo de confianza: [-12112.95075083839, -6597.303382159582]\n"
          ]
        }
      ],
      "source": [
        "IC = [x_1 - x_2 - t * math.sqrt((s_1**2/n_1) + (s_2**2/n_2)), x_1 - x_2 + t * math.sqrt((s_1**2/n_1) + (s_2**2/n_2))]\n",
        "print(\"Intervalo de confianza:\", IC)"
      ]
    },
    {
      "cell_type": "markdown",
      "metadata": {
        "id": "zAUbd3STeu-N"
      },
      "source": [
        "Observamos que el intervalo de confianza no contiene al 0, por lo que nuevamente tenemos evidencia para descartar la hipótesis nula. Además, todos los valores del intervalo son negativos, lo que indica que la media del salario anual de las personas que aceptaron la membresía es mayor que la media del salario anual de las personas que no lo hicieron."
      ]
    },
    {
      "cell_type": "markdown",
      "metadata": {
        "id": "bhh9yTuXriQ1"
      },
      "source": [
        "#### ¿Es el nivel educativo un factor que influye en la decisión de aceptar la membresía?"
      ]
    },
    {
      "cell_type": "markdown",
      "metadata": {
        "id": "ubplYwbJqspI"
      },
      "source": [
        "Para responder esta pregunta debemos evaluar si existen diferencias significativas entre las proporciones de personas que aceptaron la membresía en función de su nivel educativo. Así nuestra variable respuesta será `Response` y nuestra variable predictora será `Education`.<br>\n",
        "<br>\n",
        "* Parámetro poblacional de interés: <br>\n",
        "$ p_{i} - p_{j} $ <br>\n",
        "donde: <br>\n",
        "$ p_{i} $ : proporción de personas con nivel educativo $ i $ que aceptaron la membresía sobre el total de personas con nivel educativo $ i $. <br>\n",
        "$ p_{j} $ : proporción de personas con nivel educativo $ j $ que aceptaron la membresía sobre el total de personas con nivel educativo $ j $. <br>\n",
        "siendo: <br>\n",
        "${i,j}$ : {Basic, 2n Cycle, Graduate, Master, PhD}<br>\n",
        "<br>\n",
        "* HIPÓTESIS: <br>\n",
        "$ H_{0}: p_{i} - p_{j} = 0 $ para algún $i,j$<br>\n",
        "$ H_{1}: p_{i} - p_{j} ≠ 0 $ para algún $i,j$<br>\n",
        "<br>\n",
        "* Estadístico muestral para realizar la estimación: <br>\n",
        "$ Z = \\frac{p̂_{i} - p̂_{j}}{\\sqrt{\\frac{p̂_{i}(1-p̂_{i})}{n_{i}} + \\frac{p̂_{j}(1-p̂_{j})}{n_{j}}}} $ <br>\n",
        "donde: <br>\n",
        "$ p̂_{i} $ : proporción muestral de personas con nivel educativo $i$ que aceptaron la membresía. <br>\n",
        "$ p̂_{j} $ : proporción muestral de personas con nivel educativo $j$ que aceptaron la membresía. <br>\n",
        "$ n_{i} $ : total de personas con nivel educativo $i$. <br>\n",
        "$ n_{j} $ : total de personas con nivel educativo $j$. <br>\n",
        "<br>\n",
        "* Valor Z crítico: <br>\n",
        "Sea $ z_{\\frac{\\alpha}{2}} $ el valor $ z_{critico} $ que deja un área de $ \\frac{\\alpha}{2} $ a derecha y un área de $ \\frac{\\alpha}{2} $ a izquierda. La hipótesis nula se rechazará si: <br>\n",
        "$ Z < -z_{\\frac{\\alpha}{2}} $ o $ Z > z_{\\frac{\\alpha}{2}} $\n",
        "<br>\n",
        "\n",
        "* INTERVALO DE CONFIANZA: <br>\n",
        "$ (p̂_{i} - p̂_{j}) - z_{\\frac{\\alpha}{2}}\\sqrt{\\frac{p̂_{i}(1-p̂_{i})}{n_{i}} + \\frac{p̂_{j}(1-p̂_{j})}{n_{j}}} $ , $ (p̂_{i} - p̂_{j}) + z_{\\frac{\\alpha}{2}}\\sqrt{\\frac{p̂_{i}(1-p̂_{i})}{n_{i}} + \\frac{p̂_{j}(1-p̂_{j})}{n_{j}}} $ <br>\n",
        "Utilizaremos un nivel de confianza del 95% (es decir, un nivel de significancia $ \\alpha $ del 5%). <br>\n",
        "<br>\n",
        "* Interpretación del intervalo de confianza: <br>\n",
        "Si para alguna combinación $i,j$ el 0 está contenido dentro del intervalo, entonces podremos afirmar con un 95% de confianza que existen diferencias significativas entre la proporción de personas que aceptaron la membresía según su nivel educativo. Por el contrario, si el 0 no está contenido, entonces no podremos afirmar que existan diferencias significativas."
      ]
    },
    {
      "cell_type": "markdown",
      "metadata": {
        "id": "YjAF_pk3y60N"
      },
      "source": [
        "##### Estadísticos muestrales e intervalos de confianza"
      ]
    },
    {
      "cell_type": "code",
      "execution_count": 27,
      "metadata": {
        "id": "N-Lnj9u_z-65"
      },
      "outputs": [],
      "source": [
        "n_bas = df[df['Education'] == 'Basic'].shape[0]\n",
        "n_sec = df[df['Education'] == '2n Cycle'].shape[0]\n",
        "n_grad = df[df['Education'] == 'Graduation'].shape[0]\n",
        "n_mas = df[df['Education'] == 'Master'].shape[0]\n",
        "n_phd = df[df['Education'] == 'PhD'].shape[0]\n",
        "\n",
        "p_bas = df[np.logical_and(df['Response'] == 1, df['Education'] == 'Basic')].shape[0] / n_bas\n",
        "p_sec = df[np.logical_and(df['Response'] == 1, df['Education'] == '2n Cycle')].shape[0] / n_sec\n",
        "p_grad = df[np.logical_and(df['Response'] == 1, df['Education'] == 'Graduation')].shape[0] / n_grad\n",
        "p_mas = df[np.logical_and(df['Response'] == 1, df['Education'] == 'Master')].shape[0] / n_mas\n",
        "p_phd = df[np.logical_and(df['Response'] == 1, df['Education'] == 'PhD')].shape[0] / n_phd"
      ]
    },
    {
      "cell_type": "markdown",
      "metadata": {
        "id": "JzWpBEbvzBnZ"
      },
      "source": [
        "Cálculo de los estadísticos muestrales $Z$\n",
        "\n"
      ]
    },
    {
      "cell_type": "code",
      "execution_count": 28,
      "metadata": {
        "colab": {
          "base_uri": "https://localhost:8080/"
        },
        "id": "TAsKKOUb7Vc_",
        "outputId": "64a72a8c-42cf-4f57-86c9-02539b2da8a2"
      },
      "outputs": [
        {
          "output_type": "stream",
          "name": "stdout",
          "text": [
            "Comparación entre nivel básico y postdoctoral Z = -5.416229292060815\n",
            "Comparación entre nivel básico y máster Z = -3.6608483899323296\n",
            "Comparación entre nivel básico y graduado Z = -3.5561496872228258\n",
            "Comparación entre nivel básico y nivel secundario Z = -2.1515899354548034\n",
            "Comparación entre nivel secundario y postdoctoral Z = -3.419344004525804\n",
            "Comparación entre nivel secundario y máster Z = -1.506455596632169\n",
            "Comparación entre nivel secundario y graduado Z = -1.042794487712966\n",
            "Comparación entre graduado y postdoctoral Z = -3.4579188963881813\n",
            "Comparación entre graduado y máster Z = -0.85638952402269\n",
            "Comparación entre máster y postdoctoral Z = -2.0721896208496613\n"
          ]
        }
      ],
      "source": [
        "nn = [n_bas, n_sec, n_grad, n_mas, n_phd]\n",
        "pp = [p_bas, p_sec, p_grad, p_mas, p_phd]\n",
        "nombres = [\"nivel básico\", \"nivel secundario\", \"graduado\", \"máster\", \"postdoctoral\"]\n",
        "\n",
        "Z = np.zeros([5,5])\n",
        "\n",
        "for i in range(0,len(nn)):\n",
        "  if i <= len(nn):\n",
        "    for j in range(len(nn)-1, i, -1):\n",
        "      Z[i,j] = (pp[i] - pp[j])/math.sqrt((pp[i]*(1-pp[i])/nn[i]) + (pp[j]*(1-pp[j])/nn[j]))\n",
        "      print(\"Comparación entre\",nombres[i],\"y\",nombres[j],\"Z =\",Z[i,j])"
      ]
    },
    {
      "cell_type": "markdown",
      "metadata": {
        "id": "3axVw0TJ32qq"
      },
      "source": [
        "Cálculo del $z_{critico}$"
      ]
    },
    {
      "cell_type": "code",
      "execution_count": 29,
      "metadata": {
        "colab": {
          "base_uri": "https://localhost:8080/"
        },
        "id": "KAdYMx6Q35Yj",
        "outputId": "c03d4748-f80f-40bd-c3eb-bc014a80f573"
      },
      "outputs": [
        {
          "output_type": "stream",
          "name": "stdout",
          "text": [
            "Z-crítico:  1.959963984540054\n"
          ]
        }
      ],
      "source": [
        "# Z-crítico\n",
        "alfa = 0.05\n",
        "z = stats.norm.ppf (q = 1-alfa/2)\n",
        "print(\"Z-crítico: \", z)"
      ]
    },
    {
      "cell_type": "markdown",
      "metadata": {
        "id": "jusHN2OK4cpb"
      },
      "source": [
        "De aquí podemos extraer las siguientes conclusiones: <br>\n",
        "\n",
        "* Situaciones en las que rechazamos $H_{0}$ <br>\n",
        "$Z_{basic-secondary} = -2.152 < -z_{\\frac{\\alpha}{2}} = -1.960$ <br>\n",
        "$Z_{basic-gradruate} = -3.556 < -z_{\\frac{\\alpha}{2}} = -1.960$ <br>\n",
        "$Z_{basic-master} = -3.661 < -z_{\\frac{\\alpha}{2}} = -1.960$ <br>\n",
        "$Z_{basic-phd} = -5.416 < -z_{\\frac{\\alpha}{2}} = -1.960$ <br>\n",
        "$Z_{secondary-phd} = -3.419 < -z_{\\frac{\\alpha}{2}} = -1.960$ <br>\n",
        "$Z_{graduate-phd} = -3.458 < -z_{\\frac{\\alpha}{2}} = -1.960$ <br>\n",
        "$Z_{master-phd} = -2.072 < -z_{\\frac{\\alpha}{2}} = -1.960$ <br>\n",
        "<br>\n",
        "* Situaciones en las que no rechazamos $H_{0}$ <br>\n",
        "$Z_{secondary-graduate} = -1.043 > -z_{\\frac{\\alpha}{2}} = -1.960$ <br>\n",
        "$Z_{secondary-master} = -1.506 > -z_{\\frac{\\alpha}{2}} = -1.960$ <br>\n",
        "$Z_{graduate-master} = -0.856 > -z_{\\frac{\\alpha}{2}} = -1.960$ <br>\n",
        "\n",
        "Como vemos, en los únicos casos en los cuales no pareciera haber diferencias significativas es cuando comparamos entre las proporciones de personas con estudios secundarios vs graduados, secundarios vs másters, y graduados vs másters. Para todos los demás casos sí existen evidencias suficientes para rechazar $H_{0}$ y, por lo tanto, para afirmar que existen diferencias significativas.\n"
      ]
    },
    {
      "cell_type": "markdown",
      "metadata": {
        "id": "mUtx-ID-5RcF"
      },
      "source": [
        "Cálculos de los intervalos de confianza"
      ]
    },
    {
      "cell_type": "code",
      "execution_count": 30,
      "metadata": {
        "colab": {
          "base_uri": "https://localhost:8080/"
        },
        "id": "8Wqs2FPVGIT4",
        "outputId": "94f8c79d-6beb-4553-ebf7-97d3ec1de985"
      },
      "outputs": [
        {
          "output_type": "stream",
          "name": "stdout",
          "text": [
            "IC del 95% para la comparación entre nivel básico y postdoctoral IC = [-0.23387539 -0.10958707]\n",
            "IC del 95% para la comparación entre nivel básico y máster IC = [-0.17934699 -0.05427125]\n",
            "IC del 95% para la comparación entre nivel básico y graduado IC = [-0.15261583 -0.04416211]\n",
            "IC del 95% para la comparación entre nivel básico y nivel secundario IC = [-0.13942766 -0.00649826]\n",
            "IC del 95% para la comparación entre nivel secundario y postdoctoral IC = [-0.15538212 -0.04215441]\n",
            "IC del 95% para la comparación entre nivel secundario y máster IC = [-0.1008919   0.01319959]\n",
            "IC del 95% para la comparación entre nivel secundario y graduado IC = [-0.07321497  0.02236295]\n",
            "IC del 95% para la comparación entre graduado y postdoctoral IC = [-0.11491298 -0.03177154]\n",
            "IC del 95% para la comparación entre graduado y máster IC = [-0.06057715  0.02373686]\n",
            "IC del 95% para la comparación entre máster y postdoctoral IC = [-0.10686976 -0.00297447]\n"
          ]
        }
      ],
      "source": [
        "IC = np.zeros([5,5,2])\n",
        "\n",
        "for i in range(0,len(nn)):\n",
        "  if i <= len(nn):\n",
        "    for j in range(len(nn)-1, i, -1):\n",
        "      IC[i,j,0] = (pp[i] - pp[j] - z*math.sqrt((pp[i]*(1-pp[i])/nn[i]) + (pp[j]*(1-pp[j])/nn[j])))\n",
        "      IC[i,j,1] = (pp[i] - pp[j] + z*math.sqrt((pp[i]*(1-pp[i])/nn[i]) + (pp[j]*(1-pp[j])/nn[j])))\n",
        "      print(\"IC del 95% para la comparación entre\",nombres[i],\"y\",nombres[j],\"IC =\",IC[i,j])"
      ]
    },
    {
      "cell_type": "code",
      "execution_count": 31,
      "metadata": {
        "colab": {
          "base_uri": "https://localhost:8080/",
          "height": 556
        },
        "id": "8pWPTEfJ4FYS",
        "outputId": "a611b60e-b298-4c6a-9868-0eb34a07200f"
      },
      "outputs": [
        {
          "output_type": "stream",
          "name": "stderr",
          "text": [
            "WARNING:matplotlib.legend:No artists with labels found to put in legend.  Note that artists whose label start with an underscore are ignored when legend() is called with no argument.\n"
          ]
        },
        {
          "output_type": "execute_result",
          "data": {
            "text/plain": [
              "<matplotlib.legend.Legend at 0x7f3c0b66e580>"
            ]
          },
          "metadata": {},
          "execution_count": 31
        },
        {
          "output_type": "display_data",
          "data": {
            "text/plain": [
              "<Figure size 1080x576 with 1 Axes>"
            ],
            "image/png": "[encoded data removed]"
          },
          "metadata": {
            "needs_background": "light"
          }
        }
      ],
      "source": [
        "y = 1\n",
        "col = (\"teal\", \"darkmagenta\", \"olivedrab\", \"chocolate\", \"crimson\", \"navy\", \"darkseagreen\", \"mediumvioletred\", \"darkturquoise\", \"coral\")\n",
        "names = (\"basic vs secondary\", \"basic vs graduate\", \"basic vs master\", \"basic vs PhD\", \"secondary vs graduate\", \"secondary vs master\", \"secondary vs PhD\", \"graduado vs master\", \"graduate vs PhD\", \"master vs PhD\")\n",
        "k = 0\n",
        "fig,ax = plt.subplots()\n",
        "fig.set_size_inches(15, 8)\n",
        "plt.xlim(-.5,.5)\n",
        "plt.legend()\n",
        "for i in range(0, IC.shape[0]):\n",
        "  for j in range(0, IC.shape[1]):\n",
        "    if (IC[i][j][0] != 0):\n",
        "      ax.axhline(y = y, xmin=IC[i][j][0]+0.5, xmax=IC[i][j][1]+0.5, color = col[k], label = names[k], marker = \"o\")     \n",
        "      k+=1\n",
        "      y+=1\n",
        "ax.axvline(x = 0, linestyle = \":\", color = \"gray\")\n",
        "plt.title(\"95% Confidence intervals\", {'fontsize': 16})\n",
        "plt.legend(title = \"Comparisons\")"
      ]
    },
    {
      "cell_type": "markdown",
      "metadata": {
        "id": "zNpi5RJz636M"
      },
      "source": [
        "En concordancia a lo obtenido en el análisis anterior, observamos que para las comparaciones de las proporciones entre los niveles secundario vs graduado, secundario vs máster, y graduado vs máster, los intervalos de confianza contienen al 0, por lo que no tenemos evidencia suficiente para rechazar $H_{0}$. En todos los demás casos, sí se observa evidencia suficiente para rechazar $H_{0}$ y, por lo tanto, para afirmar que existen diferencias significativas. <br>\n",
        "Además, en los casos en los que se presentan diferencias, para todos ellos, todos los valores dentro del intervalo de confianza son negativos, lo que implica que a mayor nivel educativo mayor es la proporción de personas que aceptaron la membresía."
      ]
    },
    {
      "cell_type": "markdown",
      "metadata": {
        "id": "ajvwf1FkibCv"
      },
      "source": [
        "#### ¿Es el estado civil un factor influyente en la decisión de aceptar la membresía?"
      ]
    },
    {
      "cell_type": "markdown",
      "metadata": {
        "id": "Hh_YO_T1OFjB"
      },
      "source": [
        "Para responder esta pregunta debemos evaluar si existen diferencias significativas entre las proporciones de personas que aceptan la membresía en función de su estado civil. Así nuestra variable respuesta será `Response` y nuestra variable predictora será `Marital_Status`.<br>\n",
        "<br>\n",
        "* Parámetro poblacional de interés: <br>\n",
        "$ p_{i} - p_{j} $ <br>\n",
        "donde: <br>\n",
        "$ p_{i} $ : proporción de personas de estado civil $ i $ que aceptaron la membresía sobre el total de personas de estado civil $ i $. <br>\n",
        "$ p_{j} $ : proporción de personas de estado civil $ j $ que aceptaron la membresía sobre el total de personas de estado civil $ j $. <br>\n",
        "siendo: <br>\n",
        "${i,j}$ : {Married, Together, Divorce, Widow, Single}<br>\n",
        "<br>\n",
        "* HIPÓTESIS: <br>\n",
        "$ H_{0}: p_{i} - p_{j} = 0 $ para algún $i,j$<br>\n",
        "$ H_{1}: p_{i} - p_{j} ≠ 0 $ para algún $i,j$<br>\n",
        "<br>\n",
        "* Estadístico muestral para realizar la estimación: <br>\n",
        "$ Z = \\frac{p̂_{i} - p̂_{j}}{\\sqrt{\\frac{p̂_{i}(1-p̂_{i})}{n_{i}} + \\frac{p̂_{j}(1-p̂_{j})}{n_{j}}}} $ <br>\n",
        "donde: <br>\n",
        "$ p̂_{i} $ : proporción muestral de personas con estado civil $i$ que aceptaron la membresía. <br>\n",
        "$ p̂_{j} $ : proporción muestral de personas con estado civil $j$ que aceptaron la membresía. <br>\n",
        "$ n_{i} $ : total de personas con estado civil $i$. <br>\n",
        "$ n_{j} $ : total de personas con estado civil $j$. <br>\n",
        "<br>\n",
        "* Valor Z crítico: <br>\n",
        "Sea $ z_{\\frac{\\alpha}{2}} $ el valor $ z_{critico} $ que deja un área de $ \\frac{\\alpha}{2} $ a derecha y un área de $ \\frac{\\alpha}{2} $ a izquierda. La hipótesis nula se rechazará si: <br>\n",
        "$ Z < -z_{\\frac{\\alpha}{2}} $ o $ Z > z_{\\frac{\\alpha}{2}} $\n",
        "<br>\n",
        "\n",
        "* INTERVALO DE CONFIANZA: <br>\n",
        "$ (p̂_{i} - p̂_{j}) - z_{\\frac{\\alpha}{2}}\\sqrt{\\frac{p̂_{i}(1-p̂_{i})}{n_{i}} + \\frac{p̂_{j}(1-p̂_{j})}{n_{j}}} $ , $ (p̂_{i} - p̂_{j}) + z_{\\frac{\\alpha}{2}}\\sqrt{\\frac{p̂_{i}(1-p̂_{i})}{n_{i}} + \\frac{p̂_{j}(1-p̂_{j})}{n_{j}}} $ <br>\n",
        "Utilizaremos un nivel de confianza del 95% (es decir, un nivel de significancia $ \\alpha $ del 5%). <br>\n",
        "<br>\n",
        "* Interpretación del intervalo de confianza: <br>\n",
        "Si para alguna combinación $i,j$ el 0 está contenido dentro del intervalo, entonces podremos afirmar con un 95% de confianza que existen diferencias significativas entre la proporción de personas que aceptaron la membresía según su estado civil. Por el contrario, si el 0 no está contenido, entonces no podremos afirmar que existan diferencias significativas."
      ]
    },
    {
      "cell_type": "markdown",
      "metadata": {
        "id": "zyeFgSRsQJ8s"
      },
      "source": [
        "##### Estadísticos muestrales e intervalos de confianza"
      ]
    },
    {
      "cell_type": "code",
      "execution_count": 32,
      "metadata": {
        "id": "ChoWCQORQK5n"
      },
      "outputs": [],
      "source": [
        "n_marr = df[df['Marital_Status'] == 'Married'].shape[0]\n",
        "n_div = df[df['Marital_Status'] == 'Divorced'].shape[0]\n",
        "n_sing = df[df['Marital_Status'] == 'Single'].shape[0]\n",
        "n_tog = df[df['Marital_Status'] == 'Together'].shape[0]\n",
        "n_wid = df[df['Marital_Status'] == 'Widow'].shape[0]\n",
        "\n",
        "p_marr = df[np.logical_and(df['Response'] == 1, df['Marital_Status'] == 'Married')].shape[0] / n_marr\n",
        "p_div = df[np.logical_and(df['Response'] == 1, df['Marital_Status'] == 'Divorced')].shape[0] / n_div\n",
        "p_sing = df[np.logical_and(df['Response'] == 1, df['Marital_Status'] == 'Single')].shape[0] / n_sing\n",
        "p_tog = df[np.logical_and(df['Response'] == 1, df['Marital_Status'] == 'Together')].shape[0] / n_tog\n",
        "p_wid = df[np.logical_and(df['Response'] == 1, df['Marital_Status'] == 'Widow')].shape[0] / n_wid"
      ]
    },
    {
      "cell_type": "markdown",
      "metadata": {
        "id": "N_zbY8T8RbF0"
      },
      "source": [
        "Cálculo de los estadísticos muestrales $Z$"
      ]
    },
    {
      "cell_type": "code",
      "execution_count": 33,
      "metadata": {
        "colab": {
          "base_uri": "https://localhost:8080/"
        },
        "id": "ARj2Xi2PRc3a",
        "outputId": "c16562a0-fa84-4957-dab1-091c3e7d73f6"
      },
      "outputs": [
        {
          "output_type": "stream",
          "name": "stdout",
          "text": [
            "Comparación entre casado y juntado Z = 0.5742954831538931\n",
            "Comparación entre casado y soltero Z = -5.047846432814938\n",
            "Comparación entre casado y divorciado Z = -3.221074234078051\n",
            "Comparación entre casado y viudo Z = -2.45154181822002\n",
            "Comparación entre juntado y soltero Z = -5.245464939790875\n",
            "Comparación entre juntado y divorciado Z = -3.4626004317981565\n",
            "Comparación entre juntado y viudo Z = -2.6207461529348026\n",
            "Comparación entre soltero y divorciado Z = 0.5743980522341677\n",
            "Comparación entre soltero y viudo Z = -0.21185510009254702\n",
            "Comparación entre divorciado y viudo Z = -0.5390960841354727\n"
          ]
        }
      ],
      "source": [
        "nmt = [n_marr, n_tog, n_sing, n_div, n_wid]\n",
        "pmt = [p_marr, p_tog, p_sing, p_div, p_wid]\n",
        "nombresmt = [\"casado\", \"juntado\", \"soltero\", \"divorciado\", \"viudo\"]\n",
        "\n",
        "Z = np.zeros([5,5])\n",
        "\n",
        "for i in range(0,len(nmt)):\n",
        "  if i <= len(nn):\n",
        "    for j in range(i+1, len(nmt)):\n",
        "      Z[i,j] = (pmt[i] - pmt[j])/math.sqrt((pmt[i]*(1-pmt[i])/nmt[i]) + (pmt[j]*(1-pmt[j])/nmt[j]))\n",
        "      print(\"Comparación entre\",nombresmt[i],\"y\",nombresmt[j],\"Z =\",Z[i,j])"
      ]
    },
    {
      "cell_type": "markdown",
      "metadata": {
        "id": "y9I2xp5GSTOb"
      },
      "source": [
        "Cálculo del $z_{critico}$"
      ]
    },
    {
      "cell_type": "code",
      "execution_count": 34,
      "metadata": {
        "colab": {
          "base_uri": "https://localhost:8080/"
        },
        "id": "U9rtVBLVSVVh",
        "outputId": "4609f8ba-3ee7-4f0d-d813-561cf9de2115"
      },
      "outputs": [
        {
          "output_type": "stream",
          "name": "stdout",
          "text": [
            "Z-crítico:  1.959963984540054\n"
          ]
        }
      ],
      "source": [
        "# Z-crítico\n",
        "alfa = 0.05\n",
        "z = stats.norm.ppf (q = 1-alfa/2)\n",
        "print(\"Z-crítico: \", z)"
      ]
    },
    {
      "cell_type": "markdown",
      "metadata": {
        "id": "2FU7jl-FSdvF"
      },
      "source": [
        "De aquí podemos extraer las siguientes conclusiones: <br>\n",
        "\n",
        "* Situaciones en las que rechazamos $H_{0}$ <br>\n",
        "$Z_{married-single} = -5.048 < -z_{\\frac{\\alpha}{2}} = -1.960$ <br>\n",
        "$Z_{married-divorced} = -3.221 < -z_{\\frac{\\alpha}{2}} = -1.960$ <br>\n",
        "$Z_{married-widow} = -2.452 < -z_{\\frac{\\alpha}{2}} = -1.960$ <br>\n",
        "$Z_{together-single} = -5.245 < -z_{\\frac{\\alpha}{2}} = -1.960$ <br>\n",
        "$Z_{together-divorced} = -3.463 < -z_{\\frac{\\alpha}{2}} = -1.960$ <br>\n",
        "$Z_{together-widow} = -2.621 < -z_{\\frac{\\alpha}{2}} = -1.960$ <br>\n",
        "\n",
        "* Situaciones en las que no se rechaza $H_{0}$ <br>\n",
        "$Z_{married-together} = 0.574 < z_{\\frac{\\alpha}{2}} = 1.960$ <br>\n",
        "$Z_{single-divorced} = 0.574 < z_{\\frac{\\alpha}{2}} = 1.960$ <br>\n",
        "$Z_{single-widow} = -0.212 > -z_{\\frac{\\alpha}{2}} = -1.960$ <br>\n",
        "$Z_{divorced-widow} = -0.539 > -z_{\\frac{\\alpha}{2}} = -1.960$ <br>\n",
        "\n",
        "Así, observamos que en los únicos casos en los cuales no pareciera haber diferencias significativas es cuando comparamos entre las proporciones de personas con estado civil casado vs juntado, soltero vs divorciado, soltero vs viudo, y divorciado vs viudo. Para todos los demás casos sí existen evidencias suficientes para rechazar $H_{0}$ y por lo tanto afirmar que existen diferencias significativas."
      ]
    },
    {
      "cell_type": "markdown",
      "metadata": {
        "id": "ro-acA6ffJNw"
      },
      "source": [
        "Cálculo de los intervalos de confianza"
      ]
    },
    {
      "cell_type": "code",
      "execution_count": 35,
      "metadata": {
        "colab": {
          "base_uri": "https://localhost:8080/"
        },
        "id": "edn3MssSfPP2",
        "outputId": "97ceeedd-88bc-4693-ca59-a6dbb3f1e124"
      },
      "outputs": [
        {
          "output_type": "stream",
          "name": "stdout",
          "text": [
            "IC del 95% para la comparación entre casado y viudo  IC = [-0.22041806 -0.02456137]\n",
            "IC del 95% para la comparación entre casado y divorciado  IC = [-0.14885557 -0.03623275]\n",
            "IC del 95% para la comparación entre casado y soltero  IC = [-0.15463466 -0.06813735]\n",
            "IC del 95% para la comparación entre casado y juntado  IC = [-0.02326038  0.04254108]\n",
            "IC del 95% para la comparación entre juntado y viudo  IC = [-0.2309455  -0.03331463]\n",
            "IC del 95% para la comparación entre juntado y divorciado  IC = [-0.16002484 -0.04434418]\n",
            "IC del 95% para la comparación entre juntado y soltero  IC = [-0.16624776 -0.07580495]\n",
            "IC del 95% para la comparación entre soltero y viudo  IC = [-0.11382896  0.09162155]\n",
            "IC del 95% para la comparación entre soltero y divorciado  IC = [-0.0454504   0.08313408]\n",
            "IC del 95% para la comparación entre divorciado y viudo  IC = [-0.13881707  0.07892596]\n"
          ]
        }
      ],
      "source": [
        "ICmt = np.zeros([5,5,2])\n",
        "\n",
        "for i in range(0,len(nmt)):\n",
        "  if i <= len(nmt):\n",
        "    for j in range(len(nn)-1, i, -1):\n",
        "      ICmt[i,j,0] = (pmt[i] - pmt[j] - z*math.sqrt((pmt[i]*(1-pmt[i])/nmt[i]) + (pmt[j]*(1-pmt[j])/nmt[j])))\n",
        "      ICmt[i,j,1] = (pmt[i] - pmt[j] + z*math.sqrt((pmt[i]*(1-pmt[i])/nmt[i]) + (pmt[j]*(1-pmt[j])/nmt[j])))\n",
        "      print(\"IC del 95% para la comparación entre\",nombresmt[i],\"y\",nombresmt[j],\" IC =\",ICmt[i,j])"
      ]
    },
    {
      "cell_type": "code",
      "execution_count": 36,
      "metadata": {
        "colab": {
          "base_uri": "https://localhost:8080/",
          "height": 556
        },
        "id": "ACz9Dw8tjBtN",
        "outputId": "069ad61c-ff04-46da-ae65-ff51dd79c7e9"
      },
      "outputs": [
        {
          "output_type": "stream",
          "name": "stderr",
          "text": [
            "WARNING:matplotlib.legend:No artists with labels found to put in legend.  Note that artists whose label start with an underscore are ignored when legend() is called with no argument.\n"
          ]
        },
        {
          "output_type": "execute_result",
          "data": {
            "text/plain": [
              "<matplotlib.legend.Legend at 0x7f3c09bca310>"
            ]
          },
          "metadata": {},
          "execution_count": 36
        },
        {
          "output_type": "display_data",
          "data": {
            "text/plain": [
              "<Figure size 1080x576 with 1 Axes>"
            ],
            "image/png": "[encoded data removed]"
          },
          "metadata": {
            "needs_background": "light"
          }
        }
      ],
      "source": [
        "y = 1\n",
        "col = (\"teal\", \"darkmagenta\", \"olivedrab\", \"chocolate\", \"crimson\", \"navy\", \"darkseagreen\", \"mediumvioletred\", \"darkturquoise\", \"coral\")\n",
        "names = (\"married vs together\", \"married vs single\", \"married vs divorced\", \"married vs widow\", \"together vs single\", \"together vs divorced\", \"together vs widow\", \"single vs divorced\", \"single vs widow\", \"divorced vs widow\")\n",
        "k = 0\n",
        "fig,ax = plt.subplots()\n",
        "fig.set_size_inches(15, 8)\n",
        "plt.xlim(-.5,.5)\n",
        "plt.legend()\n",
        "for i in range(0, ICmt.shape[0]):\n",
        "  for j in range(0, ICmt.shape[1]):\n",
        "    if (ICmt[i][j][0] != 0):\n",
        "      ax.axhline(y = y, xmin=ICmt[i][j][0]+0.5, xmax=ICmt[i][j][1]+0.5, color = col[k], label = names[k], marker = \"o\")     \n",
        "      k+=1\n",
        "      y+=1\n",
        "ax.axvline(x = 0, linestyle = \":\", color = \"gray\")\n",
        "plt.title(\"95% Confidence intervals\", {'fontsize': 16})\n",
        "plt.legend(title = \"Comparisons\")"
      ]
    },
    {
      "cell_type": "markdown",
      "metadata": {
        "id": "GEYwribpfhV3"
      },
      "source": [
        "Nuevamente, con los intervalos de confianza, se evidencia la misma conclusión a la que llegamos en el punto anterior. Para las comparaciones entre casado vs juntado, soltero vs divorciado, soltero vs viudo y divorciado vs viudo, los intervalos de confianza de la diferencia de proporciones contienen al 0, por lo que no tenemos evidencias para rechazar la hipótesis nula. Por el contrario, todos los demás intervalos no contienen al 0, con lo que queda rechazada la hipótesis nula y podemos concluir que existen diferencias significativas. <br>\n",
        "Además, en los casos que presentan diferencias, se evidencia lo que observamos durante el análisis de los resúmenes gráficos y numéricos: cuando la comparación se realiza entre dos categorías que implican estar en pareja, o dos categorías que implican no estarlo, no se observan diferencias significativas; mientras que cuando se compara una categoría que implica estar en pareja, frente a otra que implica no estarlo, en todos los casos se observan diferencias significativas, y en todos ellos la proporción de personas sin pareja que decidieron aceptar la membresía es mayor que la proporción de personas con pareja que lo hicieron."
      ]
    },
    {
      "cell_type": "markdown",
      "metadata": {
        "id": "TPBqy7IgjA4N"
      },
      "source": [
        "#### ¿Es la existencia de niños y adolescentes en el hogar un factor influyente en la desición de aceptar la membresía?"
      ]
    },
    {
      "cell_type": "markdown",
      "metadata": {
        "id": "f_Pkf1pfzdMV"
      },
      "source": [
        "Para responder esta pregunta debemos evaluar si existen diferencias significativas entre las proporciones de personas que aceptan la membresía en función de si tienen niños o adolescentes viviendo en su hogar. Así nuestra variable respuesta será `Response`, y nuestra variable predictora será `Has_kids_or_teens`, una variable booleana auxiliar que crearemos unificando los valores de `Kidhome` y `Teenhome`. <br>\n",
        "<br>\n",
        "* Parámetro poblacional de interés: <br>\n",
        "$ p_{1} - p_{2} $ <br>\n",
        "donde: <br>\n",
        "$ p_{1} $ : proporción de personas de con niños o adolescentes en el hogar que aceptaron la membresía, sobre el total de personas con niños o adolescentes en el hogar. <br>\n",
        "$ p_{2} $ : proporción de personas sin niños o adolescentes en el hogar que aceptaron la membresía, sobre el total de personas sin niños o adolescentes en el hogar. <br>\n",
        "<br>\n",
        "* HIPÓTESIS: <br>\n",
        "$ H_{0}: p_{1} - p_{2} = 0 $ <br>\n",
        "$ H_{1}: p_{1} - p_{2} ≠ 0 $ <br>\n",
        "<br>\n",
        "* Estadístico muestral para realizar la estimación: <br>\n",
        "$ Z = \\frac{p̂_{i} - p̂_{j}}{\\sqrt{\\frac{p̂_{i}(1-p̂_{i})}{n_{i}} + \\frac{p̂_{j}(1-p̂_{j})}{n_{j}}}} $ <br>\n",
        "donde: <br>\n",
        "$ p̂_{i} $ : proporción muestral de personas con niños o adolescentes en el hogar que aceptaron la membresía. <br>\n",
        "$ p̂_{j} $ : proporción muestral de personas sin niños o adolescentes en el hogar que aceptaron la membresía. <br>\n",
        "$ n_{i} $ : total de personas con niños o adolescentes en el hogar. <br>\n",
        "$ n_{j} $ : total de personas sin niños o adolescentes en el hogar. <br>\n",
        "<br>\n",
        "* Valor Z crítico: <br>\n",
        "Sea $ z_{\\frac{\\alpha}{2}} $ el valor $ z_{critico} $ que deja un área de $ \\frac{\\alpha}{2} $ a derecha y un área de $ \\frac{\\alpha}{2} $ a izquierda. La hipótesis nula se rechazará si: <br>\n",
        "$ Z < -z_{\\frac{\\alpha}{2}} $ o $ Z > z_{\\frac{\\alpha}{2}} $\n",
        "<br>\n",
        "\n",
        "* INTERVALO DE CONFIANZA: <br>\n",
        "$ (p̂_{i} - p̂_{j}) - z_{\\frac{\\alpha}{2}}\\sqrt{\\frac{p̂_{i}(1-p̂_{i})}{n_{i}} + \\frac{p̂_{j}(1-p̂_{j})}{n_{j}}} $ , $ (p̂_{i} - p̂_{j}) + z_{\\frac{\\alpha}{2}}\\sqrt{\\frac{p̂_{i}(1-p̂_{i})}{n_{i}} + \\frac{p̂_{j}(1-p̂_{j})}{n_{j}}} $ <br>\n",
        "Utilizaremos un nivel de confianza del 95% (es decir, un nivel de significancia $ \\alpha $ del 5%). <br>\n",
        "<br>\n",
        "* Interpretación del intervalo de confianza: <br>\n",
        "Si para alguna combinación $i,j$ el 0 está contenido dentro del intervalo, entonces podremos afirmar con un 95% de confianza que existen diferencias significativas entre la proporción de personas que aceptaron la membresía según si tienen niños o adolescentes viviendo en su hogar. Por el contrario, si el 0 no está contenido, entonces no podremos afirmar que existan diferencias significativas."
      ]
    },
    {
      "cell_type": "markdown",
      "metadata": {
        "id": "uLhRc1Ih2LQx"
      },
      "source": [
        "##### Estadístico muestral e intervalo de confianza"
      ]
    },
    {
      "cell_type": "code",
      "execution_count": 37,
      "metadata": {
        "id": "kuMMYsLc2bfP"
      },
      "outputs": [],
      "source": [
        "n_has = df[df['Has_kids_or_teens'] == 'Yes'].shape[0]\n",
        "n_nohas = df[df['Has_kids_or_teens'] == 'No'].shape[0]\n",
        "\n",
        "p_has = df[np.logical_and(df['Response'] == 1, df['Has_kids_or_teens'] == 'Yes')].shape[0] / n_has\n",
        "p_nohas = df[np.logical_and(df['Response'] == 1, df['Has_kids_or_teens'] == 'No')].shape[0] / n_nohas"
      ]
    },
    {
      "cell_type": "markdown",
      "metadata": {
        "id": "Z06rKwTj3JYW"
      },
      "source": [
        "Cálculo del estadístico muestral $Z$"
      ]
    },
    {
      "cell_type": "code",
      "execution_count": 38,
      "metadata": {
        "colab": {
          "base_uri": "https://localhost:8080/"
        },
        "id": "2M_AyTeq3gop",
        "outputId": "89c3fe96-c62a-4e2c-9b95-743667bc623f"
      },
      "outputs": [
        {
          "output_type": "stream",
          "name": "stdout",
          "text": [
            "Z = -8.397733827994102\n"
          ]
        }
      ],
      "source": [
        "Zkt = (p_has - p_nohas)/math.sqrt((p_has*(1-p_has)/n_has) + (p_nohas*(1-p_nohas)/n_nohas))\n",
        "print(\"Z =\",Zkt)"
      ]
    },
    {
      "cell_type": "markdown",
      "metadata": {
        "id": "UABDZ-XL3HZM"
      },
      "source": [
        "Cálculo del $z_{critico}$"
      ]
    },
    {
      "cell_type": "code",
      "execution_count": 39,
      "metadata": {
        "colab": {
          "base_uri": "https://localhost:8080/"
        },
        "id": "zbKtjUG_7KCp",
        "outputId": "19e50d88-7ac6-4efb-fa94-0d54749b40fe"
      },
      "outputs": [
        {
          "output_type": "stream",
          "name": "stdout",
          "text": [
            "Z-crítico:  1.959963984540054\n"
          ]
        }
      ],
      "source": [
        "# Z-crítico\n",
        "alfa = 0.05\n",
        "z = stats.norm.ppf (q = 1-alfa/2)\n",
        "print(\"Z-crítico: \", z)"
      ]
    },
    {
      "cell_type": "markdown",
      "metadata": {
        "id": "kAR56GsM7Wf0"
      },
      "source": [
        "Se observa que: <br> \n",
        "$Z = -8.398 < -z_{\\frac{\\alpha}{2}} = -1.960$ <br>\n",
        "por lo que tenemos evidencias suficientes para rechazar la hipótesis nula y, por consiguiente, afirmar que existen diferencias significativas entre la proporción de personas que conviven con niños o adolescentes y aceptaron la membresía, y la proporción de personas que también la aceptaron pero no conviven con niños o adolescentes en el hogar."
      ]
    },
    {
      "cell_type": "markdown",
      "metadata": {
        "id": "CkQ25Ms-8XXX"
      },
      "source": [
        "Cálculo del intervalo de confianza"
      ]
    },
    {
      "cell_type": "code",
      "execution_count": 40,
      "metadata": {
        "colab": {
          "base_uri": "https://localhost:8080/"
        },
        "id": "7tZKjLz28dhK",
        "outputId": "a3c033da-94fe-4de1-cb4b-2455be350bc1"
      },
      "outputs": [
        {
          "output_type": "stream",
          "name": "stdout",
          "text": [
            "Intervalo de confianza del 95%: [-0.19848663817345677, -0.12336827320983798]\n"
          ]
        }
      ],
      "source": [
        "ICkt = [(p_has - p_nohas - z*math.sqrt((p_has*(1-p_has)/n_has) + (p_nohas*(1-p_nohas)/n_nohas))), (p_has - p_nohas + z*math.sqrt((p_has*(1-p_has)/n_has) + (p_nohas*(1-p_nohas)/n_nohas)))]\n",
        "print(\"Intervalo de confianza del 95%:\",ICkt)"
      ]
    },
    {
      "cell_type": "markdown",
      "metadata": {
        "id": "kCOAdo5G9Ay3"
      },
      "source": [
        "Observamos que el intervalo de confianza no contiene al 0 por lo que, nuevamente, se tiene evidencia suficiente para rechazar la hipótesis nula y afirmar que existen diferencias significativas entre ambas proporciones."
      ]
    },
    {
      "cell_type": "markdown",
      "metadata": {
        "id": "-UwaKhABYEpY"
      },
      "source": [
        "#### ¿Es la cantidad total gastada en la compra de productos en los últimos dos años un factor influyente en la decisión de aceptar la membresía?"
      ]
    },
    {
      "cell_type": "markdown",
      "metadata": {
        "id": "55L5AaK1Yw4d"
      },
      "source": [
        "Para responder esta pregunta debemos evaluar si existen diferencias significativas entre la media de la cantidad todal de lo que las personas que aceptaron la membresía gastaron en los últimos 2 años y la media de la cantidad total de lo que las personas que no la aceptaron gastaron en los últimos 2 años. Así nuestra variable respuesta será `Response` y nuestra variable predictora será `MntTotal`, una columna auxiliar que se creará combinando los valores de `MntMeatProducts`, `MntFishProducts`, `MntSweetProducts`, `MntFruits`, `MntWines` y `MntGoldProds`.<br>\n",
        "<br>\n",
        "* Parámetro poblacional de interés: <br>\n",
        "$ \\mu_{1} - \\mu_{2} $ <br>\n",
        "donde: <br>\n",
        "$ \\mu_{1} $ : media de la cantidad total gastada en productos en los últimos dos años por las personas que no aceptaron la membresía. <br>\n",
        "$ \\mu_{2} $ : media de la cantidad total gastada en productos en los últimos dos años por las personas que aceptaron la membresía. <br>\n",
        "<br>\n",
        "* HIPÓTESIS: <br>\n",
        "$ H_{0}: \\mu_{0} - \\mu_{1} = 0 $ <br>\n",
        "$ H_{1}: \\mu_{0} - \\mu_{1} ≠ 0 $ <br>\n",
        "<br>\n",
        "* Estadístico muestral para realizar la estimación: <br>\n",
        "$ T = \\frac{x̄_{1} - x̄_{2}}{\\sqrt{\\frac{s^{2}_{1}}{n_{1}} + \\frac{s^{2}_{2}}{n_{1}}}} $ <br>\n",
        "donde: <br>\n",
        "$ x̄_{1} $ : media muestral de la cantidad total gastada en productos en los últimos dos años por las personas que no aceptaron la membresía. <br>\n",
        "$ x̄_{2} $ : media muestral de la cantidad total gastada en productos en los últimos dos años por las personas que aceptaron la membresía. <br>\n",
        "$ s_{1} $ : desvío estándar muestral de la cantidad total gastada en productos en los últimos dos años por las personas que no aceptaron la membresía. <br>\n",
        "$ s_{2} $ : desvío estándar muestral de la cantidad total gastada en productos en los últimos dos años por las personas que aceptaron la membresía. <br>\n",
        "$ n_{1} $ : tamaño de la muestra de la cantidad total gastada en productos en los últimos dos años por las personas que no aceptaron la membresía. <br>\n",
        "$ n_{2} $ : tamaño de la muestra de la cantidad total gastada en productos en los últimos dos años por las personas que aceptaron la membresía. <br>\n",
        "<br>\n",
        "* Valor T crítico: <br>\n",
        "Sea $ t_{\\frac{\\alpha}{2},\\nu} $ el valor $ t_{critico} $ que deja un área de $ \\frac{\\alpha}{2} $ a derecha y un área de $ \\frac{\\alpha}{2} $ a izquierda con $ \\nu $ grados de libertad. La hipótesis nula se rechazará si: <br>\n",
        "$ T < -t_{\\frac{\\alpha}{2},\\nu} $ o $ T > t_{\\frac{\\alpha}{2},\\nu} $\n",
        "<br>\n",
        "\n",
        "* INTERVALO DE CONFIANZA: <br>\n",
        "$ (x̄_{1} - x̄_{2}) - t_{\\frac{\\alpha}{2},\\nu}\\sqrt{\\frac{s^{2}_{1}}{n_{1}} + \\frac{s^{2}_{2}}{n_{1}}} $ , $ (x̄_{1} - x̄_{2}) + t_{\\frac{\\alpha}{2},\\nu}\\sqrt{\\frac{s^{2}_{1}}{n_{1}} + \\frac{s^{2}_{2}}{n_{1}}} $ <br>\n",
        "Utilizaremos un nivel de confianza del 95% (es decir, un nivel de significancia $ \\alpha $ del 5%). <br>\n",
        "<br>\n",
        "* Interpretación del intervalo de confianza: <br>\n",
        "Si el 0 está contenido dentro del intervalo, entonces podremos afirmar con un 95% de confianza que existen diferencias significativas entre las medias de las cantidades totales gastadas en productos de quienes aceptaron la membresía y quienes no lo hicieron. Por el contrario, si el 0 no está contenido, entonces no podremos afirmar que existan diferencias significativas."
      ]
    },
    {
      "cell_type": "markdown",
      "metadata": {
        "id": "5pzIp4-T1Q-m"
      },
      "source": [
        "##### Estadístico muestral e intervalo de confianza"
      ]
    },
    {
      "cell_type": "markdown",
      "metadata": {
        "id": "8Z7bPpA_1T8k"
      },
      "source": [
        "Cálculo del estadístico muestral $T$"
      ]
    },
    {
      "cell_type": "code",
      "execution_count": 41,
      "metadata": {
        "colab": {
          "base_uri": "https://localhost:8080/"
        },
        "id": "35CdWVG-1WaC",
        "outputId": "94a51906-b443-4371-9c80-13f446589a8e"
      },
      "outputs": [
        {
          "output_type": "stream",
          "name": "stdout",
          "text": [
            "T = -10.73393766300523\n"
          ]
        }
      ],
      "source": [
        "total_no = df[df['Response'] == 0]['MntTotal']\n",
        "total_si = df[df['Response'] == 1]['MntTotal']\n",
        "\n",
        "xx_1 = total_no.mean()\n",
        "xx_2 = total_si.mean()\n",
        "ss_1 = total_no.std()\n",
        "ss_2 = total_si.std()\n",
        "nn_1 = total_no.size\n",
        "nn_2 = total_si.size\n",
        "\n",
        "T = (xx_1 - xx_2)/math.sqrt(ss_1**2/nn_1 + ss_2**2/nn_2)\n",
        "print(\"T =\", T)"
      ]
    },
    {
      "cell_type": "markdown",
      "metadata": {
        "id": "O6_ebi16Mjd5"
      },
      "source": [
        "Luego, para poder calcular nuestro valor $ t_{critico} $ necesitamos saber si las varianzas de nuestras muestras son iguales o diferentes, ya que los grados de libertad son muy sensibles a ello. Para esto utilizaremos el test de Levene. Si el p-valor obtenido es mayor a 0.05 podremos suponer que las varianzas de ambas muestras son iguales, mientras que si es menor supondremos que las mismas son diferentes."
      ]
    },
    {
      "cell_type": "code",
      "execution_count": 42,
      "metadata": {
        "colab": {
          "base_uri": "https://localhost:8080/"
        },
        "id": "knAnV7_MMoNE",
        "outputId": "cc94dc7d-9389-4677-b5fd-5e80f74c04be"
      },
      "outputs": [
        {
          "output_type": "stream",
          "name": "stdout",
          "text": [
            "p-valor = 0.011913056418450437\n"
          ]
        }
      ],
      "source": [
        "# Test de levene para evaluar si las varianzas son iguales o no\n",
        "print(\"p-valor =\", stats.levene(resp_no, resp_si)[1])"
      ]
    },
    {
      "cell_type": "markdown",
      "metadata": {
        "id": "-2j956e_MzlK"
      },
      "source": [
        "Como nuestro p-valor es de 0.000038 aproximadamente, supondremos que las varianzas de las muestras son diferentes. Así, los grados de libertad estarán dados por: <br>\n",
        "$ \\nu = \\frac{(\\frac{s^{2}_{1}}{n_{1}} + \\frac{s^{2}_{2}}{n_{2}})^2}{\\frac{(\\frac{s^{2}_{1}}{n_{1}})^{2}}{n_{1} - 1} + \\frac{(\\frac{s^{2}_{2}}{n_{2}})^{2}}{n_{2} - 1}} $ <br>\n",
        "Habiendo obtenido esto, podremos calcular el $t_{critico}$. "
      ]
    },
    {
      "cell_type": "code",
      "execution_count": 43,
      "metadata": {
        "colab": {
          "base_uri": "https://localhost:8080/"
        },
        "id": "SEGUoVSsM-u4",
        "outputId": "8b2bb877-06f7-4589-fc2e-0b3ecfc10080"
      },
      "outputs": [
        {
          "output_type": "stream",
          "name": "stdout",
          "text": [
            "T-crítico:  1.964939198427694\n"
          ]
        }
      ],
      "source": [
        "# Grados de libertad\n",
        "gll = ((ss_1**2/nn_1) + (ss_2**2/nn_2))**2/(((ss_1**2/nn_1)**2)/(nn_1 - 1) + ((ss_2**2/nn_2)**2)/(nn_2 - 1))\n",
        "\n",
        "# T crítico\n",
        "alfa = 0.05\n",
        "tt = stats.t.ppf (q = 1-alfa/2, df = gll)\n",
        "print(\"T-crítico: \", t)"
      ]
    },
    {
      "cell_type": "markdown",
      "metadata": {
        "id": "Pthi3OYgNTBM"
      },
      "source": [
        "En este punto ya podemos observar que se cumple: <br>\n",
        "$ T = -10.734 < -t_{\\frac{\\alpha}{2},\\nu} = -1.966 $ , <br>\n",
        "por lo que tenemos evidencias para rechazar la hipótesis nula y afirmar que existen diferencias significativas entre la media de la totalidad gastada en productos en los últimos 2 años de las personas que aceptaron la membresía, y la media de las personas que no lo hicieron."
      ]
    },
    {
      "cell_type": "markdown",
      "metadata": {
        "id": "QX9uqKSgNqDD"
      },
      "source": [
        "Cálculo del intervalo de confianza"
      ]
    },
    {
      "cell_type": "code",
      "execution_count": 44,
      "metadata": {
        "colab": {
          "base_uri": "https://localhost:8080/"
        },
        "id": "lfXm9cCkN6Ar",
        "outputId": "af69aba7-430c-4cb0-be2b-bd6f29273a7d"
      },
      "outputs": [
        {
          "output_type": "stream",
          "name": "stdout",
          "text": [
            "Intervalo de confianza: [-528.6420003529346, -365.01756838545066]\n"
          ]
        }
      ],
      "source": [
        "ICC = [xx_1 - xx_2 - tt * math.sqrt((ss_1**2/nn_1) + (ss_2**2/nn_2)), xx_1 - xx_2 + t * math.sqrt((ss_1**2/nn_1) + (ss_2**2/nn_2))]\n",
        "print(\"Intervalo de confianza:\", ICC)"
      ]
    },
    {
      "cell_type": "markdown",
      "metadata": {
        "id": "wEAMtLZnOQQF"
      },
      "source": [
        "Observamos que el intervalo de confianza no contiene al 0, por lo que nuevamente tenemos evidencia para descartar la hipótesis nula. Además, todos los valores del intervalo son negativos, lo que indica que la media de la cantidad total gastada en productos en los últimos 2 años de las personas que aceptaron la membresía es mayor que las personas que no lo hicieron."
      ]
    },
    {
      "cell_type": "markdown",
      "metadata": {
        "id": "cVTocMDmSTAX"
      },
      "source": [
        "#### *Conclusiones*"
      ]
    },
    {
      "cell_type": "markdown",
      "metadata": {
        "id": "KJWsgxc7SVp0"
      },
      "source": [
        "De todo lo anteriormente analizado hemos podido constatar que existen factores relacionados significativamente con la decisión de aceptar o rechazar la membresía. Así podemos concluir que la probabilidad de aceptar la membresía aumenta de una persona a otra conforme se presenta al menos una de las siguientes situaciones: <br>\n",
        "- aumento en el salario anual\n",
        "- nivel educativo superior al básico\n",
        "- nivel educativo de phd\n",
        "- aumento en el monto total gastado en productos durante los últimos 2 años\n",
        "- no está en pareja\n",
        "- no convive con niños o adolescentes"
      ]
    },
    {
      "cell_type": "markdown",
      "source": [
        "### *Modelo analítico*"
      ],
      "metadata": {
        "id": "dbJuap_tWMpz"
      }
    },
    {
      "cell_type": "markdown",
      "source": [
        "Como poseemos un dataset con etiquetas utilizaremos un método de aprendizaje supervisado. Además, como dicha etiqueta corresponde a una variable discreta, utilizaremos el método de K-Nearest-Neighbor (KNN). "
      ],
      "metadata": {
        "id": "ra335oMNWX6K"
      }
    },
    {
      "cell_type": "markdown",
      "source": [
        "#### Separación de la data para entrenamiento y test"
      ],
      "metadata": {
        "id": "T2NujNqaW3iI"
      }
    },
    {
      "cell_type": "markdown",
      "source": [
        "Se seleccionará aleatoriamente un 25% de los datos para reservarlos para el testeo del modelo."
      ],
      "metadata": {
        "id": "U3X7ytz6x_L0"
      }
    },
    {
      "cell_type": "code",
      "source": [
        "X = pd.DataFrame(scaler.fit_transform(df.drop(columns = [\"Id\", \"Education\", \"Marital_Status\", \"Dt_Customer\", \"Has_kids_or_teens\", \"Response\", 'MntTotal'])),\n",
        "        columns = df.drop(columns = [\"Id\", \"Education\", \"Marital_Status\", \"Dt_Customer\", \"Has_kids_or_teens\", \"Response\", 'MntTotal']).columns)\n",
        "y = df.Response\n",
        "\n",
        "X_train,X_test,y_train,y_test = train_test_split(X, y, test_size=0.25, stratify=y)"
      ],
      "metadata": {
        "id": "t9lBHJpNWPfc"
      },
      "execution_count": 229,
      "outputs": []
    },
    {
      "cell_type": "markdown",
      "source": [
        "Entrenamiento del modelo para distintos valores de k y determinación del valor K que presenta una mayor precisión al comparar con los valores obtenidos con los datos de testeo."
      ],
      "metadata": {
        "id": "FnjfZEhwaxT2"
      }
    },
    {
      "cell_type": "code",
      "source": [
        "test_scores = []\n",
        "train_scores = []\n",
        "\n",
        "for i in range(1, 20):\n",
        "  knn = KNeighborsClassifier(i)\n",
        "  knn.fit(X_train,y_train)\n",
        "  \n",
        "  train_scores.append(knn.score(X_train,y_train))\n",
        "  test_scores.append(knn.score(X_test,y_test))"
      ],
      "metadata": {
        "id": "EM-gOFPmauv4"
      },
      "execution_count": 230,
      "outputs": []
    },
    {
      "cell_type": "code",
      "source": [
        "max_test_score = max(test_scores)\n",
        "k = [i for i, v in enumerate(test_scores) if v == max_test_score][0]+1\n",
        "\n",
        "print(\"Max test score\",round(max_test_score*100,2),\"en k =\",k)"
      ],
      "metadata": {
        "colab": {
          "base_uri": "https://localhost:8080/"
        },
        "id": "uHng0NbjctZb",
        "outputId": "06346806-aacd-40f9-d90e-c84ab9c9bc0c"
      },
      "execution_count": 240,
      "outputs": [
        {
          "output_type": "stream",
          "name": "stdout",
          "text": [
            "Max test score 86.44 en k = 5\n"
          ]
        }
      ]
    },
    {
      "cell_type": "markdown",
      "source": [
        "Gráfico de puntajes para los distintos k:"
      ],
      "metadata": {
        "id": "SreSmgRBeOg6"
      }
    },
    {
      "cell_type": "code",
      "source": [
        "plt.figure(figsize=(12,5))\n",
        "p = sns.lineplot(x = range(1,20), y = train_scores, marker='o', label='Train Score')\n",
        "p = sns.lineplot(x = range(1,20), y = test_scores, marker='o', label='Test Score')"
      ],
      "metadata": {
        "colab": {
          "base_uri": "https://localhost:8080/",
          "height": 320
        },
        "id": "Owubj11zeSO1",
        "outputId": "9c88028d-2ebe-413a-a2f6-94af00c6dc85"
      },
      "execution_count": 232,
      "outputs": [
        {
          "output_type": "display_data",
          "data": {
            "text/plain": [
              "<Figure size 864x360 with 1 Axes>"
            ],
            "image/png": "[encoded data removed]"
          },
          "metadata": {
            "needs_background": "light"
          }
        }
      ]
    },
    {
      "cell_type": "markdown",
      "source": [
        "#### Matriz de confusión para los resultados obtenidos"
      ],
      "metadata": {
        "id": "ZR9EUHA4ktYN"
      }
    },
    {
      "cell_type": "code",
      "source": [
        "knn = KNeighborsClassifier(5)\n",
        "knn.fit(X_train,y_train)"
      ],
      "metadata": {
        "colab": {
          "base_uri": "https://localhost:8080/",
          "height": 75
        },
        "id": "gReoQEGWlWq7",
        "outputId": "cd75e79b-4550-42a5-fbeb-cc17f33244c3"
      },
      "execution_count": 244,
      "outputs": [
        {
          "output_type": "execute_result",
          "data": {
            "text/plain": [
              "KNeighborsClassifier()"
            ],
            "text/html": [
              "<style>#sk-container-id-6 {color: black;background-color: white;}#sk-container-id-6 pre{padding: 0;}#sk-container-id-6 div.sk-toggleable {background-color: white;}#sk-container-id-6 label.sk-toggleable__label {cursor: pointer;display: block;width: 100%;margin-bottom: 0;padding: 0.3em;box-sizing: border-box;text-align: center;}#sk-container-id-6 label.sk-toggleable__label-arrow:before {content: \"▸\";float: left;margin-right: 0.25em;color: #696969;}#sk-container-id-6 label.sk-toggleable__label-arrow:hover:before {color: black;}#sk-container-id-6 div.sk-estimator:hover label.sk-toggleable__label-arrow:before {color: black;}#sk-container-id-6 div.sk-toggleable__content {max-height: 0;max-width: 0;overflow: hidden;text-align: left;background-color: #f0f8ff;}#sk-container-id-6 div.sk-toggleable__content pre {margin: 0.2em;color: black;border-radius: 0.25em;background-color: #f0f8ff;}#sk-container-id-6 input.sk-toggleable__control:checked~div.sk-toggleable__content {max-height: 200px;max-width: 100%;overflow: auto;}#sk-container-id-6 input.sk-toggleable__control:checked~label.sk-toggleable__label-arrow:before {content: \"▾\";}#sk-container-id-6 div.sk-estimator input.sk-toggleable__control:checked~label.sk-toggleable__label {background-color: #d4ebff;}#sk-container-id-6 div.sk-label input.sk-toggleable__control:checked~label.sk-toggleable__label {background-color: #d4ebff;}#sk-container-id-6 input.sk-hidden--visually {border: 0;clip: rect(1px 1px 1px 1px);clip: rect(1px, 1px, 1px, 1px);height: 1px;margin: -1px;overflow: hidden;padding: 0;position: absolute;width: 1px;}#sk-container-id-6 div.sk-estimator {font-family: monospace;background-color: #f0f8ff;border: 1px dotted black;border-radius: 0.25em;box-sizing: border-box;margin-bottom: 0.5em;}#sk-container-id-6 div.sk-estimator:hover {background-color: #d4ebff;}#sk-container-id-6 div.sk-parallel-item::after {content: \"\";width: 100%;border-bottom: 1px solid gray;flex-grow: 1;}#sk-container-id-6 div.sk-label:hover label.sk-toggleable__label {background-color: #d4ebff;}#sk-container-id-6 div.sk-serial::before {content: \"\";position: absolute;border-left: 1px solid gray;box-sizing: border-box;top: 0;bottom: 0;left: 50%;z-index: 0;}#sk-container-id-6 div.sk-serial {display: flex;flex-direction: column;align-items: center;background-color: white;padding-right: 0.2em;padding-left: 0.2em;position: relative;}#sk-container-id-6 div.sk-item {position: relative;z-index: 1;}#sk-container-id-6 div.sk-parallel {display: flex;align-items: stretch;justify-content: center;background-color: white;position: relative;}#sk-container-id-6 div.sk-item::before, #sk-container-id-6 div.sk-parallel-item::before {content: \"\";position: absolute;border-left: 1px solid gray;box-sizing: border-box;top: 0;bottom: 0;left: 50%;z-index: -1;}#sk-container-id-6 div.sk-parallel-item {display: flex;flex-direction: column;z-index: 1;position: relative;background-color: white;}#sk-container-id-6 div.sk-parallel-item:first-child::after {align-self: flex-end;width: 50%;}#sk-container-id-6 div.sk-parallel-item:last-child::after {align-self: flex-start;width: 50%;}#sk-container-id-6 div.sk-parallel-item:only-child::after {width: 0;}#sk-container-id-6 div.sk-dashed-wrapped {border: 1px dashed gray;margin: 0 0.4em 0.5em 0.4em;box-sizing: border-box;padding-bottom: 0.4em;background-color: white;}#sk-container-id-6 div.sk-label label {font-family: monospace;font-weight: bold;display: inline-block;line-height: 1.2em;}#sk-container-id-6 div.sk-label-container {text-align: center;}#sk-container-id-6 div.sk-container {/* jupyter's `normalize.less` sets `[hidden] { display: none; }` but bootstrap.min.css set `[hidden] { display: none !important; }` so we also need the `!important` here to be able to override the default hidden behavior on the sphinx rendered scikit-learn.org. See: https://github.com/scikit-learn/scikit-learn/issues/21755 */display: inline-block !important;position: relative;}#sk-container-id-6 div.sk-text-repr-fallback {display: none;}</style><div id=\"sk-container-id-6\" class=\"sk-top-container\"><div class=\"sk-text-repr-fallback\"><pre>KNeighborsClassifier()</pre><b>In a Jupyter environment, please rerun this cell to show the HTML representation or trust the notebook. <br />On GitHub, the HTML representation is unable to render, please try loading this page with nbviewer.org.</b></div><div class=\"sk-container\" hidden><div class=\"sk-item\"><div class=\"sk-estimator sk-toggleable\"><input class=\"sk-toggleable__control sk-hidden--visually\" id=\"sk-estimator-id-6\" type=\"checkbox\" checked><label for=\"sk-estimator-id-6\" class=\"sk-toggleable__label sk-toggleable__label-arrow\">KNeighborsClassifier</label><div class=\"sk-toggleable__content\"><pre>KNeighborsClassifier()</pre></div></div></div></div></div>"
            ]
          },
          "metadata": {},
          "execution_count": 244
        }
      ]
    },
    {
      "cell_type": "code",
      "source": [
        "y_pred = knn.predict(X_test)\n",
        "from sklearn import metrics\n",
        "cnf_matrix = metrics.confusion_matrix(y_test, y_pred)\n",
        "p = sns.heatmap(pd.DataFrame(cnf_matrix), annot=True, cmap=\"YlGnBu\", fmt='g')\n",
        "plt.title('Confusion matrix', y=1.1)\n",
        "plt.ylabel('Respuesta actual')\n",
        "plt.xlabel('Respuesta predicha')"
      ],
      "metadata": {
        "colab": {
          "base_uri": "https://localhost:8080/",
          "height": 394
        },
        "id": "Sl8IklRVk3O9",
        "outputId": "387ed29a-e8f4-4596-8f47-85bfb991dcc5"
      },
      "execution_count": 241,
      "outputs": [
        {
          "output_type": "execute_result",
          "data": {
            "text/plain": [
              "Text(0.5, 24.0, 'Respuesta predicha')"
            ]
          },
          "metadata": {},
          "execution_count": 241
        },
        {
          "output_type": "display_data",
          "data": {
            "text/plain": [
              "<Figure size 720x360 with 2 Axes>"
            ],
            "image/png": "[encoded data removed]"
          },
          "metadata": {
            "needs_background": "light"
          }
        }
      ]
    },
    {
      "cell_type": "markdown",
      "source": [
        "#### Reporte:"
      ],
      "metadata": {
        "id": "HkuYcMoktQM2"
      }
    },
    {
      "cell_type": "code",
      "source": [
        "from sklearn.metrics import classification_report\n",
        "print(classification_report(y_test,y_pred))"
      ],
      "metadata": {
        "colab": {
          "base_uri": "https://localhost:8080/"
        },
        "id": "r_ZfJaBRtR5U",
        "outputId": "4ce99be4-45df-4c80-b98e-f5b0851162d0"
      },
      "execution_count": 236,
      "outputs": [
        {
          "output_type": "stream",
          "name": "stdout",
          "text": [
            "              precision    recall  f1-score   support\n",
            "\n",
            "           0       0.88      0.97      0.92       470\n",
            "           1       0.62      0.24      0.35        83\n",
            "\n",
            "    accuracy                           0.86       553\n",
            "   macro avg       0.75      0.61      0.64       553\n",
            "weighted avg       0.84      0.86      0.84       553\n",
            "\n"
          ]
        }
      ]
    },
    {
      "cell_type": "markdown",
      "source": [
        "Para los valores obtenidos, sean: <p>\n",
        "**TP**: La cantidad de verdaderos positivos <p>\n",
        "**FP**: La cantidad de falsos positivos (Error de tipo I)<p>\n",
        "**TN**: La cantidad de verdaderos negativos<p>\n",
        "**FN**: La cantidad de falsos negativos (Error de tipo II)<p>\n",
        "<p>\n",
        "\n",
        "---\n",
        "\n",
        "\n",
        "<p>\n",
        "\n",
        "*   Exactitud (*Accuracy*): <p>\n",
        "Refiere a lo cerca que está el resultado de una medición del valor verdadero. En términos estadísticos, está relacionada con el sesgo de una estimación. Se define como:<p>\n",
        "$Accuracy = {\\frac{TP+TN}{TP+FP+TN+FN}} = 0.86$\n",
        "\n",
        "*   Precisión (*Precision*): <p>\n",
        "Refiere a la dispersión del conjunto de valores obtenidos a partir de mediciones repetidas de una magnitud. Cuanto menor es la dispersión mayor la precisión. Se define como:<p>\n",
        "$Precision = {\\frac{TP}{TP+FP}} = 0.62$\n",
        "\n",
        "*   Sensibilidad (*Recall*):<p>\n",
        "Permite determinar la capacidad que tiene el estimador para discriminar los casos positivos de los negativos utilizando la tasa de verdaderos positivos.<p>\n",
        "$Recall = {\\frac{TP}{TP+FN}} = 0.24$\n",
        "\n",
        "*   Especificidad (*Especificity*):<p>\n",
        "Permite determinar la capacidad que tiene el estimador para discriminar los casos positivos de los negativos utilizando la tasa de verdaderos positivos.<p>\n",
        "$Especificity = {\\frac{TN}{TN+FP}} = 0.97$\n",
        "\n"
      ],
      "metadata": {
        "id": "yMdsFJ7Exs4F"
      }
    },
    {
      "cell_type": "markdown",
      "source": [
        "#### Conclusión: "
      ],
      "metadata": {
        "id": "dlwY0ujl9PQG"
      }
    },
    {
      "cell_type": "markdown",
      "source": [
        "Se observa que el modelo posee un baja sensibilidad, lo que implica que no discrimina muy bien entre los casos de aceptación y los casos de rechazo a la membresía. Pero, posee una buena precisión, lo que significa que cuando logra discriminar correctamente la clase, se vuelve confiable."
      ],
      "metadata": {
        "id": "jpJHSDeT-KPg"
      }
    }
  ],
  "metadata": {
    "colab": {
      "collapsed_sections": [
        "Z8-jF0E3OXXn",
        "aiFll5zbLjvo",
        "VdlChUMr20qU",
        "ZNlvfGKxLyBs",
        "IJDCo4CEMcUU",
        "12GP6hNJPY8J",
        "h46DL-U3kkzA"
      ],
      "provenance": []
    },
    "kernelspec": {
      "display_name": "Python 3",
      "name": "python3"
    },
    "language_info": {
      "name": "python"
    }
  },
  "nbformat": 4,
  "nbformat_minor": 0
}